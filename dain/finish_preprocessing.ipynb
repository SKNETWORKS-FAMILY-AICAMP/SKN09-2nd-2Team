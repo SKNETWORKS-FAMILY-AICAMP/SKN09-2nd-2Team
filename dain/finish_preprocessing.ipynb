{
 "cells": [
  {
   "cell_type": "code",
   "execution_count": 17,
   "metadata": {},
   "outputs": [],
   "source": [
    "import numpy as np\n",
    "import pandas as pd\n",
    "import seaborn as sns\n",
    "import matplotlib.pyplot as plt\n",
    "import warnings\n",
    "import math\n",
    "import seaborn as sns\n",
    "\n",
    "\n",
    "# 경고 메시지 숨기기\n",
    "warnings.filterwarnings(\"ignore\")"
   ]
  },
  {
   "cell_type": "code",
   "execution_count": 18,
   "metadata": {},
   "outputs": [],
   "source": [
    "df = pd.read_csv(\"./data/data_total.csv\")"
   ]
  },
  {
   "cell_type": "markdown",
   "metadata": {},
   "source": [
    "### 기간 파생변수 생성"
   ]
  },
  {
   "cell_type": "code",
   "execution_count": 19,
   "metadata": {},
   "outputs": [
    {
     "data": {
      "text/plain": [
       "Index(['Unnamed: 0', 'msno', 'city', 'bd', 'gender', 'registered_via',\n",
       "       'registration_init_time', 'is_churn', 'is_back', 'payment_plan_sum',\n",
       "       'plan_list_price', 'actual_amount_paid', 'discount_rate',\n",
       "       'is_auto_renew', 'membership_expire_date', 'is_cancel',\n",
       "       'transaction_count', 'num_25', 'num_50', 'num_75', 'num_985', 'num_100',\n",
       "       'num_unq', 'total_secs', 'log_start', 'log_end'],\n",
       "      dtype='object')"
      ]
     },
     "execution_count": 19,
     "metadata": {},
     "output_type": "execute_result"
    }
   ],
   "source": [
    "df.columns"
   ]
  },
  {
   "cell_type": "code",
   "execution_count": 20,
   "metadata": {},
   "outputs": [
    {
     "name": "stdout",
     "output_type": "stream",
     "text": [
      "<class 'pandas.core.frame.DataFrame'>\n",
      "RangeIndex: 856566 entries, 0 to 856565\n",
      "Data columns (total 26 columns):\n",
      " #   Column                  Non-Null Count   Dtype  \n",
      "---  ------                  --------------   -----  \n",
      " 0   Unnamed: 0              856566 non-null  int64  \n",
      " 1   msno                    856566 non-null  int64  \n",
      " 2   city                    856566 non-null  int64  \n",
      " 3   bd                      856566 non-null  int64  \n",
      " 4   gender                  368210 non-null  object \n",
      " 5   registered_via          856566 non-null  int64  \n",
      " 6   registration_init_time  856566 non-null  object \n",
      " 7   is_churn                856566 non-null  int64  \n",
      " 8   is_back                 856566 non-null  int64  \n",
      " 9   payment_plan_sum        856566 non-null  int64  \n",
      " 10  plan_list_price         856566 non-null  int64  \n",
      " 11  actual_amount_paid      856566 non-null  int64  \n",
      " 12  discount_rate           856566 non-null  float64\n",
      " 13  is_auto_renew           856566 non-null  float64\n",
      " 14  membership_expire_date  856566 non-null  object \n",
      " 15  is_cancel               856566 non-null  float64\n",
      " 16  transaction_count       856566 non-null  int64  \n",
      " 17  num_25                  856566 non-null  int64  \n",
      " 18  num_50                  856566 non-null  int64  \n",
      " 19  num_75                  856566 non-null  int64  \n",
      " 20  num_985                 856566 non-null  int64  \n",
      " 21  num_100                 856566 non-null  int64  \n",
      " 22  num_unq                 856566 non-null  int64  \n",
      " 23  total_secs              856566 non-null  float64\n",
      " 24  log_start               856566 non-null  int64  \n",
      " 25  log_end                 856566 non-null  int64  \n",
      "dtypes: float64(4), int64(19), object(3)\n",
      "memory usage: 169.9+ MB\n"
     ]
    }
   ],
   "source": [
    "df.info()"
   ]
  },
  {
   "cell_type": "code",
   "execution_count": 21,
   "metadata": {},
   "outputs": [],
   "source": [
    "def duration(df):\n",
    "    # membership_expire_date와 registration_init_time은 'YYYY-MM-DD' 형식으로 되어 있으므로, 그에 맞춰 변환\n",
    "    df['membership_expire_date'] = pd.to_datetime(df['membership_expire_date'], errors='coerce')\n",
    "    df['registration_init_time'] = pd.to_datetime(df['registration_init_time'], errors='coerce')\n",
    "    \n",
    "    # log_start와 log_end는 'YYYYMMDD' 형식이므로, 그에 맞춰 변환\n",
    "    df['log_start'] = pd.to_datetime(df['log_start'].astype(str), format='%Y%m%d', errors='coerce')\n",
    "    df['log_end'] = pd.to_datetime(df['log_end'].astype(str), format='%Y%m%d', errors='coerce')\n",
    "\n",
    "    # 등록기간 계산: membership_expire_date와 registration_init_time 차이\n",
    "    df['registration_duration'] = (df['membership_expire_date'] - df['registration_init_time']).dt.days\n",
    "\n",
    "    # 음악 청취 기간 계산: log_end와 log_start 차이\n",
    "    df['listening_duration'] = (df['log_end'] - df['log_start']).dt.days\n",
    "\n",
    "    # 필요 없는 컬럼 삭제\n",
    "    df.drop(['membership_expire_date', 'registration_init_time', 'log_start', 'log_end'], axis=1, inplace=True)\n",
    "\n",
    "    return df\n",
    "\n",
    "# 함수 실행\n",
    "df = duration(df)\n"
   ]
  },
  {
   "cell_type": "code",
   "execution_count": 23,
   "metadata": {},
   "outputs": [
    {
     "data": {
      "text/html": [
       "<div>\n",
       "<style scoped>\n",
       "    .dataframe tbody tr th:only-of-type {\n",
       "        vertical-align: middle;\n",
       "    }\n",
       "\n",
       "    .dataframe tbody tr th {\n",
       "        vertical-align: top;\n",
       "    }\n",
       "\n",
       "    .dataframe thead th {\n",
       "        text-align: right;\n",
       "    }\n",
       "</style>\n",
       "<table border=\"1\" class=\"dataframe\">\n",
       "  <thead>\n",
       "    <tr style=\"text-align: right;\">\n",
       "      <th></th>\n",
       "      <th>registration_duration</th>\n",
       "      <th>listening_duration</th>\n",
       "    </tr>\n",
       "  </thead>\n",
       "  <tbody>\n",
       "    <tr>\n",
       "      <th>0</th>\n",
       "      <td>2070</td>\n",
       "      <td>781</td>\n",
       "    </tr>\n",
       "    <tr>\n",
       "      <th>1</th>\n",
       "      <td>2168</td>\n",
       "      <td>220</td>\n",
       "    </tr>\n",
       "    <tr>\n",
       "      <th>2</th>\n",
       "      <td>2047</td>\n",
       "      <td>817</td>\n",
       "    </tr>\n",
       "    <tr>\n",
       "      <th>3</th>\n",
       "      <td>2048</td>\n",
       "      <td>817</td>\n",
       "    </tr>\n",
       "    <tr>\n",
       "      <th>4</th>\n",
       "      <td>2021</td>\n",
       "      <td>761</td>\n",
       "    </tr>\n",
       "  </tbody>\n",
       "</table>\n",
       "</div>"
      ],
      "text/plain": [
       "   registration_duration  listening_duration\n",
       "0                   2070                 781\n",
       "1                   2168                 220\n",
       "2                   2047                 817\n",
       "3                   2048                 817\n",
       "4                   2021                 761"
      ]
     },
     "execution_count": 23,
     "metadata": {},
     "output_type": "execute_result"
    }
   ],
   "source": [
    "df[['registration_duration', 'listening_duration']].head()"
   ]
  },
  {
   "cell_type": "markdown",
   "metadata": {},
   "source": [
    "### 성별 NAN삭제"
   ]
  },
  {
   "cell_type": "code",
   "execution_count": 25,
   "metadata": {},
   "outputs": [
    {
     "data": {
      "text/plain": [
       "488356"
      ]
     },
     "execution_count": 25,
     "metadata": {},
     "output_type": "execute_result"
    }
   ],
   "source": [
    "df['gender'].isna().sum()"
   ]
  },
  {
   "cell_type": "code",
   "execution_count": 26,
   "metadata": {},
   "outputs": [],
   "source": [
    "df = df[df['gender'].notna()]"
   ]
  },
  {
   "cell_type": "code",
   "execution_count": 27,
   "metadata": {},
   "outputs": [
    {
     "data": {
      "text/plain": [
       "0"
      ]
     },
     "execution_count": 27,
     "metadata": {},
     "output_type": "execute_result"
    }
   ],
   "source": [
    "df['gender'].isna().sum()"
   ]
  },
  {
   "cell_type": "code",
   "execution_count": 28,
   "metadata": {},
   "outputs": [
    {
     "name": "stdout",
     "output_type": "stream",
     "text": [
      "<class 'pandas.core.frame.DataFrame'>\n",
      "Index: 368210 entries, 0 to 856564\n",
      "Data columns (total 24 columns):\n",
      " #   Column                 Non-Null Count   Dtype  \n",
      "---  ------                 --------------   -----  \n",
      " 0   Unnamed: 0             368210 non-null  int64  \n",
      " 1   msno                   368210 non-null  int64  \n",
      " 2   city                   368210 non-null  int64  \n",
      " 3   bd                     368210 non-null  int64  \n",
      " 4   gender                 368210 non-null  object \n",
      " 5   registered_via         368210 non-null  int64  \n",
      " 6   is_churn               368210 non-null  int64  \n",
      " 7   is_back                368210 non-null  int64  \n",
      " 8   payment_plan_sum       368210 non-null  int64  \n",
      " 9   plan_list_price        368210 non-null  int64  \n",
      " 10  actual_amount_paid     368210 non-null  int64  \n",
      " 11  discount_rate          368210 non-null  float64\n",
      " 12  is_auto_renew          368210 non-null  float64\n",
      " 13  is_cancel              368210 non-null  float64\n",
      " 14  transaction_count      368210 non-null  int64  \n",
      " 15  num_25                 368210 non-null  int64  \n",
      " 16  num_50                 368210 non-null  int64  \n",
      " 17  num_75                 368210 non-null  int64  \n",
      " 18  num_985                368210 non-null  int64  \n",
      " 19  num_100                368210 non-null  int64  \n",
      " 20  num_unq                368210 non-null  int64  \n",
      " 21  total_secs             368210 non-null  float64\n",
      " 22  registration_duration  368210 non-null  int64  \n",
      " 23  listening_duration     368210 non-null  int64  \n",
      "dtypes: float64(4), int64(19), object(1)\n",
      "memory usage: 70.2+ MB\n"
     ]
    }
   ],
   "source": [
    "df.info()"
   ]
  },
  {
   "cell_type": "markdown",
   "metadata": {},
   "source": [
    "* 성별 인코딩"
   ]
  },
  {
   "cell_type": "code",
   "execution_count": 30,
   "metadata": {},
   "outputs": [
    {
     "data": {
      "text/plain": [
       "0           male\n",
       "1           male\n",
       "2           male\n",
       "4         female\n",
       "5         female\n",
       "           ...  \n",
       "856540      male\n",
       "856547      male\n",
       "856548    female\n",
       "856559      male\n",
       "856564    female\n",
       "Name: gender, Length: 368210, dtype: object"
      ]
     },
     "execution_count": 30,
     "metadata": {},
     "output_type": "execute_result"
    }
   ],
   "source": [
    "df['gender']"
   ]
  },
  {
   "cell_type": "code",
   "execution_count": 31,
   "metadata": {},
   "outputs": [],
   "source": [
    "def encode_gender(df):\n",
    "    # 성별 인코딩: M -> 1, F -> 0, nan -> -1 (또는 원하는 값으로 변경)\n",
    "    df['gender'] = df['gender'].map({'male': 1, 'female': 0})\n",
    "    \n",
    "    return df"
   ]
  },
  {
   "cell_type": "code",
   "execution_count": 32,
   "metadata": {},
   "outputs": [
    {
     "data": {
      "text/plain": [
       "array([1, 0], dtype=int64)"
      ]
     },
     "execution_count": 32,
     "metadata": {},
     "output_type": "execute_result"
    }
   ],
   "source": [
    "df = encode_gender(df)\n",
    "df['gender'].unique()"
   ]
  },
  {
   "cell_type": "markdown",
   "metadata": {},
   "source": [
    "### 나이 전처리"
   ]
  },
  {
   "cell_type": "markdown",
   "metadata": {},
   "source": [
    "* 나이 절대값"
   ]
  },
  {
   "cell_type": "code",
   "execution_count": 29,
   "metadata": {},
   "outputs": [],
   "source": [
    "df[\"bd\"] = df[\"bd\"].abs()"
   ]
  },
  {
   "cell_type": "markdown",
   "metadata": {},
   "source": [
    "* 나이 10이상 100이하 추출"
   ]
  },
  {
   "cell_type": "code",
   "execution_count": 33,
   "metadata": {},
   "outputs": [],
   "source": [
    "df = df[(df[\"bd\"] >= 10) & (df[\"bd\"] <= 100)]"
   ]
  },
  {
   "cell_type": "markdown",
   "metadata": {},
   "source": [
    "### 필요없는 컬럼 드롭"
   ]
  },
  {
   "cell_type": "code",
   "execution_count": 35,
   "metadata": {},
   "outputs": [],
   "source": [
    "df.drop(['Unnamed: 0', 'is_back', 'msno'], axis=1, inplace=True)"
   ]
  },
  {
   "cell_type": "code",
   "execution_count": 36,
   "metadata": {},
   "outputs": [
    {
     "name": "stdout",
     "output_type": "stream",
     "text": [
      "<class 'pandas.core.frame.DataFrame'>\n",
      "Index: 356277 entries, 0 to 856564\n",
      "Data columns (total 21 columns):\n",
      " #   Column                 Non-Null Count   Dtype  \n",
      "---  ------                 --------------   -----  \n",
      " 0   city                   356277 non-null  int64  \n",
      " 1   bd                     356277 non-null  int64  \n",
      " 2   gender                 356277 non-null  int64  \n",
      " 3   registered_via         356277 non-null  int64  \n",
      " 4   is_churn               356277 non-null  int64  \n",
      " 5   payment_plan_sum       356277 non-null  int64  \n",
      " 6   plan_list_price        356277 non-null  int64  \n",
      " 7   actual_amount_paid     356277 non-null  int64  \n",
      " 8   discount_rate          356277 non-null  float64\n",
      " 9   is_auto_renew          356277 non-null  float64\n",
      " 10  is_cancel              356277 non-null  float64\n",
      " 11  transaction_count      356277 non-null  int64  \n",
      " 12  num_25                 356277 non-null  int64  \n",
      " 13  num_50                 356277 non-null  int64  \n",
      " 14  num_75                 356277 non-null  int64  \n",
      " 15  num_985                356277 non-null  int64  \n",
      " 16  num_100                356277 non-null  int64  \n",
      " 17  num_unq                356277 non-null  int64  \n",
      " 18  total_secs             356277 non-null  float64\n",
      " 19  registration_duration  356277 non-null  int64  \n",
      " 20  listening_duration     356277 non-null  int64  \n",
      "dtypes: float64(4), int64(17)\n",
      "memory usage: 59.8 MB\n"
     ]
    }
   ],
   "source": [
    "df.info()"
   ]
  },
  {
   "cell_type": "markdown",
   "metadata": {},
   "source": [
    "### 최종 데이터 저장"
   ]
  },
  {
   "cell_type": "code",
   "execution_count": 37,
   "metadata": {},
   "outputs": [],
   "source": [
    "df.to_csv(\"Real_Total_Data.csv\", index=False)"
   ]
  },
  {
   "cell_type": "code",
   "execution_count": null,
   "metadata": {},
   "outputs": [],
   "source": []
  }
 ],
 "metadata": {
  "kernelspec": {
   "display_name": "new",
   "language": "python",
   "name": "python3"
  },
  "language_info": {
   "codemirror_mode": {
    "name": "ipython",
    "version": 3
   },
   "file_extension": ".py",
   "mimetype": "text/x-python",
   "name": "python",
   "nbconvert_exporter": "python",
   "pygments_lexer": "ipython3",
   "version": "3.12.8"
  }
 },
 "nbformat": 4,
 "nbformat_minor": 2
}
