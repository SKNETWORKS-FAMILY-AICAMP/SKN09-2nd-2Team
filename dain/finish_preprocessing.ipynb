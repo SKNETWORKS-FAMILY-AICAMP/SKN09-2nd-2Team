{
 "cells": [
  {
   "cell_type": "code",
   "execution_count": 2,
   "metadata": {},
   "outputs": [],
   "source": [
    "import numpy as np\n",
    "import pandas as pd\n",
    "import seaborn as sns\n",
    "import matplotlib.pyplot as plt\n",
    "import warnings\n",
    "import math\n",
    "import seaborn as sns\n",
    "\n",
    "\n",
    "# 경고 메시지 숨기기\n",
    "warnings.filterwarnings(\"ignore\")"
   ]
  },
  {
   "cell_type": "code",
   "execution_count": 8,
   "metadata": {},
   "outputs": [
    {
     "data": {
      "text/html": [
       "<div>\n",
       "<style scoped>\n",
       "    .dataframe tbody tr th:only-of-type {\n",
       "        vertical-align: middle;\n",
       "    }\n",
       "\n",
       "    .dataframe tbody tr th {\n",
       "        vertical-align: top;\n",
       "    }\n",
       "\n",
       "    .dataframe thead th {\n",
       "        text-align: right;\n",
       "    }\n",
       "</style>\n",
       "<table border=\"1\" class=\"dataframe\">\n",
       "  <thead>\n",
       "    <tr style=\"text-align: right;\">\n",
       "      <th></th>\n",
       "      <th>Unnamed: 0</th>\n",
       "      <th>msno</th>\n",
       "      <th>city</th>\n",
       "      <th>bd</th>\n",
       "      <th>gender</th>\n",
       "      <th>registered_via</th>\n",
       "      <th>registration_init_time</th>\n",
       "      <th>is_churn</th>\n",
       "      <th>is_back</th>\n",
       "      <th>payment_plan_sum</th>\n",
       "      <th>...</th>\n",
       "      <th>transaction_count</th>\n",
       "      <th>num_25</th>\n",
       "      <th>num_50</th>\n",
       "      <th>num_75</th>\n",
       "      <th>num_985</th>\n",
       "      <th>num_100</th>\n",
       "      <th>num_unq</th>\n",
       "      <th>total_secs</th>\n",
       "      <th>log_start</th>\n",
       "      <th>log_end</th>\n",
       "    </tr>\n",
       "  </thead>\n",
       "  <tbody>\n",
       "    <tr>\n",
       "      <th>0</th>\n",
       "      <td>1</td>\n",
       "      <td>6597367</td>\n",
       "      <td>4</td>\n",
       "      <td>30</td>\n",
       "      <td>male</td>\n",
       "      <td>9</td>\n",
       "      <td>2011-09-16</td>\n",
       "      <td>0</td>\n",
       "      <td>0</td>\n",
       "      <td>603</td>\n",
       "      <td>...</td>\n",
       "      <td>21</td>\n",
       "      <td>77</td>\n",
       "      <td>22</td>\n",
       "      <td>16</td>\n",
       "      <td>44</td>\n",
       "      <td>658</td>\n",
       "      <td>287</td>\n",
       "      <td>171508.646</td>\n",
       "      <td>20150209</td>\n",
       "      <td>20170331</td>\n",
       "    </tr>\n",
       "    <tr>\n",
       "      <th>1</th>\n",
       "      <td>2</td>\n",
       "      <td>3629318</td>\n",
       "      <td>5</td>\n",
       "      <td>34</td>\n",
       "      <td>male</td>\n",
       "      <td>9</td>\n",
       "      <td>2011-09-16</td>\n",
       "      <td>1</td>\n",
       "      <td>0</td>\n",
       "      <td>360</td>\n",
       "      <td>...</td>\n",
       "      <td>2</td>\n",
       "      <td>145</td>\n",
       "      <td>84</td>\n",
       "      <td>58</td>\n",
       "      <td>42</td>\n",
       "      <td>1678</td>\n",
       "      <td>1158</td>\n",
       "      <td>448313.054</td>\n",
       "      <td>20160822</td>\n",
       "      <td>20170330</td>\n",
       "    </tr>\n",
       "    <tr>\n",
       "      <th>2</th>\n",
       "      <td>3</td>\n",
       "      <td>2120253</td>\n",
       "      <td>13</td>\n",
       "      <td>63</td>\n",
       "      <td>male</td>\n",
       "      <td>9</td>\n",
       "      <td>2011-09-18</td>\n",
       "      <td>0</td>\n",
       "      <td>0</td>\n",
       "      <td>783</td>\n",
       "      <td>...</td>\n",
       "      <td>27</td>\n",
       "      <td>1173</td>\n",
       "      <td>390</td>\n",
       "      <td>246</td>\n",
       "      <td>308</td>\n",
       "      <td>5003</td>\n",
       "      <td>5784</td>\n",
       "      <td>1435958.164</td>\n",
       "      <td>20150103</td>\n",
       "      <td>20170330</td>\n",
       "    </tr>\n",
       "    <tr>\n",
       "      <th>3</th>\n",
       "      <td>4</td>\n",
       "      <td>2836580</td>\n",
       "      <td>1</td>\n",
       "      <td>0</td>\n",
       "      <td>NaN</td>\n",
       "      <td>7</td>\n",
       "      <td>2011-09-18</td>\n",
       "      <td>1</td>\n",
       "      <td>0</td>\n",
       "      <td>780</td>\n",
       "      <td>...</td>\n",
       "      <td>27</td>\n",
       "      <td>830</td>\n",
       "      <td>252</td>\n",
       "      <td>197</td>\n",
       "      <td>276</td>\n",
       "      <td>3326</td>\n",
       "      <td>3543</td>\n",
       "      <td>982573.945</td>\n",
       "      <td>20150101</td>\n",
       "      <td>20170328</td>\n",
       "    </tr>\n",
       "    <tr>\n",
       "      <th>4</th>\n",
       "      <td>5</td>\n",
       "      <td>661240</td>\n",
       "      <td>4</td>\n",
       "      <td>28</td>\n",
       "      <td>female</td>\n",
       "      <td>9</td>\n",
       "      <td>2011-09-20</td>\n",
       "      <td>0</td>\n",
       "      <td>0</td>\n",
       "      <td>270</td>\n",
       "      <td>...</td>\n",
       "      <td>10</td>\n",
       "      <td>81</td>\n",
       "      <td>20</td>\n",
       "      <td>12</td>\n",
       "      <td>16</td>\n",
       "      <td>438</td>\n",
       "      <td>343</td>\n",
       "      <td>107171.103</td>\n",
       "      <td>20150301</td>\n",
       "      <td>20170331</td>\n",
       "    </tr>\n",
       "    <tr>\n",
       "      <th>...</th>\n",
       "      <td>...</td>\n",
       "      <td>...</td>\n",
       "      <td>...</td>\n",
       "      <td>...</td>\n",
       "      <td>...</td>\n",
       "      <td>...</td>\n",
       "      <td>...</td>\n",
       "      <td>...</td>\n",
       "      <td>...</td>\n",
       "      <td>...</td>\n",
       "      <td>...</td>\n",
       "      <td>...</td>\n",
       "      <td>...</td>\n",
       "      <td>...</td>\n",
       "      <td>...</td>\n",
       "      <td>...</td>\n",
       "      <td>...</td>\n",
       "      <td>...</td>\n",
       "      <td>...</td>\n",
       "      <td>...</td>\n",
       "      <td>...</td>\n",
       "    </tr>\n",
       "    <tr>\n",
       "      <th>856561</th>\n",
       "      <td>955121</td>\n",
       "      <td>4441402</td>\n",
       "      <td>1</td>\n",
       "      <td>0</td>\n",
       "      <td>NaN</td>\n",
       "      <td>7</td>\n",
       "      <td>2015-10-20</td>\n",
       "      <td>0</td>\n",
       "      <td>0</td>\n",
       "      <td>540</td>\n",
       "      <td>...</td>\n",
       "      <td>18</td>\n",
       "      <td>356</td>\n",
       "      <td>254</td>\n",
       "      <td>115</td>\n",
       "      <td>75</td>\n",
       "      <td>700</td>\n",
       "      <td>988</td>\n",
       "      <td>253640.163</td>\n",
       "      <td>20151020</td>\n",
       "      <td>20170331</td>\n",
       "    </tr>\n",
       "    <tr>\n",
       "      <th>856562</th>\n",
       "      <td>955122</td>\n",
       "      <td>2788470</td>\n",
       "      <td>1</td>\n",
       "      <td>0</td>\n",
       "      <td>NaN</td>\n",
       "      <td>7</td>\n",
       "      <td>2015-10-20</td>\n",
       "      <td>0</td>\n",
       "      <td>0</td>\n",
       "      <td>540</td>\n",
       "      <td>...</td>\n",
       "      <td>18</td>\n",
       "      <td>4662</td>\n",
       "      <td>680</td>\n",
       "      <td>544</td>\n",
       "      <td>746</td>\n",
       "      <td>13437</td>\n",
       "      <td>16732</td>\n",
       "      <td>3658622.489</td>\n",
       "      <td>20151020</td>\n",
       "      <td>20170331</td>\n",
       "    </tr>\n",
       "    <tr>\n",
       "      <th>856563</th>\n",
       "      <td>955123</td>\n",
       "      <td>2755294</td>\n",
       "      <td>1</td>\n",
       "      <td>0</td>\n",
       "      <td>NaN</td>\n",
       "      <td>7</td>\n",
       "      <td>2015-10-20</td>\n",
       "      <td>0</td>\n",
       "      <td>0</td>\n",
       "      <td>540</td>\n",
       "      <td>...</td>\n",
       "      <td>18</td>\n",
       "      <td>439</td>\n",
       "      <td>91</td>\n",
       "      <td>56</td>\n",
       "      <td>57</td>\n",
       "      <td>7421</td>\n",
       "      <td>4749</td>\n",
       "      <td>1376617.577</td>\n",
       "      <td>20151023</td>\n",
       "      <td>20170331</td>\n",
       "    </tr>\n",
       "    <tr>\n",
       "      <th>856564</th>\n",
       "      <td>955124</td>\n",
       "      <td>6133792</td>\n",
       "      <td>6</td>\n",
       "      <td>26</td>\n",
       "      <td>female</td>\n",
       "      <td>7</td>\n",
       "      <td>2015-10-20</td>\n",
       "      <td>0</td>\n",
       "      <td>0</td>\n",
       "      <td>570</td>\n",
       "      <td>...</td>\n",
       "      <td>19</td>\n",
       "      <td>10890</td>\n",
       "      <td>1055</td>\n",
       "      <td>631</td>\n",
       "      <td>513</td>\n",
       "      <td>6457</td>\n",
       "      <td>15314</td>\n",
       "      <td>1954030.130</td>\n",
       "      <td>20151020</td>\n",
       "      <td>20170331</td>\n",
       "    </tr>\n",
       "    <tr>\n",
       "      <th>856565</th>\n",
       "      <td>955125</td>\n",
       "      <td>5452298</td>\n",
       "      <td>1</td>\n",
       "      <td>0</td>\n",
       "      <td>NaN</td>\n",
       "      <td>7</td>\n",
       "      <td>2015-10-20</td>\n",
       "      <td>0</td>\n",
       "      <td>0</td>\n",
       "      <td>540</td>\n",
       "      <td>...</td>\n",
       "      <td>18</td>\n",
       "      <td>860</td>\n",
       "      <td>187</td>\n",
       "      <td>129</td>\n",
       "      <td>110</td>\n",
       "      <td>2976</td>\n",
       "      <td>2926</td>\n",
       "      <td>811341.331</td>\n",
       "      <td>20151025</td>\n",
       "      <td>20170326</td>\n",
       "    </tr>\n",
       "  </tbody>\n",
       "</table>\n",
       "<p>856566 rows × 26 columns</p>\n",
       "</div>"
      ],
      "text/plain": [
       "        Unnamed: 0     msno  city  bd  gender  registered_via  \\\n",
       "0                1  6597367     4  30    male               9   \n",
       "1                2  3629318     5  34    male               9   \n",
       "2                3  2120253    13  63    male               9   \n",
       "3                4  2836580     1   0     NaN               7   \n",
       "4                5   661240     4  28  female               9   \n",
       "...            ...      ...   ...  ..     ...             ...   \n",
       "856561      955121  4441402     1   0     NaN               7   \n",
       "856562      955122  2788470     1   0     NaN               7   \n",
       "856563      955123  2755294     1   0     NaN               7   \n",
       "856564      955124  6133792     6  26  female               7   \n",
       "856565      955125  5452298     1   0     NaN               7   \n",
       "\n",
       "       registration_init_time  is_churn  is_back  payment_plan_sum  ...  \\\n",
       "0                  2011-09-16         0        0               603  ...   \n",
       "1                  2011-09-16         1        0               360  ...   \n",
       "2                  2011-09-18         0        0               783  ...   \n",
       "3                  2011-09-18         1        0               780  ...   \n",
       "4                  2011-09-20         0        0               270  ...   \n",
       "...                       ...       ...      ...               ...  ...   \n",
       "856561             2015-10-20         0        0               540  ...   \n",
       "856562             2015-10-20         0        0               540  ...   \n",
       "856563             2015-10-20         0        0               540  ...   \n",
       "856564             2015-10-20         0        0               570  ...   \n",
       "856565             2015-10-20         0        0               540  ...   \n",
       "\n",
       "        transaction_count  num_25  num_50  num_75 num_985  num_100  num_unq  \\\n",
       "0                      21      77      22      16      44      658      287   \n",
       "1                       2     145      84      58      42     1678     1158   \n",
       "2                      27    1173     390     246     308     5003     5784   \n",
       "3                      27     830     252     197     276     3326     3543   \n",
       "4                      10      81      20      12      16      438      343   \n",
       "...                   ...     ...     ...     ...     ...      ...      ...   \n",
       "856561                 18     356     254     115      75      700      988   \n",
       "856562                 18    4662     680     544     746    13437    16732   \n",
       "856563                 18     439      91      56      57     7421     4749   \n",
       "856564                 19   10890    1055     631     513     6457    15314   \n",
       "856565                 18     860     187     129     110     2976     2926   \n",
       "\n",
       "         total_secs  log_start   log_end  \n",
       "0        171508.646   20150209  20170331  \n",
       "1        448313.054   20160822  20170330  \n",
       "2       1435958.164   20150103  20170330  \n",
       "3        982573.945   20150101  20170328  \n",
       "4        107171.103   20150301  20170331  \n",
       "...             ...        ...       ...  \n",
       "856561   253640.163   20151020  20170331  \n",
       "856562  3658622.489   20151020  20170331  \n",
       "856563  1376617.577   20151023  20170331  \n",
       "856564  1954030.130   20151020  20170331  \n",
       "856565   811341.331   20151025  20170326  \n",
       "\n",
       "[856566 rows x 26 columns]"
      ]
     },
     "execution_count": 8,
     "metadata": {},
     "output_type": "execute_result"
    }
   ],
   "source": [
    "df = pd.read_csv(\"../model/data_total.csv\")\n",
    "df"
   ]
  },
  {
   "cell_type": "markdown",
   "metadata": {},
   "source": [
    "### 기간 파생변수 생성"
   ]
  },
  {
   "cell_type": "code",
   "execution_count": 9,
   "metadata": {},
   "outputs": [
    {
     "data": {
      "text/plain": [
       "Index(['Unnamed: 0', 'msno', 'city', 'bd', 'gender', 'registered_via',\n",
       "       'registration_init_time', 'is_churn', 'is_back', 'payment_plan_sum',\n",
       "       'plan_list_price', 'actual_amount_paid', 'discount_rate',\n",
       "       'is_auto_renew', 'membership_expire_date', 'is_cancel',\n",
       "       'transaction_count', 'num_25', 'num_50', 'num_75', 'num_985', 'num_100',\n",
       "       'num_unq', 'total_secs', 'log_start', 'log_end'],\n",
       "      dtype='object')"
      ]
     },
     "execution_count": 9,
     "metadata": {},
     "output_type": "execute_result"
    }
   ],
   "source": [
    "df.columns"
   ]
  },
  {
   "cell_type": "code",
   "execution_count": 10,
   "metadata": {},
   "outputs": [
    {
     "name": "stdout",
     "output_type": "stream",
     "text": [
      "<class 'pandas.core.frame.DataFrame'>\n",
      "RangeIndex: 856566 entries, 0 to 856565\n",
      "Data columns (total 26 columns):\n",
      " #   Column                  Non-Null Count   Dtype  \n",
      "---  ------                  --------------   -----  \n",
      " 0   Unnamed: 0              856566 non-null  int64  \n",
      " 1   msno                    856566 non-null  int64  \n",
      " 2   city                    856566 non-null  int64  \n",
      " 3   bd                      856566 non-null  int64  \n",
      " 4   gender                  368210 non-null  object \n",
      " 5   registered_via          856566 non-null  int64  \n",
      " 6   registration_init_time  856566 non-null  object \n",
      " 7   is_churn                856566 non-null  int64  \n",
      " 8   is_back                 856566 non-null  int64  \n",
      " 9   payment_plan_sum        856566 non-null  int64  \n",
      " 10  plan_list_price         856566 non-null  int64  \n",
      " 11  actual_amount_paid      856566 non-null  int64  \n",
      " 12  discount_rate           856566 non-null  float64\n",
      " 13  is_auto_renew           856566 non-null  float64\n",
      " 14  membership_expire_date  856566 non-null  object \n",
      " 15  is_cancel               856566 non-null  float64\n",
      " 16  transaction_count       856566 non-null  int64  \n",
      " 17  num_25                  856566 non-null  int64  \n",
      " 18  num_50                  856566 non-null  int64  \n",
      " 19  num_75                  856566 non-null  int64  \n",
      " 20  num_985                 856566 non-null  int64  \n",
      " 21  num_100                 856566 non-null  int64  \n",
      " 22  num_unq                 856566 non-null  int64  \n",
      " 23  total_secs              856566 non-null  float64\n",
      " 24  log_start               856566 non-null  int64  \n",
      " 25  log_end                 856566 non-null  int64  \n",
      "dtypes: float64(4), int64(19), object(3)\n",
      "memory usage: 169.9+ MB\n"
     ]
    }
   ],
   "source": [
    "df.info()"
   ]
  },
  {
   "cell_type": "code",
   "execution_count": 11,
   "metadata": {},
   "outputs": [],
   "source": [
    "def duration(df):\n",
    "    # membership_expire_date와 registration_init_time은 'YYYY-MM-DD' 형식으로 되어 있으므로, 그에 맞춰 변환\n",
    "    df['membership_expire_date'] = pd.to_datetime(df['membership_expire_date'], errors='coerce')\n",
    "    df['registration_init_time'] = pd.to_datetime(df['registration_init_time'], errors='coerce')\n",
    "    \n",
    "    # log_start와 log_end는 'YYYYMMDD' 형식이므로, 그에 맞춰 변환\n",
    "    df['log_start'] = pd.to_datetime(df['log_start'].astype(str), format='%Y%m%d', errors='coerce')\n",
    "    df['log_end'] = pd.to_datetime(df['log_end'].astype(str), format='%Y%m%d', errors='coerce')\n",
    "\n",
    "    # 등록기간 계산: membership_expire_date와 registration_init_time 차이\n",
    "    df['registration_duration'] = (df['membership_expire_date'] - df['registration_init_time']).dt.days\n",
    "\n",
    "    # 음악 청취 기간 계산: log_end와 log_start 차이\n",
    "    df['listening_duration'] = (df['log_end'] - df['log_start']).dt.days\n",
    "\n",
    "    # 필요 없는 컬럼 삭제\n",
    "    df.drop(['membership_expire_date', 'registration_init_time', 'log_start', 'log_end'], axis=1, inplace=True)\n",
    "\n",
    "    return df\n",
    "\n",
    "# 함수 실행\n",
    "df = duration(df)\n"
   ]
  },
  {
   "cell_type": "code",
   "execution_count": 12,
   "metadata": {},
   "outputs": [
    {
     "data": {
      "text/html": [
       "<div>\n",
       "<style scoped>\n",
       "    .dataframe tbody tr th:only-of-type {\n",
       "        vertical-align: middle;\n",
       "    }\n",
       "\n",
       "    .dataframe tbody tr th {\n",
       "        vertical-align: top;\n",
       "    }\n",
       "\n",
       "    .dataframe thead th {\n",
       "        text-align: right;\n",
       "    }\n",
       "</style>\n",
       "<table border=\"1\" class=\"dataframe\">\n",
       "  <thead>\n",
       "    <tr style=\"text-align: right;\">\n",
       "      <th></th>\n",
       "      <th>registration_duration</th>\n",
       "      <th>listening_duration</th>\n",
       "    </tr>\n",
       "  </thead>\n",
       "  <tbody>\n",
       "    <tr>\n",
       "      <th>0</th>\n",
       "      <td>2070</td>\n",
       "      <td>781</td>\n",
       "    </tr>\n",
       "    <tr>\n",
       "      <th>1</th>\n",
       "      <td>2168</td>\n",
       "      <td>220</td>\n",
       "    </tr>\n",
       "    <tr>\n",
       "      <th>2</th>\n",
       "      <td>2047</td>\n",
       "      <td>817</td>\n",
       "    </tr>\n",
       "    <tr>\n",
       "      <th>3</th>\n",
       "      <td>2048</td>\n",
       "      <td>817</td>\n",
       "    </tr>\n",
       "    <tr>\n",
       "      <th>4</th>\n",
       "      <td>2021</td>\n",
       "      <td>761</td>\n",
       "    </tr>\n",
       "  </tbody>\n",
       "</table>\n",
       "</div>"
      ],
      "text/plain": [
       "   registration_duration  listening_duration\n",
       "0                   2070                 781\n",
       "1                   2168                 220\n",
       "2                   2047                 817\n",
       "3                   2048                 817\n",
       "4                   2021                 761"
      ]
     },
     "execution_count": 12,
     "metadata": {},
     "output_type": "execute_result"
    }
   ],
   "source": [
    "df[['registration_duration', 'listening_duration']].head()"
   ]
  },
  {
   "cell_type": "markdown",
   "metadata": {},
   "source": [
    "### 성별 NAN삭제"
   ]
  },
  {
   "cell_type": "code",
   "execution_count": 13,
   "metadata": {},
   "outputs": [
    {
     "data": {
      "text/plain": [
       "488356"
      ]
     },
     "execution_count": 13,
     "metadata": {},
     "output_type": "execute_result"
    }
   ],
   "source": [
    "df['gender'].isna().sum()"
   ]
  },
  {
   "cell_type": "code",
   "execution_count": 14,
   "metadata": {},
   "outputs": [],
   "source": [
    "df = df[df['gender'].notna()]"
   ]
  },
  {
   "cell_type": "code",
   "execution_count": 15,
   "metadata": {},
   "outputs": [
    {
     "data": {
      "text/plain": [
       "0"
      ]
     },
     "execution_count": 15,
     "metadata": {},
     "output_type": "execute_result"
    }
   ],
   "source": [
    "df['gender'].isna().sum()"
   ]
  },
  {
   "cell_type": "code",
   "execution_count": 16,
   "metadata": {},
   "outputs": [
    {
     "name": "stdout",
     "output_type": "stream",
     "text": [
      "<class 'pandas.core.frame.DataFrame'>\n",
      "Index: 368210 entries, 0 to 856564\n",
      "Data columns (total 24 columns):\n",
      " #   Column                 Non-Null Count   Dtype  \n",
      "---  ------                 --------------   -----  \n",
      " 0   Unnamed: 0             368210 non-null  int64  \n",
      " 1   msno                   368210 non-null  int64  \n",
      " 2   city                   368210 non-null  int64  \n",
      " 3   bd                     368210 non-null  int64  \n",
      " 4   gender                 368210 non-null  object \n",
      " 5   registered_via         368210 non-null  int64  \n",
      " 6   is_churn               368210 non-null  int64  \n",
      " 7   is_back                368210 non-null  int64  \n",
      " 8   payment_plan_sum       368210 non-null  int64  \n",
      " 9   plan_list_price        368210 non-null  int64  \n",
      " 10  actual_amount_paid     368210 non-null  int64  \n",
      " 11  discount_rate          368210 non-null  float64\n",
      " 12  is_auto_renew          368210 non-null  float64\n",
      " 13  is_cancel              368210 non-null  float64\n",
      " 14  transaction_count      368210 non-null  int64  \n",
      " 15  num_25                 368210 non-null  int64  \n",
      " 16  num_50                 368210 non-null  int64  \n",
      " 17  num_75                 368210 non-null  int64  \n",
      " 18  num_985                368210 non-null  int64  \n",
      " 19  num_100                368210 non-null  int64  \n",
      " 20  num_unq                368210 non-null  int64  \n",
      " 21  total_secs             368210 non-null  float64\n",
      " 22  registration_duration  368210 non-null  int64  \n",
      " 23  listening_duration     368210 non-null  int64  \n",
      "dtypes: float64(4), int64(19), object(1)\n",
      "memory usage: 70.2+ MB\n"
     ]
    }
   ],
   "source": [
    "df.info()"
   ]
  },
  {
   "cell_type": "markdown",
   "metadata": {},
   "source": [
    "* 성별 인코딩"
   ]
  },
  {
   "cell_type": "code",
   "execution_count": 17,
   "metadata": {},
   "outputs": [
    {
     "data": {
      "text/plain": [
       "0           male\n",
       "1           male\n",
       "2           male\n",
       "4         female\n",
       "5         female\n",
       "           ...  \n",
       "856540      male\n",
       "856547      male\n",
       "856548    female\n",
       "856559      male\n",
       "856564    female\n",
       "Name: gender, Length: 368210, dtype: object"
      ]
     },
     "execution_count": 17,
     "metadata": {},
     "output_type": "execute_result"
    }
   ],
   "source": [
    "df['gender']"
   ]
  },
  {
   "cell_type": "code",
   "execution_count": 18,
   "metadata": {},
   "outputs": [],
   "source": [
    "def encode_gender(df):\n",
    "    # 성별 인코딩: M -> 1, F -> 0, nan -> -1 (또는 원하는 값으로 변경)\n",
    "    df['gender'] = df['gender'].map({'male': 1, 'female': 0})\n",
    "    \n",
    "    return df"
   ]
  },
  {
   "cell_type": "code",
   "execution_count": null,
   "metadata": {},
   "outputs": [
    {
     "data": {
      "text/plain": [
       "array([1, 0], dtype=int64)"
      ]
     },
     "execution_count": 19,
     "metadata": {},
     "output_type": "execute_result"
    }
   ],
   "source": [
    "df = encode_gender(df)\n",
    "df['gender'].unique()"
   ]
  },
  {
   "cell_type": "markdown",
   "metadata": {},
   "source": [
    "### 나이 전처리"
   ]
  },
  {
   "cell_type": "markdown",
   "metadata": {},
   "source": [
    "* 나이 절대값"
   ]
  },
  {
   "cell_type": "code",
   "execution_count": 29,
   "metadata": {},
   "outputs": [],
   "source": [
    "df[\"bd\"] = df[\"bd\"].abs()"
   ]
  },
  {
   "cell_type": "markdown",
   "metadata": {},
   "source": [
    "* 나이 10이상 100이하 추출"
   ]
  },
  {
   "cell_type": "code",
   "execution_count": 33,
   "metadata": {},
   "outputs": [],
   "source": [
    "df = df[(df[\"bd\"] >= 10) & (df[\"bd\"] <= 100)]"
   ]
  },
  {
   "cell_type": "markdown",
   "metadata": {},
   "source": [
    "### 필요없는 컬럼 드롭"
   ]
  },
  {
   "cell_type": "code",
   "execution_count": null,
   "metadata": {},
   "outputs": [],
   "source": [
    "df.drop(['Unnamed: 0', 'is_back', 'msno'], axis=1, inplace=True)"
   ]
  },
  {
   "cell_type": "code",
   "execution_count": 36,
   "metadata": {},
   "outputs": [
    {
     "name": "stdout",
     "output_type": "stream",
     "text": [
      "<class 'pandas.core.frame.DataFrame'>\n",
      "Index: 356277 entries, 0 to 856564\n",
      "Data columns (total 22 columns):\n",
      " #   Column                 Non-Null Count   Dtype  \n",
      "---  ------                 --------------   -----  \n",
      " 0   city                   356277 non-null  int64  \n",
      " 1   bd                     356277 non-null  int64  \n",
      " 2   gender                 356277 non-null  int64  \n",
      " 3   registered_via         356277 non-null  int64  \n",
      " 4   is_churn               356277 non-null  int64  \n",
      " 5   is_back                356277 non-null  int64  \n",
      " 6   payment_plan_sum       356277 non-null  int64  \n",
      " 7   plan_list_price        356277 non-null  int64  \n",
      " 8   actual_amount_paid     356277 non-null  int64  \n",
      " 9   discount_rate          356277 non-null  float64\n",
      " 10  is_auto_renew          356277 non-null  float64\n",
      " 11  is_cancel              356277 non-null  float64\n",
      " 12  transaction_count      356277 non-null  int64  \n",
      " 13  num_25                 356277 non-null  int64  \n",
      " 14  num_50                 356277 non-null  int64  \n",
      " 15  num_75                 356277 non-null  int64  \n",
      " 16  num_985                356277 non-null  int64  \n",
      " 17  num_100                356277 non-null  int64  \n",
      " 18  num_unq                356277 non-null  int64  \n",
      " 19  total_secs             356277 non-null  float64\n",
      " 20  registration_duration  356277 non-null  int64  \n",
      " 21  listening_duration     356277 non-null  int64  \n",
      "dtypes: float64(4), int64(18)\n",
      "memory usage: 62.5 MB\n"
     ]
    }
   ],
   "source": [
    "df.info()"
   ]
  },
  {
   "cell_type": "markdown",
   "metadata": {},
   "source": [
    "### 최종 데이터 저장"
   ]
  },
  {
   "cell_type": "code",
   "execution_count": 37,
   "metadata": {},
   "outputs": [],
   "source": [
    "df.to_csv(\"../model/is_back+churn_Data.csv\", index=False)"
   ]
  },
  {
   "cell_type": "code",
   "execution_count": null,
   "metadata": {},
   "outputs": [],
   "source": []
  }
 ],
 "metadata": {
  "kernelspec": {
   "display_name": "pystudy_env",
   "language": "python",
   "name": "python3"
  },
  "language_info": {
   "codemirror_mode": {
    "name": "ipython",
    "version": 3
   },
   "file_extension": ".py",
   "mimetype": "text/x-python",
   "name": "python",
   "nbconvert_exporter": "python",
   "pygments_lexer": "ipython3",
   "version": "3.12.8"
  }
 },
 "nbformat": 4,
 "nbformat_minor": 2
}
