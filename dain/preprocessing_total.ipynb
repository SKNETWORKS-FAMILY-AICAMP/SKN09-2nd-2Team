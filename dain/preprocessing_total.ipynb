{
 "cells": [
  {
   "cell_type": "code",
   "execution_count": 99,
   "metadata": {},
   "outputs": [],
   "source": [
    "import numpy as np\n",
    "import pandas as pd\n",
    "import seaborn as sns\n",
    "import matplotlib.pyplot as plt\n",
    "import warnings\n",
    "import math\n",
    "import seaborn as sns\n",
    "from sklearn.ensemble import RandomForestClassifier\n",
    "from sklearn.preprocessing import OneHotEncoder\n",
    "from sklearn.preprocessing import StandardScaler\n",
    "from sklearn.model_selection import train_test_split\n",
    "# 경고 메시지 숨기기\n",
    "warnings.filterwarnings(\"ignore\")"
   ]
  },
  {
   "cell_type": "code",
   "execution_count": 100,
   "metadata": {},
   "outputs": [],
   "source": [
    "df = pd.read_csv(\"./data/data_total.csv\")"
   ]
  },
  {
   "cell_type": "markdown",
   "metadata": {},
   "source": [
    "### 날짜 타입 변경 및 년/월/일 분리"
   ]
  },
  {
   "cell_type": "code",
   "execution_count": 101,
   "metadata": {},
   "outputs": [
    {
     "name": "stdout",
     "output_type": "stream",
     "text": [
      "<class 'pandas.core.frame.DataFrame'>\n",
      "RangeIndex: 856566 entries, 0 to 856565\n",
      "Data columns (total 26 columns):\n",
      " #   Column                  Non-Null Count   Dtype  \n",
      "---  ------                  --------------   -----  \n",
      " 0   Unnamed: 0              856566 non-null  int64  \n",
      " 1   msno                    856566 non-null  int64  \n",
      " 2   city                    856566 non-null  int64  \n",
      " 3   bd                      856566 non-null  int64  \n",
      " 4   gender                  368210 non-null  object \n",
      " 5   registered_via          856566 non-null  int64  \n",
      " 6   registration_init_time  856566 non-null  object \n",
      " 7   is_churn                856566 non-null  int64  \n",
      " 8   is_back                 856566 non-null  int64  \n",
      " 9   payment_plan_sum        856566 non-null  int64  \n",
      " 10  plan_list_price         856566 non-null  int64  \n",
      " 11  actual_amount_paid      856566 non-null  int64  \n",
      " 12  discount_rate           856566 non-null  float64\n",
      " 13  is_auto_renew           856566 non-null  float64\n",
      " 14  membership_expire_date  856566 non-null  object \n",
      " 15  is_cancel               856566 non-null  float64\n",
      " 16  transaction_count       856566 non-null  int64  \n",
      " 17  num_25                  856566 non-null  int64  \n",
      " 18  num_50                  856566 non-null  int64  \n",
      " 19  num_75                  856566 non-null  int64  \n",
      " 20  num_985                 856566 non-null  int64  \n",
      " 21  num_100                 856566 non-null  int64  \n",
      " 22  num_unq                 856566 non-null  int64  \n",
      " 23  total_secs              856566 non-null  float64\n",
      " 24  log_start               856566 non-null  int64  \n",
      " 25  log_end                 856566 non-null  int64  \n",
      "dtypes: float64(4), int64(19), object(3)\n",
      "memory usage: 169.9+ MB\n"
     ]
    }
   ],
   "source": [
    "df.info()"
   ]
  },
  {
   "cell_type": "code",
   "execution_count": 102,
   "metadata": {},
   "outputs": [],
   "source": [
    "def int_to_date(df):\n",
    "    # membership_expire_date와 registration_init_time은 'YYYY-MM-DD' 형식으로 되어 있으므로, 그에 맞춰 변환\n",
    "    df['membership_expire_date'] = pd.to_datetime(df['membership_expire_date'], errors='coerce')\n",
    "    df['registration_init_time'] = pd.to_datetime(df['registration_init_time'], errors='coerce')\n",
    "    \n",
    "    # log_start와 log_end는 'YYYYMMDD' 형식이므로, 그에 맞춰 변환\n",
    "    df['log_start'] = pd.to_datetime(df['log_start'].astype(str), format='%Y%m%d', errors='coerce')\n",
    "    df['log_end'] = pd.to_datetime(df['log_end'].astype(str), format='%Y%m%d', errors='coerce')\n",
    "\n",
    "    return df\n",
    "\n",
    "# 함수 실행\n",
    "df = int_to_date(df)"
   ]
  },
  {
   "cell_type": "code",
   "execution_count": 103,
   "metadata": {},
   "outputs": [
    {
     "name": "stdout",
     "output_type": "stream",
     "text": [
      "<class 'pandas.core.frame.DataFrame'>\n",
      "RangeIndex: 856566 entries, 0 to 856565\n",
      "Data columns (total 26 columns):\n",
      " #   Column                  Non-Null Count   Dtype         \n",
      "---  ------                  --------------   -----         \n",
      " 0   Unnamed: 0              856566 non-null  int64         \n",
      " 1   msno                    856566 non-null  int64         \n",
      " 2   city                    856566 non-null  int64         \n",
      " 3   bd                      856566 non-null  int64         \n",
      " 4   gender                  368210 non-null  object        \n",
      " 5   registered_via          856566 non-null  int64         \n",
      " 6   registration_init_time  856566 non-null  datetime64[ns]\n",
      " 7   is_churn                856566 non-null  int64         \n",
      " 8   is_back                 856566 non-null  int64         \n",
      " 9   payment_plan_sum        856566 non-null  int64         \n",
      " 10  plan_list_price         856566 non-null  int64         \n",
      " 11  actual_amount_paid      856566 non-null  int64         \n",
      " 12  discount_rate           856566 non-null  float64       \n",
      " 13  is_auto_renew           856566 non-null  float64       \n",
      " 14  membership_expire_date  856566 non-null  datetime64[ns]\n",
      " 15  is_cancel               856566 non-null  float64       \n",
      " 16  transaction_count       856566 non-null  int64         \n",
      " 17  num_25                  856566 non-null  int64         \n",
      " 18  num_50                  856566 non-null  int64         \n",
      " 19  num_75                  856566 non-null  int64         \n",
      " 20  num_985                 856566 non-null  int64         \n",
      " 21  num_100                 856566 non-null  int64         \n",
      " 22  num_unq                 856566 non-null  int64         \n",
      " 23  total_secs              856566 non-null  float64       \n",
      " 24  log_start               856566 non-null  datetime64[ns]\n",
      " 25  log_end                 856566 non-null  datetime64[ns]\n",
      "dtypes: datetime64[ns](4), float64(4), int64(17), object(1)\n",
      "memory usage: 169.9+ MB\n"
     ]
    }
   ],
   "source": [
    "df.info()"
   ]
  },
  {
   "cell_type": "markdown",
   "metadata": {},
   "source": [
    "* 년,월,일 분리"
   ]
  },
  {
   "cell_type": "code",
   "execution_count": 104,
   "metadata": {},
   "outputs": [],
   "source": [
    "\n",
    "def split_date_columns(df, column_name):\n",
    "    # 컬럼을 datetime 형식으로 변환 (변환 실패시 NaT로 처리)\n",
    "    df[column_name] = pd.to_datetime(df[column_name], errors='coerce')\n",
    "    \n",
    "    # 연도, 월, 일 컬럼 추가\n",
    "    df[f'{column_name}_year'] = df[column_name].dt.year\n",
    "    df[f'{column_name}_month'] = df[column_name].dt.month\n",
    "    df[f'{column_name}_day'] = df[column_name].dt.day\n",
    "    \n",
    "    # 원본 컬럼 삭제\n",
    "    df = df.drop(columns=[column_name])\n",
    "    \n",
    "    return df"
   ]
  },
  {
   "cell_type": "code",
   "execution_count": 105,
   "metadata": {},
   "outputs": [],
   "source": [
    "df = split_date_columns(df, 'registration_init_time')\n",
    "df = split_date_columns(df, 'membership_expire_date')\n",
    "df = split_date_columns(df, 'log_end')\n",
    "df = split_date_columns(df, 'log_start')"
   ]
  },
  {
   "cell_type": "code",
   "execution_count": 106,
   "metadata": {},
   "outputs": [
    {
     "name": "stdout",
     "output_type": "stream",
     "text": [
      "<class 'pandas.core.frame.DataFrame'>\n",
      "RangeIndex: 856566 entries, 0 to 856565\n",
      "Data columns (total 34 columns):\n",
      " #   Column                        Non-Null Count   Dtype  \n",
      "---  ------                        --------------   -----  \n",
      " 0   Unnamed: 0                    856566 non-null  int64  \n",
      " 1   msno                          856566 non-null  int64  \n",
      " 2   city                          856566 non-null  int64  \n",
      " 3   bd                            856566 non-null  int64  \n",
      " 4   gender                        368210 non-null  object \n",
      " 5   registered_via                856566 non-null  int64  \n",
      " 6   is_churn                      856566 non-null  int64  \n",
      " 7   is_back                       856566 non-null  int64  \n",
      " 8   payment_plan_sum              856566 non-null  int64  \n",
      " 9   plan_list_price               856566 non-null  int64  \n",
      " 10  actual_amount_paid            856566 non-null  int64  \n",
      " 11  discount_rate                 856566 non-null  float64\n",
      " 12  is_auto_renew                 856566 non-null  float64\n",
      " 13  is_cancel                     856566 non-null  float64\n",
      " 14  transaction_count             856566 non-null  int64  \n",
      " 15  num_25                        856566 non-null  int64  \n",
      " 16  num_50                        856566 non-null  int64  \n",
      " 17  num_75                        856566 non-null  int64  \n",
      " 18  num_985                       856566 non-null  int64  \n",
      " 19  num_100                       856566 non-null  int64  \n",
      " 20  num_unq                       856566 non-null  int64  \n",
      " 21  total_secs                    856566 non-null  float64\n",
      " 22  registration_init_time_year   856566 non-null  int32  \n",
      " 23  registration_init_time_month  856566 non-null  int32  \n",
      " 24  registration_init_time_day    856566 non-null  int32  \n",
      " 25  membership_expire_date_year   856566 non-null  int32  \n",
      " 26  membership_expire_date_month  856566 non-null  int32  \n",
      " 27  membership_expire_date_day    856566 non-null  int32  \n",
      " 28  log_end_year                  856566 non-null  int32  \n",
      " 29  log_end_month                 856566 non-null  int32  \n",
      " 30  log_end_day                   856566 non-null  int32  \n",
      " 31  log_start_year                856566 non-null  int32  \n",
      " 32  log_start_month               856566 non-null  int32  \n",
      " 33  log_start_day                 856566 non-null  int32  \n",
      "dtypes: float64(4), int32(12), int64(17), object(1)\n",
      "memory usage: 183.0+ MB\n"
     ]
    }
   ],
   "source": [
    "df.info()"
   ]
  },
  {
   "cell_type": "code",
   "execution_count": null,
   "metadata": {},
   "outputs": [],
   "source": []
  },
  {
   "cell_type": "markdown",
   "metadata": {},
   "source": [
    "### 성별 NAN값 제거 후 인코딩"
   ]
  },
  {
   "cell_type": "code",
   "execution_count": 107,
   "metadata": {},
   "outputs": [],
   "source": [
    "df_filtered = df[df['gender'].notna()]"
   ]
  },
  {
   "cell_type": "code",
   "execution_count": null,
   "metadata": {},
   "outputs": [],
   "source": [
    "def encode_gender(df):\n",
    "    # 성별 인코딩: M -> 1, F -> 0, nan -> -1 (또는 원하는 값으로 변경)\n",
    "    df['gender_encoded'] = df['gender'].map({'male': 1, 'female': 0})\n",
    "    df = df.drop(columns=[\"gender\"])\n",
    "    \n",
    "    return df"
   ]
  },
  {
   "cell_type": "code",
   "execution_count": null,
   "metadata": {},
   "outputs": [
    {
     "data": {
      "text/plain": [
       "0"
      ]
     },
     "execution_count": 118,
     "metadata": {},
     "output_type": "execute_result"
    }
   ],
   "source": [
    "# df['gender'].isnull().sum()"
   ]
  },
  {
   "cell_type": "code",
   "execution_count": null,
   "metadata": {},
   "outputs": [],
   "source": [
    "# df = encode_gender(df_filtered)"
   ]
  },
  {
   "cell_type": "code",
   "execution_count": 110,
   "metadata": {},
   "outputs": [
    {
     "data": {
      "text/plain": [
       "0           male\n",
       "1           male\n",
       "2           male\n",
       "4         female\n",
       "5         female\n",
       "           ...  \n",
       "856540      male\n",
       "856547      male\n",
       "856548    female\n",
       "856559      male\n",
       "856564    female\n",
       "Name: gender, Length: 368210, dtype: object"
      ]
     },
     "execution_count": 110,
     "metadata": {},
     "output_type": "execute_result"
    }
   ],
   "source": [
    "df[\"gender\"]"
   ]
  },
  {
   "cell_type": "markdown",
   "metadata": {},
   "source": [
    "### 나이 전처리"
   ]
  },
  {
   "cell_type": "code",
   "execution_count": null,
   "metadata": {},
   "outputs": [],
   "source": [
    "# df[\"bd\"] = df[\"bd\"].abs()"
   ]
  },
  {
   "cell_type": "code",
   "execution_count": null,
   "metadata": {},
   "outputs": [
    {
     "data": {
      "text/plain": [
       "28.0"
      ]
     },
     "execution_count": 112,
     "metadata": {},
     "output_type": "execute_result"
    }
   ],
   "source": [
    "# # 0인 값이 많아서 Age 중앙값이 0으로 나옴. 10보다 큰 Age 값의 중앙값\n",
    "\n",
    "# median_df_bd = df[df[\"bd\"] > 11][\"bd\"].median()\n",
    "# median_df_bd"
   ]
  },
  {
   "cell_type": "code",
   "execution_count": null,
   "metadata": {},
   "outputs": [],
   "source": [
    "# df[\"bd\"] = df[\"bd\"].apply(lambda x: x if (x != 0) and (x < 11 or x > 100) else np.nan)"
   ]
  },
  {
   "cell_type": "code",
   "execution_count": null,
   "metadata": {},
   "outputs": [],
   "source": [
    "# df_filtered = df[df['bd'].notna()]"
   ]
  },
  {
   "cell_type": "code",
   "execution_count": null,
   "metadata": {},
   "outputs": [
    {
     "data": {
      "text/plain": [
       "array([      nan, 1.090e+02, 1.170e+02, 1.050e+02, 1.000e+00, 1.060e+02,\n",
       "       5.000e+00, 2.200e+02, 1.020e+02, 4.000e+00, 1.030e+02, 1.037e+03,\n",
       "       1.370e+02, 3.000e+00, 1.032e+03, 1.110e+02, 1.070e+02, 1.160e+02,\n",
       "       1.000e+01, 9.460e+02, 8.000e+00, 1.150e+02, 6.000e+00, 1.040e+02,\n",
       "       9.360e+02, 1.100e+02, 1.043e+03, 7.000e+00, 9.510e+02, 1.260e+02,\n",
       "       9.300e+02, 1.034e+03, 1.026e+03, 1.120e+02, 1.053e+03, 7.780e+02,\n",
       "       9.000e+00, 9.500e+02, 1.017e+03, 1.030e+03, 1.036e+03, 1.040e+03,\n",
       "       1.530e+02, 1.048e+03, 7.430e+02, 1.031e+03, 1.190e+02, 1.051e+03,\n",
       "       1.049e+03, 1.380e+02, 2.000e+00, 1.029e+03, 9.480e+02, 1.440e+02,\n",
       "       1.010e+02, 1.052e+03, 1.310e+02, 8.230e+02, 3.190e+02, 9.390e+02,\n",
       "       9.470e+02, 9.410e+02, 3.400e+02, 9.310e+02, 1.033e+03, 9.330e+02,\n",
       "       1.022e+03, 1.220e+02, 1.600e+02, 5.190e+02, 1.390e+02, 1.009e+03,\n",
       "       1.970e+02, 9.640e+02, 1.042e+03, 1.130e+02, 8.370e+02, 3.200e+02,\n",
       "       7.860e+02, 1.035e+03, 8.210e+02, 1.970e+03, 1.140e+02, 1.290e+02,\n",
       "       1.280e+02, 1.200e+02, 1.041e+03, 9.340e+02, 3.210e+02, 1.330e+02,\n",
       "       1.028e+03, 8.100e+02, 1.421e+03, 9.440e+02, 1.008e+03, 1.320e+02,\n",
       "       1.300e+02, 1.780e+02, 1.038e+03, 9.420e+02, 9.280e+02, 3.152e+03])"
      ]
     },
     "execution_count": 115,
     "metadata": {},
     "output_type": "execute_result"
    }
   ],
   "source": [
    "# df['bd'].unique()"
   ]
  },
  {
   "cell_type": "markdown",
   "metadata": {},
   "source": [
    "### 정규화"
   ]
  },
  {
   "cell_type": "code",
   "execution_count": 116,
   "metadata": {},
   "outputs": [],
   "source": [
    "# X_train, X_test, y_train, y_test = train_test_split(train_data.drop('gender',axis=1), train_data['gender'], test_size=0.3, random_state=42)\n",
    "\n",
    "# std_scaler = StandardScaler()\n",
    "# train_scaled = std_scaler.fit_transform(X_train)\n",
    "# test_scaled = std_scaler.transform(X_test)"
   ]
  },
  {
   "cell_type": "markdown",
   "metadata": {},
   "source": [
    "### 데이터 저장"
   ]
  },
  {
   "cell_type": "code",
   "execution_count": 117,
   "metadata": {},
   "outputs": [],
   "source": [
    "df_filtered.to_csv(\"./data/data_total_split_datetime.csv\")"
   ]
  },
  {
   "cell_type": "code",
   "execution_count": null,
   "metadata": {},
   "outputs": [],
   "source": []
  }
 ],
 "metadata": {
  "kernelspec": {
   "display_name": "new",
   "language": "python",
   "name": "python3"
  },
  "language_info": {
   "codemirror_mode": {
    "name": "ipython",
    "version": 3
   },
   "file_extension": ".py",
   "mimetype": "text/x-python",
   "name": "python",
   "nbconvert_exporter": "python",
   "pygments_lexer": "ipython3",
   "version": "3.12.8"
  }
 },
 "nbformat": 4,
 "nbformat_minor": 2
}
