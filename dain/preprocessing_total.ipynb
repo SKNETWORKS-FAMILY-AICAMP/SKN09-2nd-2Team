{
 "cells": [
  {
   "cell_type": "code",
   "execution_count": 170,
   "metadata": {},
   "outputs": [],
   "source": [
    "import numpy as np\n",
    "import pandas as pd\n",
    "import seaborn as sns\n",
    "import matplotlib.pyplot as plt\n",
    "import warnings\n",
    "import math\n",
    "import seaborn as sns\n",
    "from sklearn.ensemble import RandomForestClassifier\n",
    "from sklearn.preprocessing import OneHotEncoder\n",
    "from sklearn.preprocessing import StandardScaler\n",
    "from sklearn.model_selection import train_test_split\n",
    "# 경고 메시지 숨기기\n",
    "warnings.filterwarnings(\"ignore\")"
   ]
  },
  {
   "cell_type": "code",
   "execution_count": 171,
   "metadata": {},
   "outputs": [],
   "source": [
    "df = pd.read_csv(\"./data/data_total.csv\")"
   ]
  },
  {
   "cell_type": "markdown",
   "metadata": {},
   "source": [
    "### 날짜 타입 변경 및 년/월/일 분리"
   ]
  },
  {
   "cell_type": "code",
   "execution_count": 172,
   "metadata": {},
   "outputs": [
    {
     "name": "stdout",
     "output_type": "stream",
     "text": [
      "<class 'pandas.core.frame.DataFrame'>\n",
      "RangeIndex: 856566 entries, 0 to 856565\n",
      "Data columns (total 26 columns):\n",
      " #   Column                  Non-Null Count   Dtype  \n",
      "---  ------                  --------------   -----  \n",
      " 0   Unnamed: 0              856566 non-null  int64  \n",
      " 1   msno                    856566 non-null  int64  \n",
      " 2   city                    856566 non-null  int64  \n",
      " 3   bd                      856566 non-null  int64  \n",
      " 4   gender                  368210 non-null  object \n",
      " 5   registered_via          856566 non-null  int64  \n",
      " 6   registration_init_time  856566 non-null  object \n",
      " 7   is_churn                856566 non-null  int64  \n",
      " 8   is_back                 856566 non-null  int64  \n",
      " 9   payment_plan_sum        856566 non-null  int64  \n",
      " 10  plan_list_price         856566 non-null  int64  \n",
      " 11  actual_amount_paid      856566 non-null  int64  \n",
      " 12  discount_rate           856566 non-null  float64\n",
      " 13  is_auto_renew           856566 non-null  float64\n",
      " 14  membership_expire_date  856566 non-null  object \n",
      " 15  is_cancel               856566 non-null  float64\n",
      " 16  transaction_count       856566 non-null  int64  \n",
      " 17  num_25                  856566 non-null  int64  \n",
      " 18  num_50                  856566 non-null  int64  \n",
      " 19  num_75                  856566 non-null  int64  \n",
      " 20  num_985                 856566 non-null  int64  \n",
      " 21  num_100                 856566 non-null  int64  \n",
      " 22  num_unq                 856566 non-null  int64  \n",
      " 23  total_secs              856566 non-null  float64\n",
      " 24  log_start               856566 non-null  int64  \n",
      " 25  log_end                 856566 non-null  int64  \n",
      "dtypes: float64(4), int64(19), object(3)\n",
      "memory usage: 169.9+ MB\n"
     ]
    }
   ],
   "source": [
    "df.info()"
   ]
  },
  {
   "cell_type": "code",
   "execution_count": 173,
   "metadata": {},
   "outputs": [],
   "source": [
    "def int_to_date(df):\n",
    "    # membership_expire_date와 registration_init_time은 'YYYY-MM-DD' 형식으로 되어 있으므로, 그에 맞춰 변환\n",
    "    df['membership_expire_date'] = pd.to_datetime(df['membership_expire_date'], errors='coerce')\n",
    "    df['registration_init_time'] = pd.to_datetime(df['registration_init_time'], errors='coerce')\n",
    "    \n",
    "    # log_start와 log_end는 'YYYYMMDD' 형식이므로, 그에 맞춰 변환\n",
    "    df['log_start'] = pd.to_datetime(df['log_start'].astype(str), format='%Y%m%d', errors='coerce')\n",
    "    df['log_end'] = pd.to_datetime(df['log_end'].astype(str), format='%Y%m%d', errors='coerce')\n",
    "\n",
    "    return df\n",
    "\n",
    "# 함수 실행\n",
    "df = int_to_date(df)"
   ]
  },
  {
   "cell_type": "code",
   "execution_count": 174,
   "metadata": {},
   "outputs": [
    {
     "name": "stdout",
     "output_type": "stream",
     "text": [
      "<class 'pandas.core.frame.DataFrame'>\n",
      "RangeIndex: 856566 entries, 0 to 856565\n",
      "Data columns (total 26 columns):\n",
      " #   Column                  Non-Null Count   Dtype         \n",
      "---  ------                  --------------   -----         \n",
      " 0   Unnamed: 0              856566 non-null  int64         \n",
      " 1   msno                    856566 non-null  int64         \n",
      " 2   city                    856566 non-null  int64         \n",
      " 3   bd                      856566 non-null  int64         \n",
      " 4   gender                  368210 non-null  object        \n",
      " 5   registered_via          856566 non-null  int64         \n",
      " 6   registration_init_time  856566 non-null  datetime64[ns]\n",
      " 7   is_churn                856566 non-null  int64         \n",
      " 8   is_back                 856566 non-null  int64         \n",
      " 9   payment_plan_sum        856566 non-null  int64         \n",
      " 10  plan_list_price         856566 non-null  int64         \n",
      " 11  actual_amount_paid      856566 non-null  int64         \n",
      " 12  discount_rate           856566 non-null  float64       \n",
      " 13  is_auto_renew           856566 non-null  float64       \n",
      " 14  membership_expire_date  856566 non-null  datetime64[ns]\n",
      " 15  is_cancel               856566 non-null  float64       \n",
      " 16  transaction_count       856566 non-null  int64         \n",
      " 17  num_25                  856566 non-null  int64         \n",
      " 18  num_50                  856566 non-null  int64         \n",
      " 19  num_75                  856566 non-null  int64         \n",
      " 20  num_985                 856566 non-null  int64         \n",
      " 21  num_100                 856566 non-null  int64         \n",
      " 22  num_unq                 856566 non-null  int64         \n",
      " 23  total_secs              856566 non-null  float64       \n",
      " 24  log_start               856566 non-null  datetime64[ns]\n",
      " 25  log_end                 856566 non-null  datetime64[ns]\n",
      "dtypes: datetime64[ns](4), float64(4), int64(17), object(1)\n",
      "memory usage: 169.9+ MB\n"
     ]
    }
   ],
   "source": [
    "df.info()"
   ]
  },
  {
   "cell_type": "markdown",
   "metadata": {},
   "source": [
    "* 년,월,일 분리"
   ]
  },
  {
   "cell_type": "code",
   "execution_count": 175,
   "metadata": {},
   "outputs": [],
   "source": [
    "\n",
    "def split_date_columns(df, column_name):\n",
    "    # 컬럼을 datetime 형식으로 변환 (변환 실패시 NaT로 처리)\n",
    "    df[column_name] = pd.to_datetime(df[column_name], errors='coerce')\n",
    "    \n",
    "    # 연도, 월, 일 컬럼 추가\n",
    "    df[f'{column_name}_year'] = df[column_name].dt.year\n",
    "    df[f'{column_name}_month'] = df[column_name].dt.month\n",
    "    df[f'{column_name}_day'] = df[column_name].dt.day\n",
    "    \n",
    "    # 원본 컬럼 삭제\n",
    "    df = df.drop(columns=[column_name])\n",
    "    \n",
    "    return df"
   ]
  },
  {
   "cell_type": "code",
   "execution_count": 176,
   "metadata": {},
   "outputs": [],
   "source": [
    "df = split_date_columns(df, 'registration_init_time')\n",
    "df = split_date_columns(df, 'membership_expire_date')\n",
    "df = split_date_columns(df, 'log_end')\n",
    "df = split_date_columns(df, 'log_start')"
   ]
  },
  {
   "cell_type": "code",
   "execution_count": 177,
   "metadata": {},
   "outputs": [
    {
     "name": "stdout",
     "output_type": "stream",
     "text": [
      "<class 'pandas.core.frame.DataFrame'>\n",
      "RangeIndex: 856566 entries, 0 to 856565\n",
      "Data columns (total 34 columns):\n",
      " #   Column                        Non-Null Count   Dtype  \n",
      "---  ------                        --------------   -----  \n",
      " 0   Unnamed: 0                    856566 non-null  int64  \n",
      " 1   msno                          856566 non-null  int64  \n",
      " 2   city                          856566 non-null  int64  \n",
      " 3   bd                            856566 non-null  int64  \n",
      " 4   gender                        368210 non-null  object \n",
      " 5   registered_via                856566 non-null  int64  \n",
      " 6   is_churn                      856566 non-null  int64  \n",
      " 7   is_back                       856566 non-null  int64  \n",
      " 8   payment_plan_sum              856566 non-null  int64  \n",
      " 9   plan_list_price               856566 non-null  int64  \n",
      " 10  actual_amount_paid            856566 non-null  int64  \n",
      " 11  discount_rate                 856566 non-null  float64\n",
      " 12  is_auto_renew                 856566 non-null  float64\n",
      " 13  is_cancel                     856566 non-null  float64\n",
      " 14  transaction_count             856566 non-null  int64  \n",
      " 15  num_25                        856566 non-null  int64  \n",
      " 16  num_50                        856566 non-null  int64  \n",
      " 17  num_75                        856566 non-null  int64  \n",
      " 18  num_985                       856566 non-null  int64  \n",
      " 19  num_100                       856566 non-null  int64  \n",
      " 20  num_unq                       856566 non-null  int64  \n",
      " 21  total_secs                    856566 non-null  float64\n",
      " 22  registration_init_time_year   856566 non-null  int32  \n",
      " 23  registration_init_time_month  856566 non-null  int32  \n",
      " 24  registration_init_time_day    856566 non-null  int32  \n",
      " 25  membership_expire_date_year   856566 non-null  int32  \n",
      " 26  membership_expire_date_month  856566 non-null  int32  \n",
      " 27  membership_expire_date_day    856566 non-null  int32  \n",
      " 28  log_end_year                  856566 non-null  int32  \n",
      " 29  log_end_month                 856566 non-null  int32  \n",
      " 30  log_end_day                   856566 non-null  int32  \n",
      " 31  log_start_year                856566 non-null  int32  \n",
      " 32  log_start_month               856566 non-null  int32  \n",
      " 33  log_start_day                 856566 non-null  int32  \n",
      "dtypes: float64(4), int32(12), int64(17), object(1)\n",
      "memory usage: 183.0+ MB\n"
     ]
    }
   ],
   "source": [
    "df.info()"
   ]
  },
  {
   "cell_type": "code",
   "execution_count": null,
   "metadata": {},
   "outputs": [],
   "source": []
  },
  {
   "cell_type": "markdown",
   "metadata": {},
   "source": [
    "### 성별 NAN값 제거 후 인코딩"
   ]
  },
  {
   "cell_type": "code",
   "execution_count": 178,
   "metadata": {},
   "outputs": [],
   "source": [
    "df_filtered = df[df['gender'].notna()]"
   ]
  },
  {
   "cell_type": "code",
   "execution_count": 179,
   "metadata": {},
   "outputs": [],
   "source": [
    "def encode_gender(df):\n",
    "    # 성별 인코딩: M -> 1, F -> 0, nan -> -1 (또는 원하는 값으로 변경)\n",
    "    df['gender_encoded'] = df['gender'].map({'male': 1, 'female': 0})\n",
    "    df = df.drop(columns=[\"gender\"])\n",
    "    \n",
    "    return df"
   ]
  },
  {
   "cell_type": "code",
   "execution_count": 180,
   "metadata": {},
   "outputs": [],
   "source": [
    "# df['gender'].isnull().sum()"
   ]
  },
  {
   "cell_type": "code",
   "execution_count": 181,
   "metadata": {},
   "outputs": [],
   "source": [
    "df = encode_gender(df_filtered)"
   ]
  },
  {
   "cell_type": "code",
   "execution_count": 182,
   "metadata": {},
   "outputs": [
    {
     "data": {
      "text/plain": [
       "0         1\n",
       "1         1\n",
       "2         1\n",
       "4         0\n",
       "5         0\n",
       "         ..\n",
       "856540    1\n",
       "856547    1\n",
       "856548    0\n",
       "856559    1\n",
       "856564    0\n",
       "Name: gender_encoded, Length: 368210, dtype: int64"
      ]
     },
     "execution_count": 182,
     "metadata": {},
     "output_type": "execute_result"
    }
   ],
   "source": [
    "df[\"gender_encoded\"]"
   ]
  },
  {
   "cell_type": "markdown",
   "metadata": {},
   "source": [
    "### 나이 전처리"
   ]
  },
  {
   "cell_type": "code",
   "execution_count": 183,
   "metadata": {},
   "outputs": [],
   "source": [
    "df[\"bd\"] = df[\"bd\"].abs()"
   ]
  },
  {
   "cell_type": "code",
   "execution_count": 184,
   "metadata": {},
   "outputs": [
    {
     "data": {
      "text/plain": [
       "28.0"
      ]
     },
     "execution_count": 184,
     "metadata": {},
     "output_type": "execute_result"
    }
   ],
   "source": [
    "# 0인 값이 많아서 Age 중앙값이 0으로 나옴. 10보다 큰 Age 값의 중앙값\n",
    "\n",
    "median_df_bd = df[df[\"bd\"] > 11][\"bd\"].median()\n",
    "median_df_bd"
   ]
  },
  {
   "cell_type": "code",
   "execution_count": 185,
   "metadata": {},
   "outputs": [],
   "source": [
    "df[\"bd\"] = df[\"bd\"].apply(lambda x: median_df_bd if (x != 0 and (x < 11 or x > 100)) else x)"
   ]
  },
  {
   "cell_type": "code",
   "execution_count": 186,
   "metadata": {},
   "outputs": [],
   "source": [
    "df_filtered = df[df['bd'].notna()]"
   ]
  },
  {
   "cell_type": "code",
   "execution_count": 187,
   "metadata": {},
   "outputs": [
    {
     "data": {
      "text/plain": [
       "array([ 30.,  34.,  63.,  28.,  38.,  26.,  58.,  21.,  39.,  27.,  22.,\n",
       "        20.,  17.,  40.,  24.,  23.,  25.,  18.,  29.,  33.,  31.,  41.,\n",
       "        19.,  35.,  37.,  47.,  36.,  32.,  53.,  43.,  62.,  44.,  42.,\n",
       "        45.,  48.,   0.,  56.,  52.,  49.,  51.,  16.,  50.,  46.,  54.,\n",
       "        68.,  72.,  14.,  66.,  55.,  60.,  70.,  15.,  57.,  82.,  59.,\n",
       "        64.,  61.,  94.,  65.,  67.,  71.,  79.,  96.,  74.,  77.,  97.,\n",
       "        13.,  95.,  75.,  84.,  83.,  69.,  78., 100.,  93.,  11.,  73.,\n",
       "        81.,  12.,  89.,  86.,  92.,  80.,  76.,  91.,  85.,  98.,  87.,\n",
       "        88.,  90.,  99.])"
      ]
     },
     "execution_count": 187,
     "metadata": {},
     "output_type": "execute_result"
    }
   ],
   "source": [
    "df['bd'].unique()"
   ]
  },
  {
   "cell_type": "code",
   "execution_count": null,
   "metadata": {},
   "outputs": [],
   "source": []
  },
  {
   "cell_type": "markdown",
   "metadata": {},
   "source": [
    "### 정규화"
   ]
  },
  {
   "cell_type": "code",
   "execution_count": 188,
   "metadata": {},
   "outputs": [],
   "source": [
    "# X_train, X_test, y_train, y_test = train_test_split(train_data.drop('gender',axis=1), train_data['gender'], test_size=0.3, random_state=42)\n",
    "\n",
    "# std_scaler = StandardScaler()\n",
    "# train_scaled = std_scaler.fit_transform(X_train)\n",
    "# test_scaled = std_scaler.transform(X_test)"
   ]
  },
  {
   "cell_type": "markdown",
   "metadata": {},
   "source": [
    "### 데이터 저장"
   ]
  },
  {
   "cell_type": "code",
   "execution_count": null,
   "metadata": {},
   "outputs": [],
   "source": [
    "# df_filtered.to_csv(\"./data/data_total_split_datetime.csv\")"
   ]
  },
  {
   "cell_type": "code",
   "execution_count": 192,
   "metadata": {},
   "outputs": [
    {
     "data": {
      "text/html": [
       "<div>\n",
       "<style scoped>\n",
       "    .dataframe tbody tr th:only-of-type {\n",
       "        vertical-align: middle;\n",
       "    }\n",
       "\n",
       "    .dataframe tbody tr th {\n",
       "        vertical-align: top;\n",
       "    }\n",
       "\n",
       "    .dataframe thead th {\n",
       "        text-align: right;\n",
       "    }\n",
       "</style>\n",
       "<table border=\"1\" class=\"dataframe\">\n",
       "  <thead>\n",
       "    <tr style=\"text-align: right;\">\n",
       "      <th></th>\n",
       "      <th>Unnamed: 0</th>\n",
       "      <th>msno</th>\n",
       "      <th>city</th>\n",
       "      <th>bd</th>\n",
       "      <th>registered_via</th>\n",
       "      <th>is_churn</th>\n",
       "      <th>is_back</th>\n",
       "      <th>payment_plan_sum</th>\n",
       "      <th>plan_list_price</th>\n",
       "      <th>actual_amount_paid</th>\n",
       "      <th>...</th>\n",
       "      <th>membership_expire_date_year</th>\n",
       "      <th>membership_expire_date_month</th>\n",
       "      <th>membership_expire_date_day</th>\n",
       "      <th>log_end_year</th>\n",
       "      <th>log_end_month</th>\n",
       "      <th>log_end_day</th>\n",
       "      <th>log_start_year</th>\n",
       "      <th>log_start_month</th>\n",
       "      <th>log_start_day</th>\n",
       "      <th>gender_encoded</th>\n",
       "    </tr>\n",
       "  </thead>\n",
       "  <tbody>\n",
       "    <tr>\n",
       "      <th>count</th>\n",
       "      <td>368210.000000</td>\n",
       "      <td>3.682100e+05</td>\n",
       "      <td>368210.000000</td>\n",
       "      <td>368210.000000</td>\n",
       "      <td>368210.000000</td>\n",
       "      <td>368210.000000</td>\n",
       "      <td>368210.000000</td>\n",
       "      <td>368210.000000</td>\n",
       "      <td>368210.000000</td>\n",
       "      <td>368210.000000</td>\n",
       "      <td>...</td>\n",
       "      <td>368210.000000</td>\n",
       "      <td>368210.000000</td>\n",
       "      <td>368210.000000</td>\n",
       "      <td>368210.000000</td>\n",
       "      <td>368210.000000</td>\n",
       "      <td>368210.000000</td>\n",
       "      <td>368210.000000</td>\n",
       "      <td>368210.000000</td>\n",
       "      <td>368210.000000</td>\n",
       "      <td>368210.000000</td>\n",
       "    </tr>\n",
       "    <tr>\n",
       "      <th>mean</th>\n",
       "      <td>460350.246196</td>\n",
       "      <td>3.382892e+06</td>\n",
       "      <td>10.703778</td>\n",
       "      <td>28.867334</td>\n",
       "      <td>6.761813</td>\n",
       "      <td>0.175413</td>\n",
       "      <td>0.008343</td>\n",
       "      <td>520.178806</td>\n",
       "      <td>2495.207124</td>\n",
       "      <td>2628.273477</td>\n",
       "      <td>...</td>\n",
       "      <td>2017.017922</td>\n",
       "      <td>4.131276</td>\n",
       "      <td>16.859401</td>\n",
       "      <td>2016.956079</td>\n",
       "      <td>3.089139</td>\n",
       "      <td>27.110668</td>\n",
       "      <td>2015.299766</td>\n",
       "      <td>3.381570</td>\n",
       "      <td>9.094229</td>\n",
       "      <td>0.525067</td>\n",
       "    </tr>\n",
       "    <tr>\n",
       "      <th>std</th>\n",
       "      <td>277471.877280</td>\n",
       "      <td>1.953541e+06</td>\n",
       "      <td>5.964901</td>\n",
       "      <td>10.277352</td>\n",
       "      <td>2.558991</td>\n",
       "      <td>0.380321</td>\n",
       "      <td>0.090959</td>\n",
       "      <td>242.780554</td>\n",
       "      <td>1167.049674</td>\n",
       "      <td>1233.304140</td>\n",
       "      <td>...</td>\n",
       "      <td>0.132668</td>\n",
       "      <td>1.066317</td>\n",
       "      <td>9.371334</td>\n",
       "      <td>0.243621</td>\n",
       "      <td>1.185756</td>\n",
       "      <td>6.905647</td>\n",
       "      <td>0.537661</td>\n",
       "      <td>3.552977</td>\n",
       "      <td>9.205526</td>\n",
       "      <td>0.499372</td>\n",
       "    </tr>\n",
       "    <tr>\n",
       "      <th>min</th>\n",
       "      <td>1.000000</td>\n",
       "      <td>1.300000e+01</td>\n",
       "      <td>1.000000</td>\n",
       "      <td>0.000000</td>\n",
       "      <td>3.000000</td>\n",
       "      <td>0.000000</td>\n",
       "      <td>0.000000</td>\n",
       "      <td>7.000000</td>\n",
       "      <td>1.000000</td>\n",
       "      <td>0.000000</td>\n",
       "      <td>...</td>\n",
       "      <td>2017.000000</td>\n",
       "      <td>1.000000</td>\n",
       "      <td>1.000000</td>\n",
       "      <td>2015.000000</td>\n",
       "      <td>1.000000</td>\n",
       "      <td>1.000000</td>\n",
       "      <td>2015.000000</td>\n",
       "      <td>1.000000</td>\n",
       "      <td>1.000000</td>\n",
       "      <td>0.000000</td>\n",
       "    </tr>\n",
       "    <tr>\n",
       "      <th>25%</th>\n",
       "      <td>215965.250000</td>\n",
       "      <td>1.690717e+06</td>\n",
       "      <td>5.000000</td>\n",
       "      <td>23.000000</td>\n",
       "      <td>4.000000</td>\n",
       "      <td>0.000000</td>\n",
       "      <td>0.000000</td>\n",
       "      <td>330.000000</td>\n",
       "      <td>1584.000000</td>\n",
       "      <td>1560.000000</td>\n",
       "      <td>...</td>\n",
       "      <td>2017.000000</td>\n",
       "      <td>4.000000</td>\n",
       "      <td>9.000000</td>\n",
       "      <td>2017.000000</td>\n",
       "      <td>3.000000</td>\n",
       "      <td>27.000000</td>\n",
       "      <td>2015.000000</td>\n",
       "      <td>1.000000</td>\n",
       "      <td>1.000000</td>\n",
       "      <td>0.000000</td>\n",
       "    </tr>\n",
       "    <tr>\n",
       "      <th>50%</th>\n",
       "      <td>458556.000000</td>\n",
       "      <td>3.385528e+06</td>\n",
       "      <td>13.000000</td>\n",
       "      <td>28.000000</td>\n",
       "      <td>7.000000</td>\n",
       "      <td>0.000000</td>\n",
       "      <td>0.000000</td>\n",
       "      <td>514.000000</td>\n",
       "      <td>2533.000000</td>\n",
       "      <td>3129.000000</td>\n",
       "      <td>...</td>\n",
       "      <td>2017.000000</td>\n",
       "      <td>4.000000</td>\n",
       "      <td>17.000000</td>\n",
       "      <td>2017.000000</td>\n",
       "      <td>3.000000</td>\n",
       "      <td>30.000000</td>\n",
       "      <td>2015.000000</td>\n",
       "      <td>1.000000</td>\n",
       "      <td>5.000000</td>\n",
       "      <td>1.000000</td>\n",
       "    </tr>\n",
       "    <tr>\n",
       "      <th>75%</th>\n",
       "      <td>696970.750000</td>\n",
       "      <td>5.070692e+06</td>\n",
       "      <td>14.000000</td>\n",
       "      <td>34.000000</td>\n",
       "      <td>9.000000</td>\n",
       "      <td>0.000000</td>\n",
       "      <td>0.000000</td>\n",
       "      <td>740.000000</td>\n",
       "      <td>3427.000000</td>\n",
       "      <td>3558.000000</td>\n",
       "      <td>...</td>\n",
       "      <td>2017.000000</td>\n",
       "      <td>4.000000</td>\n",
       "      <td>25.000000</td>\n",
       "      <td>2017.000000</td>\n",
       "      <td>3.000000</td>\n",
       "      <td>31.000000</td>\n",
       "      <td>2016.000000</td>\n",
       "      <td>5.000000</td>\n",
       "      <td>16.000000</td>\n",
       "      <td>1.000000</td>\n",
       "    </tr>\n",
       "    <tr>\n",
       "      <th>max</th>\n",
       "      <td>955124.000000</td>\n",
       "      <td>6.769459e+06</td>\n",
       "      <td>22.000000</td>\n",
       "      <td>100.000000</td>\n",
       "      <td>13.000000</td>\n",
       "      <td>1.000000</td>\n",
       "      <td>1.000000</td>\n",
       "      <td>2032.000000</td>\n",
       "      <td>7390.000000</td>\n",
       "      <td>7426.000000</td>\n",
       "      <td>...</td>\n",
       "      <td>2018.000000</td>\n",
       "      <td>12.000000</td>\n",
       "      <td>31.000000</td>\n",
       "      <td>2017.000000</td>\n",
       "      <td>12.000000</td>\n",
       "      <td>31.000000</td>\n",
       "      <td>2017.000000</td>\n",
       "      <td>12.000000</td>\n",
       "      <td>31.000000</td>\n",
       "      <td>1.000000</td>\n",
       "    </tr>\n",
       "  </tbody>\n",
       "</table>\n",
       "<p>8 rows × 34 columns</p>\n",
       "</div>"
      ],
      "text/plain": [
       "          Unnamed: 0          msno           city             bd  \\\n",
       "count  368210.000000  3.682100e+05  368210.000000  368210.000000   \n",
       "mean   460350.246196  3.382892e+06      10.703778      28.867334   \n",
       "std    277471.877280  1.953541e+06       5.964901      10.277352   \n",
       "min         1.000000  1.300000e+01       1.000000       0.000000   \n",
       "25%    215965.250000  1.690717e+06       5.000000      23.000000   \n",
       "50%    458556.000000  3.385528e+06      13.000000      28.000000   \n",
       "75%    696970.750000  5.070692e+06      14.000000      34.000000   \n",
       "max    955124.000000  6.769459e+06      22.000000     100.000000   \n",
       "\n",
       "       registered_via       is_churn        is_back  payment_plan_sum  \\\n",
       "count   368210.000000  368210.000000  368210.000000     368210.000000   \n",
       "mean         6.761813       0.175413       0.008343        520.178806   \n",
       "std          2.558991       0.380321       0.090959        242.780554   \n",
       "min          3.000000       0.000000       0.000000          7.000000   \n",
       "25%          4.000000       0.000000       0.000000        330.000000   \n",
       "50%          7.000000       0.000000       0.000000        514.000000   \n",
       "75%          9.000000       0.000000       0.000000        740.000000   \n",
       "max         13.000000       1.000000       1.000000       2032.000000   \n",
       "\n",
       "       plan_list_price  actual_amount_paid  ...  membership_expire_date_year  \\\n",
       "count    368210.000000       368210.000000  ...                368210.000000   \n",
       "mean       2495.207124         2628.273477  ...                  2017.017922   \n",
       "std        1167.049674         1233.304140  ...                     0.132668   \n",
       "min           1.000000            0.000000  ...                  2017.000000   \n",
       "25%        1584.000000         1560.000000  ...                  2017.000000   \n",
       "50%        2533.000000         3129.000000  ...                  2017.000000   \n",
       "75%        3427.000000         3558.000000  ...                  2017.000000   \n",
       "max        7390.000000         7426.000000  ...                  2018.000000   \n",
       "\n",
       "       membership_expire_date_month  membership_expire_date_day  \\\n",
       "count                 368210.000000               368210.000000   \n",
       "mean                       4.131276                   16.859401   \n",
       "std                        1.066317                    9.371334   \n",
       "min                        1.000000                    1.000000   \n",
       "25%                        4.000000                    9.000000   \n",
       "50%                        4.000000                   17.000000   \n",
       "75%                        4.000000                   25.000000   \n",
       "max                       12.000000                   31.000000   \n",
       "\n",
       "        log_end_year  log_end_month    log_end_day  log_start_year  \\\n",
       "count  368210.000000  368210.000000  368210.000000   368210.000000   \n",
       "mean     2016.956079       3.089139      27.110668     2015.299766   \n",
       "std         0.243621       1.185756       6.905647        0.537661   \n",
       "min      2015.000000       1.000000       1.000000     2015.000000   \n",
       "25%      2017.000000       3.000000      27.000000     2015.000000   \n",
       "50%      2017.000000       3.000000      30.000000     2015.000000   \n",
       "75%      2017.000000       3.000000      31.000000     2016.000000   \n",
       "max      2017.000000      12.000000      31.000000     2017.000000   \n",
       "\n",
       "       log_start_month  log_start_day  gender_encoded  \n",
       "count    368210.000000  368210.000000   368210.000000  \n",
       "mean          3.381570       9.094229        0.525067  \n",
       "std           3.552977       9.205526        0.499372  \n",
       "min           1.000000       1.000000        0.000000  \n",
       "25%           1.000000       1.000000        0.000000  \n",
       "50%           1.000000       5.000000        1.000000  \n",
       "75%           5.000000      16.000000        1.000000  \n",
       "max          12.000000      31.000000        1.000000  \n",
       "\n",
       "[8 rows x 34 columns]"
      ]
     },
     "execution_count": 192,
     "metadata": {},
     "output_type": "execute_result"
    }
   ],
   "source": [
    "df_filtered.describe()"
   ]
  },
  {
   "cell_type": "code",
   "execution_count": null,
   "metadata": {},
   "outputs": [],
   "source": [
    "df_filtered.info()"
   ]
  },
  {
   "cell_type": "code",
   "execution_count": 194,
   "metadata": {},
   "outputs": [],
   "source": [
    "df = df_filtered.drop(['Unnamed: 0'], axis=1)\n",
    "df.to_csv('./data/data_totla_split_non_index.csv', index=False)"
   ]
  },
  {
   "cell_type": "code",
   "execution_count": null,
   "metadata": {},
   "outputs": [],
   "source": []
  }
 ],
 "metadata": {
  "kernelspec": {
   "display_name": "new",
   "language": "python",
   "name": "python3"
  },
  "language_info": {
   "codemirror_mode": {
    "name": "ipython",
    "version": 3
   },
   "file_extension": ".py",
   "mimetype": "text/x-python",
   "name": "python",
   "nbconvert_exporter": "python",
   "pygments_lexer": "ipython3",
   "version": "3.12.8"
  }
 },
 "nbformat": 4,
 "nbformat_minor": 2
}
