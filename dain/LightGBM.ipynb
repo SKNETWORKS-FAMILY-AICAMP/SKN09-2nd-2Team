{
 "cells": [
  {
   "cell_type": "code",
   "execution_count": 2,
   "metadata": {},
   "outputs": [],
   "source": [
    "import numpy as np\n",
    "import pandas as pd\n",
    "import seaborn as sns\n",
    "import matplotlib.pyplot as plt\n",
    "import warnings\n",
    "import math\n",
    "import seaborn as sns\n",
    "from sklearn.model_selection import train_test_split, StratifiedKFold, GridSearchCV, learning_curve\n",
    "from sklearn.metrics import accuracy_score\n",
    "from sklearn.neighbors import KNeighborsClassifier\n",
    "from sklearn.preprocessing import StandardScaler\n",
    "import lightgbm as lgb\n",
    "from sklearn.metrics import roc_curve, auc, accuracy_score, classification_report, confusion_matrix, precision_score, recall_score\n",
    "from collections import Counter\n",
    "\n",
    "# 경고 메시지 숨기기\n",
    "warnings.filterwarnings(\"ignore\")\n"
   ]
  },
  {
   "cell_type": "markdown",
   "metadata": {},
   "source": [
    "### 데이터 불러오기"
   ]
  },
  {
   "cell_type": "code",
   "execution_count": 4,
   "metadata": {},
   "outputs": [],
   "source": [
    "df = pd.read_csv(\"./data/final_data.csv\")"
   ]
  },
  {
   "cell_type": "code",
   "execution_count": 46,
   "metadata": {},
   "outputs": [
    {
     "name": "stdout",
     "output_type": "stream",
     "text": [
      "<class 'pandas.core.frame.DataFrame'>\n",
      "RangeIndex: 356277 entries, 0 to 356276\n",
      "Data columns (total 21 columns):\n",
      " #   Column                 Non-Null Count   Dtype  \n",
      "---  ------                 --------------   -----  \n",
      " 0   city                   356277 non-null  int64  \n",
      " 1   bd                     356277 non-null  int64  \n",
      " 2   gender                 356277 non-null  int64  \n",
      " 3   registered_via         356277 non-null  int64  \n",
      " 4   is_churn               356277 non-null  int64  \n",
      " 5   payment_plan_sum       356277 non-null  int64  \n",
      " 6   plan_list_price        356277 non-null  int64  \n",
      " 7   actual_amount_paid     356277 non-null  int64  \n",
      " 8   discount_rate          356277 non-null  float64\n",
      " 9   is_auto_renew          356277 non-null  float64\n",
      " 10  is_cancel              356277 non-null  float64\n",
      " 11  transaction_count      356277 non-null  int64  \n",
      " 12  num_25                 356277 non-null  int64  \n",
      " 13  num_50                 356277 non-null  int64  \n",
      " 14  num_75                 356277 non-null  int64  \n",
      " 15  num_985                356277 non-null  int64  \n",
      " 16  num_100                356277 non-null  int64  \n",
      " 17  num_unq                356277 non-null  int64  \n",
      " 18  total_secs             356277 non-null  float64\n",
      " 19  registration_duration  356277 non-null  int64  \n",
      " 20  listening_duration     356277 non-null  int64  \n",
      "dtypes: float64(4), int64(17)\n",
      "memory usage: 57.1 MB\n"
     ]
    }
   ],
   "source": [
    "df.info()"
   ]
  },
  {
   "cell_type": "markdown",
   "metadata": {},
   "source": [
    "### train/test 분리"
   ]
  },
  {
   "cell_type": "code",
   "execution_count": 5,
   "metadata": {},
   "outputs": [],
   "source": [
    "X = df.drop(columns=['is_churn'])\n",
    "y = df['is_churn']\n",
    "\n",
    "# train_test_split을 사용하여 데이터를 분리\n",
    "X_train, X_test, y_train, y_test = train_test_split(X, y, test_size=0.2, random_state=42)"
   ]
  },
  {
   "cell_type": "markdown",
   "metadata": {},
   "source": [
    "### 정규화"
   ]
  },
  {
   "cell_type": "code",
   "execution_count": 6,
   "metadata": {},
   "outputs": [],
   "source": [
    "std_scaler = StandardScaler()\n",
    "train_scaled = std_scaler.fit_transform(X_train)\n",
    "test_scaled = std_scaler.transform(X_test)"
   ]
  },
  {
   "cell_type": "markdown",
   "metadata": {},
   "source": [
    "### 모델 학습"
   ]
  },
  {
   "cell_type": "code",
   "execution_count": 49,
   "metadata": {},
   "outputs": [
    {
     "name": "stdout",
     "output_type": "stream",
     "text": [
      "[LightGBM] [Info] Number of positive: 49788, number of negative: 235233\n",
      "[LightGBM] [Info] Auto-choosing row-wise multi-threading, the overhead of testing was 0.007124 seconds.\n",
      "You can set `force_row_wise=true` to remove the overhead.\n",
      "And if memory is not enough, you can set `force_col_wise=true`.\n",
      "[LightGBM] [Info] Total Bins 3697\n",
      "[LightGBM] [Info] Number of data points in the train set: 285021, number of used features: 20\n",
      "[LightGBM] [Info] [binary:BoostFromScore]: pavg=0.174682 -> initscore=-1.552803\n",
      "[LightGBM] [Info] Start training from score -1.552803\n",
      "Best hyperparameters:  {'learning_rate': 0.2, 'max_depth': 7, 'n_estimators': 150}\n",
      "Accuracy:  0.8860727517682722\n",
      "Classification Report:\n",
      "               precision    recall  f1-score   support\n",
      "\n",
      "           0       0.91      0.96      0.93     58570\n",
      "           1       0.73      0.56      0.64     12686\n",
      "\n",
      "    accuracy                           0.89     71256\n",
      "   macro avg       0.82      0.76      0.79     71256\n",
      "weighted avg       0.88      0.89      0.88     71256\n",
      "\n"
     ]
    }
   ],
   "source": [
    "model = lgb.LGBMClassifier()\n",
    "\n",
    "# 하이퍼파라미터 그리드 설정\n",
    "param_grid = {\n",
    "    'learning_rate': [0.01, 0.05, 0.1, 0.2],   # 학습률\n",
    "    'max_depth': [3, 5, 7, 10],                # 트리의 최대 깊이\n",
    "    'n_estimators': [50, 100, 150]             # 추정기 수\n",
    "}\n",
    "skf = StratifiedKFold(n_splits=5)\n",
    "# GridSearchCV를 사용하여 하이퍼파라미터 튜닝\n",
    "grid_search = GridSearchCV(estimator=model, param_grid=param_grid, cv=skf, n_jobs=-1, scoring='accuracy')\n",
    "\n",
    "# 훈련 데이터로 모델 학습\n",
    "grid_search.fit(X_train, y_train)\n",
    "\n",
    "# 최적의 파라미터 출력\n",
    "print(\"Best hyperparameters: \", grid_search.best_params_)\n",
    "\n",
    "# 최적의 모델로 예측 수행\n",
    "y_pred = grid_search.best_estimator_.predict(X_test)\n",
    "\n",
    "# 평가 지표 출력\n",
    "print(\"Accuracy: \", accuracy_score(y_test, y_pred))\n",
    "print(\"Classification Report:\\n\", classification_report(y_test, y_pred))"
   ]
  },
  {
   "cell_type": "code",
   "execution_count": 50,
   "metadata": {},
   "outputs": [
    {
     "data": {
      "image/png": "[encoded data removed]",
      "text/plain": [
       "<Figure size 1200x500 with 3 Axes>"
      ]
     },
     "metadata": {},
     "output_type": "display_data"
    }
   ],
   "source": [
    "\n",
    "# ROC Curve 및 AUC 계산\n",
    "y_prob = grid_search.best_estimator_.predict_proba(X_test)[:, 1]  # 클래스 1의 확률값\n",
    "fpr, tpr, _ = roc_curve(y_test, y_prob)\n",
    "roc_auc = auc(fpr, tpr)\n",
    "\n",
    "# Confusion Matrix 계산\n",
    "cm = confusion_matrix(y_test, y_pred)\n",
    "\n",
    "# 그래프 그리기\n",
    "fig, ax = plt.subplots(1, 2, figsize=(12, 5))\n",
    "\n",
    "# ROC Curve Plot\n",
    "ax[0].plot(fpr, tpr, color='blue', lw=2, label=f'ROC curve (AUC = {roc_auc:.2f})')\n",
    "ax[0].plot([0, 1], [0, 1], color='gray', linestyle='--')  # 대각선 기준선\n",
    "ax[0].set_xlim([0.0, 1.0])\n",
    "ax[0].set_ylim([0.0, 1.05])\n",
    "ax[0].set_xlabel('False Positive Rate')\n",
    "ax[0].set_ylabel('True Positive Rate')\n",
    "ax[0].set_title('Receiver Operating Characteristic (ROC) Curve')\n",
    "ax[0].legend(loc=\"lower right\")\n",
    "\n",
    "# Confusion Matrix Plot\n",
    "sns.heatmap(cm, annot=True, fmt=\"d\", cmap=\"Blues\", xticklabels=['Not Churn', 'Churn'], yticklabels=['Not Churn', 'Churn'], ax=ax[1])\n",
    "ax[1].set_xlabel('Predicted Label')\n",
    "ax[1].set_ylabel('True Label')\n",
    "ax[1].set_title('Confusion Matrix')\n",
    "\n",
    "plt.tight_layout()\n",
    "plt.show()"
   ]
  },
  {
   "cell_type": "markdown",
   "metadata": {},
   "source": [
    "### 오버 샘플링"
   ]
  },
  {
   "cell_type": "code",
   "execution_count": 7,
   "metadata": {},
   "outputs": [
    {
     "name": "stdout",
     "output_type": "stream",
     "text": [
      "Counter({0: 293803, 1: 293803})\n"
     ]
    }
   ],
   "source": [
    "from imblearn.over_sampling import RandomOverSampler\n",
    "\n",
    "# RandomOverSampler 객체 생성\n",
    "ros = RandomOverSampler(random_state = 42)\n",
    "\n",
    "# 오버샘플링 적용\n",
    "X, y = ros.fit_resample(X, y)\n",
    "\n",
    "# 클래스 비율 확인\n",
    "counter = Counter(y)\n",
    "print(counter)"
   ]
  },
  {
   "cell_type": "code",
   "execution_count": 8,
   "metadata": {},
   "outputs": [],
   "source": [
    "\n",
    "# train_test_split을 사용하여 데이터를 분리\n",
    "X_train, X_test, y_train, y_test = train_test_split(X, y, test_size=0.2, random_state=42)"
   ]
  },
  {
   "cell_type": "code",
   "execution_count": 9,
   "metadata": {},
   "outputs": [
    {
     "name": "stdout",
     "output_type": "stream",
     "text": [
      "[LightGBM] [Info] Number of positive: 234881, number of negative: 235203\n",
      "[LightGBM] [Info] Auto-choosing row-wise multi-threading, the overhead of testing was 0.008673 seconds.\n",
      "You can set `force_row_wise=true` to remove the overhead.\n",
      "And if memory is not enough, you can set `force_col_wise=true`.\n",
      "[LightGBM] [Info] Total Bins 3709\n",
      "[LightGBM] [Info] Number of data points in the train set: 470084, number of used features: 20\n",
      "[LightGBM] [Info] [binary:BoostFromScore]: pavg=0.499658 -> initscore=-0.001370\n",
      "[LightGBM] [Info] Start training from score -0.001370\n",
      "Best hyperparameters:  {'learning_rate': 0.2, 'max_depth': 10, 'n_estimators': 150}\n",
      "Accuracy:  0.8513810180221576\n",
      "Classification Report:\n",
      "               precision    recall  f1-score   support\n",
      "\n",
      "           0       0.88      0.81      0.84     58600\n",
      "           1       0.83      0.89      0.86     58922\n",
      "\n",
      "    accuracy                           0.85    117522\n",
      "   macro avg       0.85      0.85      0.85    117522\n",
      "weighted avg       0.85      0.85      0.85    117522\n",
      "\n"
     ]
    }
   ],
   "source": [
    "\n",
    "# LightGBM 모델 정의\n",
    "model = lgb.LGBMClassifier()\n",
    "\n",
    "# 하이퍼파라미터 그리드 설정\n",
    "param_grid = {\n",
    "    'learning_rate': [0.01, 0.05, 0.1, 0.2],   # 학습률\n",
    "    'max_depth': [3, 5, 7, 10],                # 트리의 최대 깊이\n",
    "    'n_estimators': [50, 100, 150]             # 추정기 수\n",
    "}\n",
    "skf = StratifiedKFold(n_splits=5)\n",
    "# GridSearchCV를 사용하여 하이퍼파라미터 튜닝\n",
    "grid_search = GridSearchCV(estimator=model, param_grid=param_grid, cv=skf, n_jobs=-1, scoring='accuracy')\n",
    "\n",
    "# 훈련 데이터로 모델 학습\n",
    "grid_search.fit(X_train, y_train)\n",
    "\n",
    "# 최적의 파라미터 출력\n",
    "print(\"Best hyperparameters: \", grid_search.best_params_)\n",
    "\n",
    "# 최적의 모델로 예측 수행\n",
    "y_pred = grid_search.best_estimator_.predict(X_test)\n",
    "\n",
    "# 평가 지표 출력\n",
    "print(\"Accuracy: \", accuracy_score(y_test, y_pred))\n",
    "print(\"Classification Report:\\n\", classification_report(y_test, y_pred))"
   ]
  },
  {
   "cell_type": "code",
   "execution_count": 10,
   "metadata": {},
   "outputs": [
    {
     "data": {
      "image/png": "[encoded data removed]",
      "text/plain": [
       "<Figure size 1200x500 with 3 Axes>"
      ]
     },
     "metadata": {},
     "output_type": "display_data"
    }
   ],
   "source": [
    "\n",
    "# ROC Curve 및 AUC 계산\n",
    "y_prob = grid_search.best_estimator_.predict_proba(X_test)[:, 1]  # 클래스 1의 확률값\n",
    "fpr, tpr, _ = roc_curve(y_test, y_prob)\n",
    "roc_auc = auc(fpr, tpr)\n",
    "\n",
    "# Confusion Matrix 계산\n",
    "cm = confusion_matrix(y_test, y_pred)\n",
    "\n",
    "# 그래프 그리기\n",
    "fig, ax = plt.subplots(1, 2, figsize=(12, 5))\n",
    "\n",
    "# ROC Curve Plot\n",
    "ax[0].plot(fpr, tpr, color='blue', lw=2, label=f'ROC curve (AUC = {roc_auc:.2f})')\n",
    "ax[0].plot([0, 1], [0, 1], color='gray', linestyle='--')  # 대각선 기준선\n",
    "ax[0].set_xlim([0.0, 1.0])\n",
    "ax[0].set_ylim([0.0, 1.05])\n",
    "ax[0].set_xlabel('False Positive Rate')\n",
    "ax[0].set_ylabel('True Positive Rate')\n",
    "ax[0].set_title('Receiver Operating Characteristic (ROC) Curve')\n",
    "ax[0].legend(loc=\"lower right\")\n",
    "\n",
    "# Confusion Matrix Plot\n",
    "sns.heatmap(cm, annot=True, fmt=\"d\", cmap=\"Blues\", xticklabels=['Not Churn', 'Churn'], yticklabels=['Not Churn', 'Churn'], ax=ax[1])\n",
    "ax[1].set_xlabel('Predicted Label')\n",
    "ax[1].set_ylabel('True Label')\n",
    "ax[1].set_title('Confusion Matrix')\n",
    "\n",
    "plt.tight_layout()\n",
    "plt.show()"
   ]
  },
  {
   "cell_type": "markdown",
   "metadata": {},
   "source": [
    "### StratifiedKFold"
   ]
  },
  {
   "cell_type": "code",
   "execution_count": 11,
   "metadata": {},
   "outputs": [
    {
     "name": "stdout",
     "output_type": "stream",
     "text": [
      "[LightGBM] [Info] Number of positive: 235042, number of negative: 235042\n",
      "[LightGBM] [Info] Auto-choosing col-wise multi-threading, the overhead of testing was 0.013006 seconds.\n",
      "You can set `force_col_wise=true` to remove the overhead.\n",
      "[LightGBM] [Info] Total Bins 3719\n",
      "[LightGBM] [Info] Number of data points in the train set: 470084, number of used features: 20\n",
      "[LightGBM] [Info] [binary:BoostFromScore]: pavg=0.500000 -> initscore=0.000000\n",
      "[LightGBM] [Info] Number of positive: 235043, number of negative: 235042\n",
      "[LightGBM] [Info] Auto-choosing col-wise multi-threading, the overhead of testing was 0.014429 seconds.\n",
      "You can set `force_col_wise=true` to remove the overhead.\n",
      "[LightGBM] [Info] Total Bins 3723\n",
      "[LightGBM] [Info] Number of data points in the train set: 470085, number of used features: 20\n",
      "[LightGBM] [Info] [binary:BoostFromScore]: pavg=0.500001 -> initscore=0.000004\n",
      "[LightGBM] [Info] Start training from score 0.000004\n",
      "[LightGBM] [Info] Number of positive: 235043, number of negative: 235042\n",
      "[LightGBM] [Info] Auto-choosing row-wise multi-threading, the overhead of testing was 0.008744 seconds.\n",
      "You can set `force_row_wise=true` to remove the overhead.\n",
      "And if memory is not enough, you can set `force_col_wise=true`.\n",
      "[LightGBM] [Info] Total Bins 3719\n",
      "[LightGBM] [Info] Number of data points in the train set: 470085, number of used features: 20\n",
      "[LightGBM] [Info] [binary:BoostFromScore]: pavg=0.500001 -> initscore=0.000004\n",
      "[LightGBM] [Info] Start training from score 0.000004\n",
      "[LightGBM] [Info] Number of positive: 235042, number of negative: 235043\n",
      "[LightGBM] [Info] Auto-choosing row-wise multi-threading, the overhead of testing was 0.008225 seconds.\n",
      "You can set `force_row_wise=true` to remove the overhead.\n",
      "And if memory is not enough, you can set `force_col_wise=true`.\n",
      "[LightGBM] [Info] Total Bins 3722\n",
      "[LightGBM] [Info] Number of data points in the train set: 470085, number of used features: 20\n",
      "[LightGBM] [Info] [binary:BoostFromScore]: pavg=0.499999 -> initscore=-0.000004\n",
      "[LightGBM] [Info] Start training from score -0.000004\n",
      "[LightGBM] [Info] Number of positive: 235042, number of negative: 235043\n",
      "[LightGBM] [Info] Auto-choosing row-wise multi-threading, the overhead of testing was 0.010474 seconds.\n",
      "You can set `force_row_wise=true` to remove the overhead.\n",
      "And if memory is not enough, you can set `force_col_wise=true`.\n",
      "[LightGBM] [Info] Total Bins 3717\n",
      "[LightGBM] [Info] Number of data points in the train set: 470085, number of used features: 20\n",
      "[LightGBM] [Info] [binary:BoostFromScore]: pavg=0.499999 -> initscore=-0.000004\n",
      "[LightGBM] [Info] Start training from score -0.000004\n",
      "LightGBM 정확도: 0.8502312574352171\n",
      "LightGBM 정밀도: 0.8228671702216863\n",
      "LightGBM 재현율: 0.8929520824680204\n"
     ]
    }
   ],
   "source": [
    "stratified_kfold = StratifiedKFold(n_splits=5)\n",
    "dt_clf = lgb.LGBMClassifier( \n",
    "    max_depth=10, \n",
    "    learning_rate=0.2, \n",
    "    n_estimators=150, \n",
    "    random_state=42\n",
    ")\n",
    "\n",
    "dt_accuracy = []\n",
    "dt_precision = []\n",
    "dt_recall = []\n",
    "dt_matrix = []\n",
    "dt_curve = []\n",
    "\n",
    "for train_index, val_index in stratified_kfold.split(X, y):\n",
    "    X_train, y_train = X.iloc[train_index], y.iloc[train_index]\n",
    "    X_val, y_val = X.iloc[val_index], y.iloc[val_index]\n",
    "\n",
    "    dt_clf.fit(X_train, y_train)\n",
    "    y_pred_dt = dt_clf.predict(X_val)\n",
    "    y_prob_dt = dt_clf.predict_proba(X_val)[:, 1]\n",
    "\n",
    "    dt_accuracy.append(accuracy_score(y_val, y_pred_dt))\n",
    "    dt_precision.append(precision_score(y_val, y_pred_dt))\n",
    "    dt_recall.append(recall_score(y_val, y_pred_dt))\n",
    "    dt_matrix.append(confusion_matrix(y_val, y_pred_dt))\n",
    "    # ROC Curve 저장\n",
    "    fpr, tpr, _ = roc_curve(y_val, y_prob_dt)\n",
    "    dt_curve.append((fpr, tpr, auc(fpr, tpr)))\n",
    "\n",
    "print(\"LightGBM 정확도:\", np.mean(dt_accuracy))\n",
    "print(\"LightGBM 정밀도:\", np.mean(dt_precision))\n",
    "print(\"LightGBM 재현율:\", np.mean(dt_recall))"
   ]
  },
  {
   "cell_type": "code",
   "execution_count": 12,
   "metadata": {},
   "outputs": [
    {
     "data": {
      "text/plain": [
       "[array([[49032,  9729],\n",
       "        [ 6492, 52269]], dtype=int64),\n",
       " array([[48070, 10691],\n",
       "        [ 6298, 52462]], dtype=int64),\n",
       " array([[46724, 12037],\n",
       "        [ 6242, 52518]], dtype=int64),\n",
       " array([[46951, 11809],\n",
       "        [ 6285, 52476]], dtype=int64),\n",
       " array([[46472, 12288],\n",
       "        [ 6134, 52627]], dtype=int64)]"
      ]
     },
     "execution_count": 12,
     "metadata": {},
     "output_type": "execute_result"
    }
   ],
   "source": [
    "dt_matrix"
   ]
  },
  {
   "cell_type": "code",
   "execution_count": 13,
   "metadata": {},
   "outputs": [
    {
     "data": {
      "image/png": "[encoded data removed]",
      "text/plain": [
       "<Figure size 1200x500 with 3 Axes>"
      ]
     },
     "metadata": {},
     "output_type": "display_data"
    }
   ],
   "source": [
    "\n",
    "# 그래프 그리기\n",
    "fig, ax = plt.subplots(1, 2, figsize=(12, 5))\n",
    "\n",
    "# ROC Curve Plot\n",
    "for fpr, tpr, roc_auc in dt_curve:\n",
    "    ax[0].plot(fpr, tpr, lw=1.5, alpha=0.7, label=f'AUC = {roc_auc:.2f}')\n",
    "ax[0].plot([0, 1], [0, 1], color='gray', linestyle='--')  # 대각선 기준선\n",
    "ax[0].set_xlim([0.0, 1.0])\n",
    "ax[0].set_ylim([0.0, 1.05])\n",
    "ax[0].set_xlabel('False Positive Rate')\n",
    "ax[0].set_ylabel('True Positive Rate')\n",
    "ax[0].set_title('Receiver Operating Characteristic (ROC) Curve')\n",
    "ax[0].legend(loc=\"lower right\")\n",
    "\n",
    "# Confusion Matrix Plot (평균)\n",
    "cm_avg = np.mean(dt_matrix, axis=0).astype(int)\n",
    "sns.heatmap(cm_avg, annot=True, fmt=\"d\", cmap=\"Blues\", xticklabels=['Not Churn', 'Churn'], yticklabels=['Not Churn', 'Churn'], ax=ax[1])\n",
    "ax[1].set_xlabel('Predicted Label')\n",
    "ax[1].set_ylabel('True Label')\n",
    "ax[1].set_title('Confusion Matrix (Average)')\n",
    "\n",
    "plt.tight_layout()\n",
    "plt.show()"
   ]
  },
  {
   "cell_type": "markdown",
   "metadata": {},
   "source": [
    "### Optuna 하이퍼파라미터 최적화"
   ]
  },
  {
   "cell_type": "code",
   "execution_count": 59,
   "metadata": {},
   "outputs": [],
   "source": [
    "import optuna\n",
    "import optuna.visualization as vis"
   ]
  },
  {
   "cell_type": "code",
   "execution_count": null,
   "metadata": {},
   "outputs": [
    {
     "name": "stderr",
     "output_type": "stream",
     "text": [
      "[I 2025-02-11 16:28:31,738] A new study created in memory with name: no-name-48189291-d300-43b1-b8d7-930ef7db43fc\n",
      "[I 2025-02-11 16:28:33,325] Trial 0 finished with value: 0.8459607562839299 and parameters: {'num_leaves': 179, 'max_depth': 10, 'learning_rate': 0.03180944179709, 'n_estimators': 74, 'subsample': 0.8648896588134614, 'colsample_bytree': 0.9032304028036708}. Best is trial 0 with value: 0.8459607562839299.\n",
      "[I 2025-02-11 16:28:35,875] Trial 1 finished with value: 0.8616939807014857 and parameters: {'num_leaves': 152, 'max_depth': 9, 'learning_rate': 0.07714918388292209, 'n_estimators': 174, 'subsample': 0.9843573225634787, 'colsample_bytree': 0.7794225619535604}. Best is trial 1 with value: 0.8616939807014857.\n",
      "[I 2025-02-11 16:28:36,660] Trial 2 finished with value: 0.8294446997157979 and parameters: {'num_leaves': 67, 'max_depth': 4, 'learning_rate': 0.022212830069203156, 'n_estimators': 75, 'subsample': 0.5587633123417652, 'colsample_bytree': 0.614010617747518}. Best is trial 1 with value: 0.8616939807014857.\n",
      "[I 2025-02-11 16:28:38,066] Trial 3 finished with value: 0.833409914739368 and parameters: {'num_leaves': 119, 'max_depth': 5, 'learning_rate': 0.023072873513282157, 'n_estimators': 110, 'subsample': 0.8124080831705417, 'colsample_bytree': 0.9044915027336308}. Best is trial 1 with value: 0.8616939807014857.\n",
      "[I 2025-02-11 16:28:39,625] Trial 4 finished with value: 0.8417998332227158 and parameters: {'num_leaves': 250, 'max_depth': 6, 'learning_rate': 0.055216283718764254, 'n_estimators': 129, 'subsample': 0.9620151231009829, 'colsample_bytree': 0.6180434733146907}. Best is trial 1 with value: 0.8616939807014857.\n",
      "[I 2025-02-11 16:28:40,473] Trial 5 finished with value: 0.8335715865965522 and parameters: {'num_leaves': 299, 'max_depth': 6, 'learning_rate': 0.03420194286768772, 'n_estimators': 56, 'subsample': 0.5781910518980986, 'colsample_bytree': 0.534067278213737}. Best is trial 1 with value: 0.8616939807014857.\n",
      "[I 2025-02-11 16:28:41,437] Trial 6 finished with value: 0.827445074113783 and parameters: {'num_leaves': 98, 'max_depth': 3, 'learning_rate': 0.03044976424473897, 'n_estimators': 96, 'subsample': 0.9375364529483964, 'colsample_bytree': 0.9570982394280241}. Best is trial 1 with value: 0.8616939807014857.\n",
      "[I 2025-02-11 16:28:42,292] Trial 7 finished with value: 0.8292575007232689 and parameters: {'num_leaves': 188, 'max_depth': 5, 'learning_rate': 0.01079749215679342, 'n_estimators': 66, 'subsample': 0.6062065875597218, 'colsample_bytree': 0.5314667770482258}. Best is trial 1 with value: 0.8616939807014857.\n",
      "[I 2025-02-11 16:28:44,400] Trial 8 finished with value: 0.8427698643658209 and parameters: {'num_leaves': 99, 'max_depth': 7, 'learning_rate': 0.02686824097638809, 'n_estimators': 151, 'subsample': 0.846665739353814, 'colsample_bytree': 0.5840195154202675}. Best is trial 1 with value: 0.8616939807014857.\n",
      "[I 2025-02-11 16:28:45,960] Trial 9 finished with value: 0.8290532836405099 and parameters: {'num_leaves': 225, 'max_depth': 3, 'learning_rate': 0.03598425736596179, 'n_estimators': 190, 'subsample': 0.5662201183754878, 'colsample_bytree': 0.8860568660689694}. Best is trial 1 with value: 0.8616939807014857.\n",
      "[I 2025-02-11 16:28:47,668] Trial 10 finished with value: 0.8469392964721499 and parameters: {'num_leaves': 22, 'max_depth': 12, 'learning_rate': 0.14723453839991577, 'n_estimators': 187, 'subsample': 0.7022976700685579, 'colsample_bytree': 0.7539345989237662}. Best is trial 1 with value: 0.8616939807014857.\n",
      "[I 2025-02-11 16:28:49,515] Trial 11 finished with value: 0.8520702506764691 and parameters: {'num_leaves': 31, 'max_depth': 12, 'learning_rate': 0.16303045279519773, 'n_estimators': 196, 'subsample': 0.6926289593454353, 'colsample_bytree': 0.7583589957140486}. Best is trial 1 with value: 0.8616939807014857.\n",
      "[I 2025-02-11 16:28:51,272] Trial 12 finished with value: 0.8565374993618217 and parameters: {'num_leaves': 50, 'max_depth': 10, 'learning_rate': 0.17285436129390472, 'n_estimators': 164, 'subsample': 0.7272175428685529, 'colsample_bytree': 0.7799497038788681}. Best is trial 1 with value: 0.8616939807014857.\n",
      "[I 2025-02-11 16:28:53,936] Trial 13 finished with value: 0.8632681540477528 and parameters: {'num_leaves': 147, 'max_depth': 9, 'learning_rate': 0.09581458157301916, 'n_estimators': 164, 'subsample': 0.7503685046861578, 'colsample_bytree': 0.8068624609686437}. Best is trial 13 with value: 0.8632681540477528.\n",
      "[I 2025-02-11 16:28:57,040] Trial 14 finished with value: 0.8620598696414289 and parameters: {'num_leaves': 156, 'max_depth': 9, 'learning_rate': 0.08420554695472812, 'n_estimators': 160, 'subsample': 0.9991588453750994, 'colsample_bytree': 0.8268486707428497}. Best is trial 13 with value: 0.8632681540477528.\n",
      "[I 2025-02-11 16:28:59,864] Trial 15 finished with value: 0.8617024897466007 and parameters: {'num_leaves': 158, 'max_depth': 9, 'learning_rate': 0.09264552321842134, 'n_estimators': 144, 'subsample': 0.8982099054672295, 'colsample_bytree': 0.8270053444884966}. Best is trial 13 with value: 0.8632681540477528.\n",
      "[I 2025-02-11 16:29:02,436] Trial 16 finished with value: 0.8598049726859652 and parameters: {'num_leaves': 217, 'max_depth': 8, 'learning_rate': 0.09709456453163892, 'n_estimators': 149, 'subsample': 0.5001615944855567, 'colsample_bytree': 0.7008777297945198}. Best is trial 13 with value: 0.8632681540477528.\n",
      "[I 2025-02-11 16:29:05,298] Trial 17 finished with value: 0.8526063205187114 and parameters: {'num_leaves': 123, 'max_depth': 11, 'learning_rate': 0.05940688596372208, 'n_estimators': 127, 'subsample': 0.7766218260626719, 'colsample_bytree': 0.9870129446300107}. Best is trial 13 with value: 0.8632681540477528.\n",
      "[I 2025-02-11 16:29:08,053] Trial 18 finished with value: 0.8613961641224622 and parameters: {'num_leaves': 137, 'max_depth': 8, 'learning_rate': 0.10741421094463964, 'n_estimators': 169, 'subsample': 0.660327722221724, 'colsample_bytree': 0.6825841829602868}. Best is trial 13 with value: 0.8632681540477528.\n",
      "[I 2025-02-11 16:29:10,732] Trial 19 finished with value: 0.8570905872942939 and parameters: {'num_leaves': 190, 'max_depth': 10, 'learning_rate': 0.06775859699450033, 'n_estimators': 108, 'subsample': 0.7888248453919677, 'colsample_bytree': 0.8331653510943449}. Best is trial 13 with value: 0.8632681540477528.\n",
      "[I 2025-02-11 16:29:12,789] Trial 20 finished with value: 0.8533976617144025 and parameters: {'num_leaves': 83, 'max_depth': 7, 'learning_rate': 0.12168886183736637, 'n_estimators': 141, 'subsample': 0.9012254168137541, 'colsample_bytree': 0.8455900539385551}. Best is trial 13 with value: 0.8632681540477528.\n",
      "[I 2025-02-11 16:29:15,607] Trial 21 finished with value: 0.8601453344905635 and parameters: {'num_leaves': 154, 'max_depth': 9, 'learning_rate': 0.08535956347459242, 'n_estimators': 154, 'subsample': 0.9142583730290261, 'colsample_bytree': 0.8333365874483696}. Best is trial 13 with value: 0.8632681540477528.\n",
      "[I 2025-02-11 16:29:18,396] Trial 22 finished with value: 0.8533976617144025 and parameters: {'num_leaves': 171, 'max_depth': 9, 'learning_rate': 0.04655095121298653, 'n_estimators': 138, 'subsample': 0.9992918762644292, 'colsample_bytree': 0.7152054106585252}. Best is trial 13 with value: 0.8632681540477528.\n",
      "[I 2025-02-11 16:29:21,712] Trial 23 finished with value: 0.8811286397440479 and parameters: {'num_leaves': 215, 'max_depth': 11, 'learning_rate': 0.127285925184117, 'n_estimators': 180, 'subsample': 0.85182085170947, 'colsample_bytree': 0.804584688751549}. Best is trial 23 with value: 0.8811286397440479.\n",
      "[I 2025-02-11 16:29:25,009] Trial 24 finished with value: 0.8821752522931876 and parameters: {'num_leaves': 217, 'max_depth': 11, 'learning_rate': 0.13176775439116825, 'n_estimators': 179, 'subsample': 0.8373899536183754, 'colsample_bytree': 0.7999261076199424}. Best is trial 24 with value: 0.8821752522931876.\n",
      "[I 2025-02-11 16:29:28,674] Trial 25 finished with value: 0.8841578598049726 and parameters: {'num_leaves': 249, 'max_depth': 11, 'learning_rate': 0.12288984737802375, 'n_estimators': 178, 'subsample': 0.8333337568660627, 'colsample_bytree': 0.791723041873688}. Best is trial 25 with value: 0.8841578598049726.\n",
      "[I 2025-02-11 16:29:32,188] Trial 26 finished with value: 0.888863361753544 and parameters: {'num_leaves': 276, 'max_depth': 11, 'learning_rate': 0.13485587660545337, 'n_estimators': 180, 'subsample': 0.8347410281593527, 'colsample_bytree': 0.6636959828022888}. Best is trial 26 with value: 0.888863361753544.\n",
      "[I 2025-02-11 16:29:35,969] Trial 27 finished with value: 0.9027075781555793 and parameters: {'num_leaves': 283, 'max_depth': 11, 'learning_rate': 0.187423164956689, 'n_estimators': 198, 'subsample': 0.8214429594126045, 'colsample_bytree': 0.661867789927602}. Best is trial 27 with value: 0.9027075781555793.\n",
      "[I 2025-02-11 16:29:39,765] Trial 28 finished with value: 0.904554040945525 and parameters: {'num_leaves': 300, 'max_depth': 12, 'learning_rate': 0.1708733969129159, 'n_estimators': 199, 'subsample': 0.8023911784084165, 'colsample_bytree': 0.6733164515343334}. Best is trial 28 with value: 0.904554040945525.\n",
      "[I 2025-02-11 16:29:43,482] Trial 29 finished with value: 0.9071833358860468 and parameters: {'num_leaves': 294, 'max_depth': 12, 'learning_rate': 0.19310721068138517, 'n_estimators': 200, 'subsample': 0.8741527691491965, 'colsample_bytree': 0.6602401176517603}. Best is trial 29 with value: 0.9071833358860468.\n",
      "[I 2025-02-11 16:29:47,403] Trial 30 finished with value: 0.9095233232926601 and parameters: {'num_leaves': 300, 'max_depth': 12, 'learning_rate': 0.1963905074701354, 'n_estimators': 200, 'subsample': 0.877696784596948, 'colsample_bytree': 0.6441508167608584}. Best is trial 30 with value: 0.9095233232926601.\n",
      "[I 2025-02-11 16:29:52,019] Trial 31 finished with value: 0.9082384574803015 and parameters: {'num_leaves': 295, 'max_depth': 12, 'learning_rate': 0.1962039661224964, 'n_estimators': 200, 'subsample': 0.8761561456445972, 'colsample_bytree': 0.6383939322774113}. Best is trial 30 with value: 0.9095233232926601.\n",
      "[I 2025-02-11 16:29:56,318] Trial 32 finished with value: 0.9059750514797229 and parameters: {'num_leaves': 296, 'max_depth': 12, 'learning_rate': 0.18360964684781794, 'n_estimators': 199, 'subsample': 0.8968868881952055, 'colsample_bytree': 0.6292567005217641}. Best is trial 30 with value: 0.9095233232926601.\n",
      "[I 2025-02-11 16:30:00,369] Trial 33 finished with value: 0.903771208794949 and parameters: {'num_leaves': 270, 'max_depth': 12, 'learning_rate': 0.19605803705209118, 'n_estimators': 189, 'subsample': 0.8848064185526772, 'colsample_bytree': 0.6258396213260975}. Best is trial 30 with value: 0.9095233232926601.\n",
      "[I 2025-02-11 16:30:04,922] Trial 34 finished with value: 0.8959684144245332 and parameters: {'num_leaves': 260, 'max_depth': 12, 'learning_rate': 0.1516111162801518, 'n_estimators': 200, 'subsample': 0.9474698619078976, 'colsample_bytree': 0.5836036887347611}. Best is trial 30 with value: 0.9095233232926601.\n",
      "[I 2025-02-11 16:30:10,219] Trial 35 finished with value: 0.8523340310750328 and parameters: {'num_leaves': 288, 'max_depth': 10, 'learning_rate': 0.014964305000962198, 'n_estimators': 189, 'subsample': 0.8723726503520703, 'colsample_bytree': 0.5776382315488211}. Best is trial 30 with value: 0.9095233232926601.\n",
      "[I 2025-02-11 16:30:13,208] Trial 36 finished with value: 0.8948026752437841 and parameters: {'num_leaves': 235, 'max_depth': 12, 'learning_rate': 0.19102196639955843, 'n_estimators': 174, 'subsample': 0.9699789744834406, 'colsample_bytree': 0.6379537369085732}. Best is trial 30 with value: 0.9095233232926601.\n",
      "[I 2025-02-11 16:30:16,814] Trial 37 finished with value: 0.8960790320110277 and parameters: {'num_leaves': 261, 'max_depth': 10, 'learning_rate': 0.1972311126563907, 'n_estimators': 187, 'subsample': 0.9177142263760574, 'colsample_bytree': 0.5031321838170664}. Best is trial 30 with value: 0.9095233232926601.\n",
      "[I 2025-02-11 16:30:19,014] Trial 38 finished with value: 0.8697690645155801 and parameters: {'num_leaves': 289, 'max_depth': 12, 'learning_rate': 0.10915028906131365, 'n_estimators': 86, 'subsample': 0.8765776694625501, 'colsample_bytree': 0.7097756831110987}. Best is trial 30 with value: 0.9095233232926601.\n",
      "[I 2025-02-11 16:30:21,392] Trial 39 finished with value: 0.877529313660421 and parameters: {'num_leaves': 242, 'max_depth': 11, 'learning_rate': 0.15368643644009874, 'n_estimators': 117, 'subsample': 0.9283687551445543, 'colsample_bytree': 0.5965358773170057}. Best is trial 30 with value: 0.9095233232926601.\n",
      "[I 2025-02-11 16:30:25,214] Trial 40 finished with value: 0.8721005428770784 and parameters: {'num_leaves': 267, 'max_depth': 10, 'learning_rate': 0.07074533548079141, 'n_estimators': 192, 'subsample': 0.7696954817867286, 'colsample_bytree': 0.6430920588383858}. Best is trial 30 with value: 0.9095233232926601.\n",
      "[I 2025-02-11 16:30:28,902] Trial 41 finished with value: 0.9036946273889144 and parameters: {'num_leaves': 300, 'max_depth': 12, 'learning_rate': 0.17387601754946605, 'n_estimators': 200, 'subsample': 0.8042649507722965, 'colsample_bytree': 0.5566031880663173}. Best is trial 30 with value: 0.9095233232926601.\n",
      "[I 2025-02-11 16:30:32,501] Trial 42 finished with value: 0.898410510372526 and parameters: {'num_leaves': 299, 'max_depth': 12, 'learning_rate': 0.15501011941836373, 'n_estimators': 184, 'subsample': 0.8669655672781178, 'colsample_bytree': 0.6098004611783802}. Best is trial 30 with value: 0.9095233232926601.\n",
      "[I 2025-02-11 16:30:36,284] Trial 43 finished with value: 0.9006824254182195 and parameters: {'num_leaves': 282, 'max_depth': 12, 'learning_rate': 0.1685837181116132, 'n_estimators': 194, 'subsample': 0.8075142816942937, 'colsample_bytree': 0.6742982321414339}. Best is trial 30 with value: 0.9095233232926601.\n",
      "[I 2025-02-11 16:30:40,452] Trial 44 finished with value: 0.8861404673167577 and parameters: {'num_leaves': 254, 'max_depth': 11, 'learning_rate': 0.1414701653819732, 'n_estimators': 171, 'subsample': 0.8589031845023412, 'colsample_bytree': 0.7266809997538585}. Best is trial 30 with value: 0.9095233232926601.\n",
      "[I 2025-02-11 16:30:42,622] Trial 45 finished with value: 0.8410510372525996 and parameters: {'num_leaves': 273, 'max_depth': 4, 'learning_rate': 0.11398671889406661, 'n_estimators': 200, 'subsample': 0.9517727352011562, 'colsample_bytree': 0.6471598767747886}. Best is trial 30 with value: 0.9095233232926601.\n",
      "[I 2025-02-11 16:30:47,844] Trial 46 finished with value: 0.9039073535167883 and parameters: {'num_leaves': 300, 'max_depth': 12, 'learning_rate': 0.17142995976250408, 'n_estimators': 194, 'subsample': 0.894661448216767, 'colsample_bytree': 0.7350877080778442}. Best is trial 30 with value: 0.9095233232926601.\n",
      "[I 2025-02-11 16:30:51,981] Trial 47 finished with value: 0.8925647963785504 and parameters: {'num_leaves': 288, 'max_depth': 11, 'learning_rate': 0.1463420486326191, 'n_estimators': 185, 'subsample': 0.7373785903575254, 'colsample_bytree': 0.687982668965349}. Best is trial 30 with value: 0.9095233232926601.\n",
      "[I 2025-02-11 16:30:57,263] Trial 48 finished with value: 0.8513895270672726 and parameters: {'num_leaves': 236, 'max_depth': 12, 'learning_rate': 0.016598169809539702, 'n_estimators': 169, 'subsample': 0.9249142376851209, 'colsample_bytree': 0.5502103748999106}. Best is trial 30 with value: 0.9095233232926601.\n",
      "[I 2025-02-11 16:31:00,586] Trial 49 finished with value: 0.8949898742363132 and parameters: {'num_leaves': 200, 'max_depth': 12, 'learning_rate': 0.19759968865648536, 'n_estimators': 194, 'subsample': 0.968013653001962, 'colsample_bytree': 0.6118412430730494}. Best is trial 30 with value: 0.9095233232926601.\n",
      "[I 2025-02-11 16:31:05,532] Trial 50 finished with value: 0.8619237249195896 and parameters: {'num_leaves': 276, 'max_depth': 10, 'learning_rate': 0.03847374365336475, 'n_estimators': 183, 'subsample': 0.7976817240398372, 'colsample_bytree': 0.6544885514891586}. Best is trial 30 with value: 0.9095233232926601.\n",
      "[I 2025-02-11 16:31:09,853] Trial 51 finished with value: 0.9022565987644866 and parameters: {'num_leaves': 298, 'max_depth': 12, 'learning_rate': 0.168126006142087, 'n_estimators': 193, 'subsample': 0.8947821186810248, 'colsample_bytree': 0.7316831425521674}. Best is trial 30 with value: 0.9095233232926601.\n",
      "[I 2025-02-11 16:31:14,015] Trial 52 finished with value: 0.9045455319004101 and parameters: {'num_leaves': 292, 'max_depth': 12, 'learning_rate': 0.17621131168084445, 'n_estimators': 195, 'subsample': 0.9095074667829769, 'colsample_bytree': 0.7601648993938014}. Best is trial 30 with value: 0.9095233232926601.\n",
      "[I 2025-02-11 16:31:18,048] Trial 53 finished with value: 0.9017290379673593 and parameters: {'num_leaves': 289, 'max_depth': 11, 'learning_rate': 0.1775807107911829, 'n_estimators': 200, 'subsample': 0.9121429346940391, 'colsample_bytree': 0.7617821973756763}. Best is trial 30 with value: 0.9095233232926601.\n",
      "[I 2025-02-11 16:31:20,213] Trial 54 finished with value: 0.865616650499481 and parameters: {'num_leaves': 264, 'max_depth': 12, 'learning_rate': 0.14355035215021136, 'n_estimators': 61, 'subsample': 0.8570138470894598, 'colsample_bytree': 0.6948517324469464}. Best is trial 30 with value: 0.9095233232926601.\n",
      "[I 2025-02-11 16:31:25,034] Trial 55 finished with value: 0.8959003420636136 and parameters: {'num_leaves': 278, 'max_depth': 11, 'learning_rate': 0.15996791647098363, 'n_estimators': 188, 'subsample': 0.8213394512982921, 'colsample_bytree': 0.676422930898109}. Best is trial 30 with value: 0.9095233232926601.\n",
      "[I 2025-02-11 16:31:27,729] Trial 56 finished with value: 0.8496962270893961 and parameters: {'num_leaves': 249, 'max_depth': 5, 'learning_rate': 0.19781838802210464, 'n_estimators': 175, 'subsample': 0.9385405765069131, 'colsample_bytree': 0.6255412271196809}. Best is trial 30 with value: 0.9095233232926601.\n",
      "[I 2025-02-11 16:31:30,401] Trial 57 finished with value: 0.8488027773523256 and parameters: {'num_leaves': 291, 'max_depth': 6, 'learning_rate': 0.10483920328203943, 'n_estimators': 165, 'subsample': 0.8830127701831347, 'colsample_bytree': 0.6011426209421138}. Best is trial 30 with value: 0.9095233232926601.\n",
      "[I 2025-02-11 16:31:36,017] Trial 58 finished with value: 0.889841901941764 and parameters: {'num_leaves': 269, 'max_depth': 11, 'learning_rate': 0.13027662149743752, 'n_estimators': 195, 'subsample': 0.6583419737791127, 'colsample_bytree': 0.9121390612294519}. Best is trial 30 with value: 0.9095233232926601.\n",
      "[I 2025-02-11 16:31:40,905] Trial 59 finished with value: 0.8846939296472149 and parameters: {'num_leaves': 255, 'max_depth': 12, 'learning_rate': 0.12046204076855253, 'n_estimators': 184, 'subsample': 0.7730105660466388, 'colsample_bytree': 0.5667047987057852}. Best is trial 30 with value: 0.9095233232926601.\n",
      "[I 2025-02-11 16:31:43,269] Trial 60 finished with value: 0.8765677915624308 and parameters: {'num_leaves': 282, 'max_depth': 12, 'learning_rate': 0.17902059776591314, 'n_estimators': 77, 'subsample': 0.981412817979702, 'colsample_bytree': 0.6331503454190733}. Best is trial 30 with value: 0.9095233232926601.\n",
      "[I 2025-02-11 16:31:48,368] Trial 61 finished with value: 0.9015503480199452 and parameters: {'num_leaves': 298, 'max_depth': 12, 'learning_rate': 0.16439091892161253, 'n_estimators': 193, 'subsample': 0.9052025988019882, 'colsample_bytree': 0.742934310160646}. Best is trial 30 with value: 0.9095233232926601.\n",
      "[I 2025-02-11 16:31:53,615] Trial 62 finished with value: 0.903779717840064 and parameters: {'num_leaves': 292, 'max_depth': 12, 'learning_rate': 0.1778547012769002, 'n_estimators': 195, 'subsample': 0.8924263572341868, 'colsample_bytree': 0.7791423477086513}. Best is trial 30 with value: 0.9095233232926601.\n",
      "[I 2025-02-11 16:31:58,227] Trial 63 finished with value: 0.8945133677098756 and parameters: {'num_leaves': 300, 'max_depth': 11, 'learning_rate': 0.1398917342471461, 'n_estimators': 188, 'subsample': 0.8440074268308293, 'colsample_bytree': 0.7127343566583679}. Best is trial 30 with value: 0.9095233232926601.\n",
      "[I 2025-02-11 16:32:02,560] Trial 64 finished with value: 0.8963257943193614 and parameters: {'num_leaves': 279, 'max_depth': 12, 'learning_rate': 0.15837401840132212, 'n_estimators': 178, 'subsample': 0.9375858223747813, 'colsample_bytree': 0.6649292862964485}. Best is trial 30 with value: 0.9095233232926601.\n",
      "[I 2025-02-11 16:32:07,456] Trial 65 finished with value: 0.9013206038018413 and parameters: {'num_leaves': 272, 'max_depth': 11, 'learning_rate': 0.1800054792442989, 'n_estimators': 196, 'subsample': 0.8743289237584431, 'colsample_bytree': 0.6974026362192403}. Best is trial 30 with value: 0.9095233232926601.\n",
      "[I 2025-02-11 16:32:13,098] Trial 66 finished with value: 0.8573884038733174 and parameters: {'num_leaves': 285, 'max_depth': 12, 'learning_rate': 0.027420352529247665, 'n_estimators': 156, 'subsample': 0.8258616766893363, 'colsample_bytree': 0.7644898426003064}. Best is trial 30 with value: 0.9095233232926601.\n",
      "[I 2025-02-11 16:32:18,523] Trial 67 finished with value: 0.8830601929851432 and parameters: {'num_leaves': 292, 'max_depth': 11, 'learning_rate': 0.09912207318454669, 'n_estimators': 189, 'subsample': 0.9055281497879963, 'colsample_bytree': 0.7393145048053571}. Best is trial 30 with value: 0.9095233232926601.\n",
      "[I 2025-02-11 16:32:24,921] Trial 68 finished with value: 0.8491516482020388 and parameters: {'num_leaves': 261, 'max_depth': 10, 'learning_rate': 0.0103047212293185, 'n_estimators': 182, 'subsample': 0.8522979466651551, 'colsample_bytree': 0.6824797211569438}. Best is trial 30 with value: 0.9095233232926601.\n",
      "[I 2025-02-11 16:32:28,843] Trial 69 finished with value: 0.8527594833307807 and parameters: {'num_leaves': 99, 'max_depth': 12, 'learning_rate': 0.048425127339509814, 'n_estimators': 197, 'subsample': 0.959185055803888, 'colsample_bytree': 0.6506754968593085}. Best is trial 30 with value: 0.9095233232926601.\n",
      "[I 2025-02-11 16:32:31,460] Trial 70 finished with value: 0.8566481169483161 and parameters: {'num_leaves': 280, 'max_depth': 8, 'learning_rate': 0.11525551112904898, 'n_estimators': 97, 'subsample': 0.8885245301431466, 'colsample_bytree': 0.8584034007958924}. Best is trial 30 with value: 0.9095233232926601.\n",
      "[I 2025-02-11 16:32:36,475] Trial 71 finished with value: 0.9048433484794336 and parameters: {'num_leaves': 294, 'max_depth': 12, 'learning_rate': 0.17911432541198458, 'n_estimators': 191, 'subsample': 0.8886598178630591, 'colsample_bytree': 0.7780109670721765}. Best is trial 30 with value: 0.9095233232926601.\n",
      "[I 2025-02-11 16:32:41,693] Trial 72 finished with value: 0.9052688007351815 and parameters: {'num_leaves': 293, 'max_depth': 12, 'learning_rate': 0.1834118496123174, 'n_estimators': 190, 'subsample': 0.8639376900276508, 'colsample_bytree': 0.8161064900170986}. Best is trial 30 with value: 0.9095233232926601.\n",
      "[I 2025-02-11 16:32:46,743] Trial 73 finished with value: 0.9027926686067289 and parameters: {'num_leaves': 293, 'max_depth': 11, 'learning_rate': 0.18607745179432447, 'n_estimators': 191, 'subsample': 0.863793290213311, 'colsample_bytree': 0.7824487121566109}. Best is trial 30 with value: 0.9095233232926601.\n",
      "[I 2025-02-11 16:32:51,364] Trial 74 finished with value: 0.9068940283521383 and parameters: {'num_leaves': 269, 'max_depth': 12, 'learning_rate': 0.19932564396597816, 'n_estimators': 198, 'subsample': 0.9255611835036033, 'colsample_bytree': 0.8175125616536462}. Best is trial 30 with value: 0.9095233232926601.\n",
      "[I 2025-02-11 16:32:55,747] Trial 75 finished with value: 0.906162250472252 and parameters: {'num_leaves': 267, 'max_depth': 12, 'learning_rate': 0.19886280725030334, 'n_estimators': 200, 'subsample': 0.923870822212648, 'colsample_bytree': 0.8222106967894932}. Best is trial 30 with value: 0.9095233232926601.\n",
      "[I 2025-02-11 16:32:59,619] Trial 76 finished with value: 0.8990401797110328 and parameters: {'num_leaves': 240, 'max_depth': 12, 'learning_rate': 0.19837222429831008, 'n_estimators': 177, 'subsample': 0.9284595354851949, 'colsample_bytree': 0.8156192790762222}. Best is trial 30 with value: 0.9095233232926601.\n",
      "[I 2025-02-11 16:33:03,238] Trial 77 finished with value: 0.8828049216316944 and parameters: {'num_leaves': 265, 'max_depth': 11, 'learning_rate': 0.15287908848745857, 'n_estimators': 135, 'subsample': 0.9502395253825364, 'colsample_bytree': 0.8615588228298457}. Best is trial 30 with value: 0.9095233232926601.\n",
      "[I 2025-02-11 16:33:08,277] Trial 78 finished with value: 0.8915011657391807 and parameters: {'num_leaves': 271, 'max_depth': 12, 'learning_rate': 0.1327706857168096, 'n_estimators': 184, 'subsample': 0.9846708147398614, 'colsample_bytree': 0.844256464263051}. Best is trial 30 with value: 0.9095233232926601.\n",
      "[I 2025-02-11 16:33:12,738] Trial 79 finished with value: 0.8936454451081499 and parameters: {'num_leaves': 247, 'max_depth': 11, 'learning_rate': 0.15999109798462113, 'n_estimators': 191, 'subsample': 0.8807394602113908, 'colsample_bytree': 0.8733342757575668}. Best is trial 30 with value: 0.9095233232926601.\n",
      "[I 2025-02-11 16:33:16,665] Trial 80 finished with value: 0.9006398801926447 and parameters: {'num_leaves': 257, 'max_depth': 12, 'learning_rate': 0.19975757705769331, 'n_estimators': 173, 'subsample': 0.9229870130267789, 'colsample_bytree': 0.8183676924730698}. Best is trial 30 with value: 0.9095233232926601.\n",
      "[I 2025-02-11 16:33:21,837] Trial 81 finished with value: 0.9066727931791494 and parameters: {'num_leaves': 285, 'max_depth': 12, 'learning_rate': 0.18646275643943752, 'n_estimators': 198, 'subsample': 0.5029223078709346, 'colsample_bytree': 0.7929131047288018}. Best is trial 30 with value: 0.9095233232926601.\n",
      "[I 2025-02-11 16:33:26,593] Trial 82 finished with value: 0.9042647334116165 and parameters: {'num_leaves': 284, 'max_depth': 12, 'learning_rate': 0.1831166179310181, 'n_estimators': 199, 'subsample': 0.5353246794581195, 'colsample_bytree': 0.7934008602952605}. Best is trial 30 with value: 0.9095233232926601.\n",
      "[I 2025-02-11 16:33:31,084] Trial 83 finished with value: 0.8932540290328619 and parameters: {'num_leaves': 224, 'max_depth': 12, 'learning_rate': 0.14806575288147, 'n_estimators': 200, 'subsample': 0.629142159234049, 'colsample_bytree': 0.8091294818062778}. Best is trial 30 with value: 0.9095233232926601.\n",
      "[I 2025-02-11 16:33:36,483] Trial 84 finished with value: 0.8982233113799969 and parameters: {'num_leaves': 284, 'max_depth': 11, 'learning_rate': 0.16560766614447914, 'n_estimators': 187, 'subsample': 0.8378216244699844, 'colsample_bytree': 0.9162989043314761}. Best is trial 30 with value: 0.9095233232926601.\n",
      "[I 2025-02-11 16:33:41,580] Trial 85 finished with value: 0.9042221881860417 and parameters: {'num_leaves': 273, 'max_depth': 12, 'learning_rate': 0.18656799166731128, 'n_estimators': 191, 'subsample': 0.6880635193556008, 'colsample_bytree': 0.7751090339574778}. Best is trial 30 with value: 0.9095233232926601.\n",
      "[I 2025-02-11 16:33:45,623] Trial 86 finished with value: 0.8931689385817123 and parameters: {'num_leaves': 276, 'max_depth': 12, 'learning_rate': 0.14330653993482506, 'n_estimators': 181, 'subsample': 0.544823298439084, 'colsample_bytree': 0.8397514724791921}. Best is trial 30 with value: 0.9095233232926601.\n",
      "[I 2025-02-11 16:33:47,767] Trial 87 finished with value: 0.8560184476098093 and parameters: {'num_leaves': 39, 'max_depth': 11, 'learning_rate': 0.1842403653875107, 'n_estimators': 197, 'subsample': 0.9397694795610579, 'colsample_bytree': 0.8248742195650698}. Best is trial 30 with value: 0.9095233232926601.\n",
      "[I 2025-02-11 16:33:50,535] Trial 88 finished with value: 0.8771804428107077 and parameters: {'num_leaves': 122, 'max_depth': 12, 'learning_rate': 0.16244346514348995, 'n_estimators': 186, 'subsample': 0.8651075597388311, 'colsample_bytree': 0.8857652174911343}. Best is trial 30 with value: 0.9095233232926601.\n",
      "[I 2025-02-11 16:33:54,100] Trial 89 finished with value: 0.8541039124589439 and parameters: {'num_leaves': 293, 'max_depth': 12, 'learning_rate': 0.02182549711214946, 'n_estimators': 121, 'subsample': 0.5914894798121503, 'colsample_bytree': 0.7958644544494}. Best is trial 30 with value: 0.9095233232926601.\n",
      "[I 2025-02-11 16:33:56,947] Trial 90 finished with value: 0.8740916594339784 and parameters: {'num_leaves': 137, 'max_depth': 11, 'learning_rate': 0.1373679728123123, 'n_estimators': 197, 'subsample': 0.899186944233617, 'colsample_bytree': 0.6221693447153314}. Best is trial 30 with value: 0.9095233232926601.\n",
      "[I 2025-02-11 16:34:00,673] Trial 91 finished with value: 0.9041370977348921 and parameters: {'num_leaves': 300, 'max_depth': 12, 'learning_rate': 0.17212315586226717, 'n_estimators': 200, 'subsample': 0.7935260116889187, 'colsample_bytree': 0.5994638458804271}. Best is trial 30 with value: 0.9095233232926601.\n",
      "[I 2025-02-11 16:34:04,994] Trial 92 finished with value: 0.9040349891935127 and parameters: {'num_leaves': 286, 'max_depth': 12, 'learning_rate': 0.1863261062413301, 'n_estimators': 191, 'subsample': 0.7513772051661066, 'colsample_bytree': 0.665903798201233}. Best is trial 30 with value: 0.9095233232926601.\n",
      "[I 2025-02-11 16:34:09,101] Trial 93 finished with value: 0.8834516090604312 and parameters: {'num_leaves': 168, 'max_depth': 12, 'learning_rate': 0.15260830029810846, 'n_estimators': 196, 'subsample': 0.8729496785031102, 'colsample_bytree': 0.8559365730553927}. Best is trial 30 with value: 0.9095233232926601.\n",
      "[I 2025-02-11 16:34:13,987] Trial 94 finished with value: 0.8979084767107435 and parameters: {'num_leaves': 295, 'max_depth': 11, 'learning_rate': 0.16681946257426578, 'n_estimators': 193, 'subsample': 0.8445159635409871, 'colsample_bytree': 0.642206534391064}. Best is trial 30 with value: 0.9095233232926601.\n",
      "[I 2025-02-11 16:34:17,803] Trial 95 finished with value: 0.86681642586069 and parameters: {'num_leaves': 268, 'max_depth': 7, 'learning_rate': 0.1889421188991961, 'n_estimators': 200, 'subsample': 0.9147536475095921, 'colsample_bytree': 0.8034455091535363}. Best is trial 30 with value: 0.9095233232926601.\n",
      "[I 2025-02-11 16:34:22,830] Trial 96 finished with value: 0.8998570480420687 and parameters: {'num_leaves': 279, 'max_depth': 12, 'learning_rate': 0.17301678988156474, 'n_estimators': 189, 'subsample': 0.8215740694986362, 'colsample_bytree': 0.723564211451715}. Best is trial 30 with value: 0.9095233232926601.\n",
      "[I 2025-02-11 16:34:28,367] Trial 97 finished with value: 0.894036861183438 and parameters: {'num_leaves': 285, 'max_depth': 12, 'learning_rate': 0.12622221599107336, 'n_estimators': 197, 'subsample': 0.8819402725345584, 'colsample_bytree': 0.7713838753647433}. Best is trial 30 with value: 0.9095233232926601.\n",
      "[I 2025-02-11 16:34:33,262] Trial 98 finished with value: 0.8993294872449413 and parameters: {'num_leaves': 289, 'max_depth': 12, 'learning_rate': 0.15215864520343667, 'n_estimators': 192, 'subsample': 0.7157813918254343, 'colsample_bytree': 0.6355892861798411}. Best is trial 30 with value: 0.9095233232926601.\n",
      "[I 2025-02-11 16:34:38,569] Trial 99 finished with value: 0.9040775344190874 and parameters: {'num_leaves': 294, 'max_depth': 11, 'learning_rate': 0.19612583024255334, 'n_estimators': 186, 'subsample': 0.8565912456906292, 'colsample_bytree': 0.7847379899521424}. Best is trial 30 with value: 0.9095233232926601.\n"
     ]
    },
    {
     "name": "stdout",
     "output_type": "stream",
     "text": [
      "Best hyperparameters: {'num_leaves': 300, 'max_depth': 12, 'learning_rate': 0.1963905074701354, 'n_estimators': 200, 'subsample': 0.877696784596948, 'colsample_bytree': 0.6441508167608584}\n"
     ]
    }
   ],
   "source": [
    "# 1. 목적 함수 정의\n",
    "def objective(trial):\n",
    "    param = {\n",
    "        'objective': 'binary',\n",
    "        'metric': 'binary_error',\n",
    "        'boosting_type': 'gbdt',  # Gradient Boosting Decision Tree\n",
    "        'verbose': -1,  \n",
    "        'num_leaves': trial.suggest_int('num_leaves', 20, 300),\n",
    "        'max_depth': trial.suggest_int('max_depth', 3, 12),\n",
    "        'learning_rate': trial.suggest_loguniform('learning_rate', 0.01, 0.2),\n",
    "        'n_estimators': trial.suggest_int('n_estimators', 50, 200),\n",
    "        'subsample': trial.suggest_uniform('subsample', 0.5, 1.0),\n",
    "        'colsample_bytree': trial.suggest_uniform('colsample_bytree', 0.5, 1.0)\n",
    "    }\n",
    "    \n",
    "    # LightGBM 모델 훈련\n",
    "    model = lgb.LGBMClassifier(**param)\n",
    "    model.fit(X_train, y_train)\n",
    "    \n",
    "    # 예측 및 정확도 평가\n",
    "    y_pred = model.predict(X_test)\n",
    "    accuracy = accuracy_score(y_test, y_pred)\n",
    "    \n",
    "    return accuracy  # 목적 함수는 최대화하려는 값(여기서는 accuracy)\n",
    "\n",
    "# 2. Optuna로 최적화 수행\n",
    "study = optuna.create_study(direction='maximize')  # accuracy를 최대화\n",
    "study.optimize(objective, n_trials=100)  # 100번의 실험을 통해 최적화 진행\n",
    "\n",
    "# 3. 최적의 하이퍼파라미터 출력\n",
    "print('Best hyperparameters:', study.best_params)"
   ]
  },
  {
   "cell_type": "code",
   "execution_count": 62,
   "metadata": {},
   "outputs": [
    {
     "data": {
      "application/vnd.plotly.v1+json": {
       "config": {
        "plotlyServerURL": "https://plot.ly"
       },
       "data": [
        {
         "cliponaxis": false,
         "hovertemplate": [
          "subsample (FloatDistribution): 0.009664129651520137<extra></extra>",
          "colsample_bytree (FloatDistribution): 0.02583088305805548<extra></extra>",
          "n_estimators (IntDistribution): 0.02811751095991928<extra></extra>",
          "num_leaves (IntDistribution): 0.09976852544182487<extra></extra>",
          "max_depth (IntDistribution): 0.32069497877970643<extra></extra>",
          "learning_rate (FloatDistribution): 0.5159239721089738<extra></extra>"
         ],
         "name": "Objective Value",
         "orientation": "h",
         "text": [
          "<0.01",
          "0.03",
          "0.03",
          "0.10",
          "0.32",
          "0.52"
         ],
         "textposition": "outside",
         "type": "bar",
         "x": [
          0.009664129651520137,
          0.02583088305805548,
          0.02811751095991928,
          0.09976852544182487,
          0.32069497877970643,
          0.5159239721089738
         ],
         "y": [
          "subsample",
          "colsample_bytree",
          "n_estimators",
          "num_leaves",
          "max_depth",
          "learning_rate"
         ]
        }
       ],
       "layout": {
        "template": {
         "data": {
          "bar": [
           {
            "error_x": {
             "color": "#2a3f5f"
            },
            "error_y": {
             "color": "#2a3f5f"
            },
            "marker": {
             "line": {
              "color": "#E5ECF6",
              "width": 0.5
             },
             "pattern": {
              "fillmode": "overlay",
              "size": 10,
              "solidity": 0.2
             }
            },
            "type": "bar"
           }
          ],
          "barpolar": [
           {
            "marker": {
             "line": {
              "color": "#E5ECF6",
              "width": 0.5
             },
             "pattern": {
              "fillmode": "overlay",
              "size": 10,
              "solidity": 0.2
             }
            },
            "type": "barpolar"
           }
          ],
          "carpet": [
           {
            "aaxis": {
             "endlinecolor": "#2a3f5f",
             "gridcolor": "white",
             "linecolor": "white",
             "minorgridcolor": "white",
             "startlinecolor": "#2a3f5f"
            },
            "baxis": {
             "endlinecolor": "#2a3f5f",
             "gridcolor": "white",
             "linecolor": "white",
             "minorgridcolor": "white",
             "startlinecolor": "#2a3f5f"
            },
            "type": "carpet"
           }
          ],
          "choropleth": [
           {
            "colorbar": {
             "outlinewidth": 0,
             "ticks": ""
            },
            "type": "choropleth"
           }
          ],
          "contour": [
           {
            "colorbar": {
             "outlinewidth": 0,
             "ticks": ""
            },
            "colorscale": [
             [
              0,
              "#0d0887"
             ],
             [
              0.1111111111111111,
              "#46039f"
             ],
             [
              0.2222222222222222,
              "#7201a8"
             ],
             [
              0.3333333333333333,
              "#9c179e"
             ],
             [
              0.4444444444444444,
              "#bd3786"
             ],
             [
              0.5555555555555556,
              "#d8576b"
             ],
             [
              0.6666666666666666,
              "#ed7953"
             ],
             [
              0.7777777777777778,
              "#fb9f3a"
             ],
             [
              0.8888888888888888,
              "#fdca26"
             ],
             [
              1,
              "#f0f921"
             ]
            ],
            "type": "contour"
           }
          ],
          "contourcarpet": [
           {
            "colorbar": {
             "outlinewidth": 0,
             "ticks": ""
            },
            "type": "contourcarpet"
           }
          ],
          "heatmap": [
           {
            "colorbar": {
             "outlinewidth": 0,
             "ticks": ""
            },
            "colorscale": [
             [
              0,
              "#0d0887"
             ],
             [
              0.1111111111111111,
              "#46039f"
             ],
             [
              0.2222222222222222,
              "#7201a8"
             ],
             [
              0.3333333333333333,
              "#9c179e"
             ],
             [
              0.4444444444444444,
              "#bd3786"
             ],
             [
              0.5555555555555556,
              "#d8576b"
             ],
             [
              0.6666666666666666,
              "#ed7953"
             ],
             [
              0.7777777777777778,
              "#fb9f3a"
             ],
             [
              0.8888888888888888,
              "#fdca26"
             ],
             [
              1,
              "#f0f921"
             ]
            ],
            "type": "heatmap"
           }
          ],
          "histogram": [
           {
            "marker": {
             "pattern": {
              "fillmode": "overlay",
              "size": 10,
              "solidity": 0.2
             }
            },
            "type": "histogram"
           }
          ],
          "histogram2d": [
           {
            "colorbar": {
             "outlinewidth": 0,
             "ticks": ""
            },
            "colorscale": [
             [
              0,
              "#0d0887"
             ],
             [
              0.1111111111111111,
              "#46039f"
             ],
             [
              0.2222222222222222,
              "#7201a8"
             ],
             [
              0.3333333333333333,
              "#9c179e"
             ],
             [
              0.4444444444444444,
              "#bd3786"
             ],
             [
              0.5555555555555556,
              "#d8576b"
             ],
             [
              0.6666666666666666,
              "#ed7953"
             ],
             [
              0.7777777777777778,
              "#fb9f3a"
             ],
             [
              0.8888888888888888,
              "#fdca26"
             ],
             [
              1,
              "#f0f921"
             ]
            ],
            "type": "histogram2d"
           }
          ],
          "histogram2dcontour": [
           {
            "colorbar": {
             "outlinewidth": 0,
             "ticks": ""
            },
            "colorscale": [
             [
              0,
              "#0d0887"
             ],
             [
              0.1111111111111111,
              "#46039f"
             ],
             [
              0.2222222222222222,
              "#7201a8"
             ],
             [
              0.3333333333333333,
              "#9c179e"
             ],
             [
              0.4444444444444444,
              "#bd3786"
             ],
             [
              0.5555555555555556,
              "#d8576b"
             ],
             [
              0.6666666666666666,
              "#ed7953"
             ],
             [
              0.7777777777777778,
              "#fb9f3a"
             ],
             [
              0.8888888888888888,
              "#fdca26"
             ],
             [
              1,
              "#f0f921"
             ]
            ],
            "type": "histogram2dcontour"
           }
          ],
          "mesh3d": [
           {
            "colorbar": {
             "outlinewidth": 0,
             "ticks": ""
            },
            "type": "mesh3d"
           }
          ],
          "parcoords": [
           {
            "line": {
             "colorbar": {
              "outlinewidth": 0,
              "ticks": ""
             }
            },
            "type": "parcoords"
           }
          ],
          "pie": [
           {
            "automargin": true,
            "type": "pie"
           }
          ],
          "scatter": [
           {
            "fillpattern": {
             "fillmode": "overlay",
             "size": 10,
             "solidity": 0.2
            },
            "type": "scatter"
           }
          ],
          "scatter3d": [
           {
            "line": {
             "colorbar": {
              "outlinewidth": 0,
              "ticks": ""
             }
            },
            "marker": {
             "colorbar": {
              "outlinewidth": 0,
              "ticks": ""
             }
            },
            "type": "scatter3d"
           }
          ],
          "scattercarpet": [
           {
            "marker": {
             "colorbar": {
              "outlinewidth": 0,
              "ticks": ""
             }
            },
            "type": "scattercarpet"
           }
          ],
          "scattergeo": [
           {
            "marker": {
             "colorbar": {
              "outlinewidth": 0,
              "ticks": ""
             }
            },
            "type": "scattergeo"
           }
          ],
          "scattergl": [
           {
            "marker": {
             "colorbar": {
              "outlinewidth": 0,
              "ticks": ""
             }
            },
            "type": "scattergl"
           }
          ],
          "scattermap": [
           {
            "marker": {
             "colorbar": {
              "outlinewidth": 0,
              "ticks": ""
             }
            },
            "type": "scattermap"
           }
          ],
          "scattermapbox": [
           {
            "marker": {
             "colorbar": {
              "outlinewidth": 0,
              "ticks": ""
             }
            },
            "type": "scattermapbox"
           }
          ],
          "scatterpolar": [
           {
            "marker": {
             "colorbar": {
              "outlinewidth": 0,
              "ticks": ""
             }
            },
            "type": "scatterpolar"
           }
          ],
          "scatterpolargl": [
           {
            "marker": {
             "colorbar": {
              "outlinewidth": 0,
              "ticks": ""
             }
            },
            "type": "scatterpolargl"
           }
          ],
          "scatterternary": [
           {
            "marker": {
             "colorbar": {
              "outlinewidth": 0,
              "ticks": ""
             }
            },
            "type": "scatterternary"
           }
          ],
          "surface": [
           {
            "colorbar": {
             "outlinewidth": 0,
             "ticks": ""
            },
            "colorscale": [
             [
              0,
              "#0d0887"
             ],
             [
              0.1111111111111111,
              "#46039f"
             ],
             [
              0.2222222222222222,
              "#7201a8"
             ],
             [
              0.3333333333333333,
              "#9c179e"
             ],
             [
              0.4444444444444444,
              "#bd3786"
             ],
             [
              0.5555555555555556,
              "#d8576b"
             ],
             [
              0.6666666666666666,
              "#ed7953"
             ],
             [
              0.7777777777777778,
              "#fb9f3a"
             ],
             [
              0.8888888888888888,
              "#fdca26"
             ],
             [
              1,
              "#f0f921"
             ]
            ],
            "type": "surface"
           }
          ],
          "table": [
           {
            "cells": {
             "fill": {
              "color": "#EBF0F8"
             },
             "line": {
              "color": "white"
             }
            },
            "header": {
             "fill": {
              "color": "#C8D4E3"
             },
             "line": {
              "color": "white"
             }
            },
            "type": "table"
           }
          ]
         },
         "layout": {
          "annotationdefaults": {
           "arrowcolor": "#2a3f5f",
           "arrowhead": 0,
           "arrowwidth": 1
          },
          "autotypenumbers": "strict",
          "coloraxis": {
           "colorbar": {
            "outlinewidth": 0,
            "ticks": ""
           }
          },
          "colorscale": {
           "diverging": [
            [
             0,
             "#8e0152"
            ],
            [
             0.1,
             "#c51b7d"
            ],
            [
             0.2,
             "#de77ae"
            ],
            [
             0.3,
             "#f1b6da"
            ],
            [
             0.4,
             "#fde0ef"
            ],
            [
             0.5,
             "#f7f7f7"
            ],
            [
             0.6,
             "#e6f5d0"
            ],
            [
             0.7,
             "#b8e186"
            ],
            [
             0.8,
             "#7fbc41"
            ],
            [
             0.9,
             "#4d9221"
            ],
            [
             1,
             "#276419"
            ]
           ],
           "sequential": [
            [
             0,
             "#0d0887"
            ],
            [
             0.1111111111111111,
             "#46039f"
            ],
            [
             0.2222222222222222,
             "#7201a8"
            ],
            [
             0.3333333333333333,
             "#9c179e"
            ],
            [
             0.4444444444444444,
             "#bd3786"
            ],
            [
             0.5555555555555556,
             "#d8576b"
            ],
            [
             0.6666666666666666,
             "#ed7953"
            ],
            [
             0.7777777777777778,
             "#fb9f3a"
            ],
            [
             0.8888888888888888,
             "#fdca26"
            ],
            [
             1,
             "#f0f921"
            ]
           ],
           "sequentialminus": [
            [
             0,
             "#0d0887"
            ],
            [
             0.1111111111111111,
             "#46039f"
            ],
            [
             0.2222222222222222,
             "#7201a8"
            ],
            [
             0.3333333333333333,
             "#9c179e"
            ],
            [
             0.4444444444444444,
             "#bd3786"
            ],
            [
             0.5555555555555556,
             "#d8576b"
            ],
            [
             0.6666666666666666,
             "#ed7953"
            ],
            [
             0.7777777777777778,
             "#fb9f3a"
            ],
            [
             0.8888888888888888,
             "#fdca26"
            ],
            [
             1,
             "#f0f921"
            ]
           ]
          },
          "colorway": [
           "#636efa",
           "#EF553B",
           "#00cc96",
           "#ab63fa",
           "#FFA15A",
           "#19d3f3",
           "#FF6692",
           "#B6E880",
           "#FF97FF",
           "#FECB52"
          ],
          "font": {
           "color": "#2a3f5f"
          },
          "geo": {
           "bgcolor": "white",
           "lakecolor": "white",
           "landcolor": "#E5ECF6",
           "showlakes": true,
           "showland": true,
           "subunitcolor": "white"
          },
          "hoverlabel": {
           "align": "left"
          },
          "hovermode": "closest",
          "mapbox": {
           "style": "light"
          },
          "paper_bgcolor": "white",
          "plot_bgcolor": "#E5ECF6",
          "polar": {
           "angularaxis": {
            "gridcolor": "white",
            "linecolor": "white",
            "ticks": ""
           },
           "bgcolor": "#E5ECF6",
           "radialaxis": {
            "gridcolor": "white",
            "linecolor": "white",
            "ticks": ""
           }
          },
          "scene": {
           "xaxis": {
            "backgroundcolor": "#E5ECF6",
            "gridcolor": "white",
            "gridwidth": 2,
            "linecolor": "white",
            "showbackground": true,
            "ticks": "",
            "zerolinecolor": "white"
           },
           "yaxis": {
            "backgroundcolor": "#E5ECF6",
            "gridcolor": "white",
            "gridwidth": 2,
            "linecolor": "white",
            "showbackground": true,
            "ticks": "",
            "zerolinecolor": "white"
           },
           "zaxis": {
            "backgroundcolor": "#E5ECF6",
            "gridcolor": "white",
            "gridwidth": 2,
            "linecolor": "white",
            "showbackground": true,
            "ticks": "",
            "zerolinecolor": "white"
           }
          },
          "shapedefaults": {
           "line": {
            "color": "#2a3f5f"
           }
          },
          "ternary": {
           "aaxis": {
            "gridcolor": "white",
            "linecolor": "white",
            "ticks": ""
           },
           "baxis": {
            "gridcolor": "white",
            "linecolor": "white",
            "ticks": ""
           },
           "bgcolor": "#E5ECF6",
           "caxis": {
            "gridcolor": "white",
            "linecolor": "white",
            "ticks": ""
           }
          },
          "title": {
           "x": 0.05
          },
          "xaxis": {
           "automargin": true,
           "gridcolor": "white",
           "linecolor": "white",
           "ticks": "",
           "title": {
            "standoff": 15
           },
           "zerolinecolor": "white",
           "zerolinewidth": 2
          },
          "yaxis": {
           "automargin": true,
           "gridcolor": "white",
           "linecolor": "white",
           "ticks": "",
           "title": {
            "standoff": 15
           },
           "zerolinecolor": "white",
           "zerolinewidth": 2
          }
         }
        },
        "title": {
         "text": "Hyperparameter Importances"
        },
        "xaxis": {
         "title": {
          "text": "Hyperparameter Importance"
         }
        },
        "yaxis": {
         "title": {
          "text": "Hyperparameter"
         }
        }
       }
      }
     },
     "metadata": {},
     "output_type": "display_data"
    }
   ],
   "source": [
    "# 3. 하이퍼파라미터 중요도 시각화\n",
    "vis.plot_param_importances(study).show()"
   ]
  },
  {
   "cell_type": "code",
   "execution_count": 63,
   "metadata": {},
   "outputs": [
    {
     "data": {
      "application/vnd.plotly.v1+json": {
       "config": {
        "plotlyServerURL": "https://plot.ly"
       },
       "data": [
        {
         "mode": "markers",
         "name": "Objective Value",
         "type": "scatter",
         "x": [
          0,
          1,
          2,
          3,
          4,
          5,
          6,
          7,
          8,
          9,
          10,
          11,
          12,
          13,
          14,
          15,
          16,
          17,
          18,
          19,
          20,
          21,
          22,
          23,
          24,
          25,
          26,
          27,
          28,
          29,
          30,
          31,
          32,
          33,
          34,
          35,
          36,
          37,
          38,
          39,
          40,
          41,
          42,
          43,
          44,
          45,
          46,
          47,
          48,
          49,
          50,
          51,
          52,
          53,
          54,
          55,
          56,
          57,
          58,
          59,
          60,
          61,
          62,
          63,
          64,
          65,
          66,
          67,
          68,
          69,
          70,
          71,
          72,
          73,
          74,
          75,
          76,
          77,
          78,
          79,
          80,
          81,
          82,
          83,
          84,
          85,
          86,
          87,
          88,
          89,
          90,
          91,
          92,
          93,
          94,
          95,
          96,
          97,
          98,
          99
         ],
         "y": [
          0.8459607562839299,
          0.8616939807014857,
          0.8294446997157979,
          0.833409914739368,
          0.8417998332227158,
          0.8335715865965522,
          0.827445074113783,
          0.8292575007232689,
          0.8427698643658209,
          0.8290532836405099,
          0.8469392964721499,
          0.8520702506764691,
          0.8565374993618217,
          0.8632681540477528,
          0.8620598696414289,
          0.8617024897466007,
          0.8598049726859652,
          0.8526063205187114,
          0.8613961641224622,
          0.8570905872942939,
          0.8533976617144025,
          0.8601453344905635,
          0.8533976617144025,
          0.8811286397440479,
          0.8821752522931876,
          0.8841578598049726,
          0.888863361753544,
          0.9027075781555793,
          0.904554040945525,
          0.9071833358860468,
          0.9095233232926601,
          0.9082384574803015,
          0.9059750514797229,
          0.903771208794949,
          0.8959684144245332,
          0.8523340310750328,
          0.8948026752437841,
          0.8960790320110277,
          0.8697690645155801,
          0.877529313660421,
          0.8721005428770784,
          0.9036946273889144,
          0.898410510372526,
          0.9006824254182195,
          0.8861404673167577,
          0.8410510372525996,
          0.9039073535167883,
          0.8925647963785504,
          0.8513895270672726,
          0.8949898742363132,
          0.8619237249195896,
          0.9022565987644866,
          0.9045455319004101,
          0.9017290379673593,
          0.865616650499481,
          0.8959003420636136,
          0.8496962270893961,
          0.8488027773523256,
          0.889841901941764,
          0.8846939296472149,
          0.8765677915624308,
          0.9015503480199452,
          0.903779717840064,
          0.8945133677098756,
          0.8963257943193614,
          0.9013206038018413,
          0.8573884038733174,
          0.8830601929851432,
          0.8491516482020388,
          0.8527594833307807,
          0.8566481169483161,
          0.9048433484794336,
          0.9052688007351815,
          0.9027926686067289,
          0.9068940283521383,
          0.906162250472252,
          0.8990401797110328,
          0.8828049216316944,
          0.8915011657391807,
          0.8936454451081499,
          0.9006398801926447,
          0.9066727931791494,
          0.9042647334116165,
          0.8932540290328619,
          0.8982233113799969,
          0.9042221881860417,
          0.8931689385817123,
          0.8560184476098093,
          0.8771804428107077,
          0.8541039124589439,
          0.8740916594339784,
          0.9041370977348921,
          0.9040349891935127,
          0.8834516090604312,
          0.8979084767107435,
          0.86681642586069,
          0.8998570480420687,
          0.894036861183438,
          0.8993294872449413,
          0.9040775344190874
         ]
        },
        {
         "mode": "lines",
         "name": "Best Value",
         "type": "scatter",
         "x": [
          0,
          1,
          2,
          3,
          4,
          5,
          6,
          7,
          8,
          9,
          10,
          11,
          12,
          13,
          14,
          15,
          16,
          17,
          18,
          19,
          20,
          21,
          22,
          23,
          24,
          25,
          26,
          27,
          28,
          29,
          30,
          31,
          32,
          33,
          34,
          35,
          36,
          37,
          38,
          39,
          40,
          41,
          42,
          43,
          44,
          45,
          46,
          47,
          48,
          49,
          50,
          51,
          52,
          53,
          54,
          55,
          56,
          57,
          58,
          59,
          60,
          61,
          62,
          63,
          64,
          65,
          66,
          67,
          68,
          69,
          70,
          71,
          72,
          73,
          74,
          75,
          76,
          77,
          78,
          79,
          80,
          81,
          82,
          83,
          84,
          85,
          86,
          87,
          88,
          89,
          90,
          91,
          92,
          93,
          94,
          95,
          96,
          97,
          98,
          99
         ],
         "y": [
          0.8459607562839299,
          0.8616939807014857,
          0.8616939807014857,
          0.8616939807014857,
          0.8616939807014857,
          0.8616939807014857,
          0.8616939807014857,
          0.8616939807014857,
          0.8616939807014857,
          0.8616939807014857,
          0.8616939807014857,
          0.8616939807014857,
          0.8616939807014857,
          0.8632681540477528,
          0.8632681540477528,
          0.8632681540477528,
          0.8632681540477528,
          0.8632681540477528,
          0.8632681540477528,
          0.8632681540477528,
          0.8632681540477528,
          0.8632681540477528,
          0.8632681540477528,
          0.8811286397440479,
          0.8821752522931876,
          0.8841578598049726,
          0.888863361753544,
          0.9027075781555793,
          0.904554040945525,
          0.9071833358860468,
          0.9095233232926601,
          0.9095233232926601,
          0.9095233232926601,
          0.9095233232926601,
          0.9095233232926601,
          0.9095233232926601,
          0.9095233232926601,
          0.9095233232926601,
          0.9095233232926601,
          0.9095233232926601,
          0.9095233232926601,
          0.9095233232926601,
          0.9095233232926601,
          0.9095233232926601,
          0.9095233232926601,
          0.9095233232926601,
          0.9095233232926601,
          0.9095233232926601,
          0.9095233232926601,
          0.9095233232926601,
          0.9095233232926601,
          0.9095233232926601,
          0.9095233232926601,
          0.9095233232926601,
          0.9095233232926601,
          0.9095233232926601,
          0.9095233232926601,
          0.9095233232926601,
          0.9095233232926601,
          0.9095233232926601,
          0.9095233232926601,
          0.9095233232926601,
          0.9095233232926601,
          0.9095233232926601,
          0.9095233232926601,
          0.9095233232926601,
          0.9095233232926601,
          0.9095233232926601,
          0.9095233232926601,
          0.9095233232926601,
          0.9095233232926601,
          0.9095233232926601,
          0.9095233232926601,
          0.9095233232926601,
          0.9095233232926601,
          0.9095233232926601,
          0.9095233232926601,
          0.9095233232926601,
          0.9095233232926601,
          0.9095233232926601,
          0.9095233232926601,
          0.9095233232926601,
          0.9095233232926601,
          0.9095233232926601,
          0.9095233232926601,
          0.9095233232926601,
          0.9095233232926601,
          0.9095233232926601,
          0.9095233232926601,
          0.9095233232926601,
          0.9095233232926601,
          0.9095233232926601,
          0.9095233232926601,
          0.9095233232926601,
          0.9095233232926601,
          0.9095233232926601,
          0.9095233232926601,
          0.9095233232926601,
          0.9095233232926601,
          0.9095233232926601
         ]
        },
        {
         "marker": {
          "color": "#cccccc"
         },
         "mode": "markers",
         "name": "Infeasible Trial",
         "showlegend": false,
         "type": "scatter",
         "x": [],
         "y": []
        }
       ],
       "layout": {
        "template": {
         "data": {
          "bar": [
           {
            "error_x": {
             "color": "#2a3f5f"
            },
            "error_y": {
             "color": "#2a3f5f"
            },
            "marker": {
             "line": {
              "color": "#E5ECF6",
              "width": 0.5
             },
             "pattern": {
              "fillmode": "overlay",
              "size": 10,
              "solidity": 0.2
             }
            },
            "type": "bar"
           }
          ],
          "barpolar": [
           {
            "marker": {
             "line": {
              "color": "#E5ECF6",
              "width": 0.5
             },
             "pattern": {
              "fillmode": "overlay",
              "size": 10,
              "solidity": 0.2
             }
            },
            "type": "barpolar"
           }
          ],
          "carpet": [
           {
            "aaxis": {
             "endlinecolor": "#2a3f5f",
             "gridcolor": "white",
             "linecolor": "white",
             "minorgridcolor": "white",
             "startlinecolor": "#2a3f5f"
            },
            "baxis": {
             "endlinecolor": "#2a3f5f",
             "gridcolor": "white",
             "linecolor": "white",
             "minorgridcolor": "white",
             "startlinecolor": "#2a3f5f"
            },
            "type": "carpet"
           }
          ],
          "choropleth": [
           {
            "colorbar": {
             "outlinewidth": 0,
             "ticks": ""
            },
            "type": "choropleth"
           }
          ],
          "contour": [
           {
            "colorbar": {
             "outlinewidth": 0,
             "ticks": ""
            },
            "colorscale": [
             [
              0,
              "#0d0887"
             ],
             [
              0.1111111111111111,
              "#46039f"
             ],
             [
              0.2222222222222222,
              "#7201a8"
             ],
             [
              0.3333333333333333,
              "#9c179e"
             ],
             [
              0.4444444444444444,
              "#bd3786"
             ],
             [
              0.5555555555555556,
              "#d8576b"
             ],
             [
              0.6666666666666666,
              "#ed7953"
             ],
             [
              0.7777777777777778,
              "#fb9f3a"
             ],
             [
              0.8888888888888888,
              "#fdca26"
             ],
             [
              1,
              "#f0f921"
             ]
            ],
            "type": "contour"
           }
          ],
          "contourcarpet": [
           {
            "colorbar": {
             "outlinewidth": 0,
             "ticks": ""
            },
            "type": "contourcarpet"
           }
          ],
          "heatmap": [
           {
            "colorbar": {
             "outlinewidth": 0,
             "ticks": ""
            },
            "colorscale": [
             [
              0,
              "#0d0887"
             ],
             [
              0.1111111111111111,
              "#46039f"
             ],
             [
              0.2222222222222222,
              "#7201a8"
             ],
             [
              0.3333333333333333,
              "#9c179e"
             ],
             [
              0.4444444444444444,
              "#bd3786"
             ],
             [
              0.5555555555555556,
              "#d8576b"
             ],
             [
              0.6666666666666666,
              "#ed7953"
             ],
             [
              0.7777777777777778,
              "#fb9f3a"
             ],
             [
              0.8888888888888888,
              "#fdca26"
             ],
             [
              1,
              "#f0f921"
             ]
            ],
            "type": "heatmap"
           }
          ],
          "histogram": [
           {
            "marker": {
             "pattern": {
              "fillmode": "overlay",
              "size": 10,
              "solidity": 0.2
             }
            },
            "type": "histogram"
           }
          ],
          "histogram2d": [
           {
            "colorbar": {
             "outlinewidth": 0,
             "ticks": ""
            },
            "colorscale": [
             [
              0,
              "#0d0887"
             ],
             [
              0.1111111111111111,
              "#46039f"
             ],
             [
              0.2222222222222222,
              "#7201a8"
             ],
             [
              0.3333333333333333,
              "#9c179e"
             ],
             [
              0.4444444444444444,
              "#bd3786"
             ],
             [
              0.5555555555555556,
              "#d8576b"
             ],
             [
              0.6666666666666666,
              "#ed7953"
             ],
             [
              0.7777777777777778,
              "#fb9f3a"
             ],
             [
              0.8888888888888888,
              "#fdca26"
             ],
             [
              1,
              "#f0f921"
             ]
            ],
            "type": "histogram2d"
           }
          ],
          "histogram2dcontour": [
           {
            "colorbar": {
             "outlinewidth": 0,
             "ticks": ""
            },
            "colorscale": [
             [
              0,
              "#0d0887"
             ],
             [
              0.1111111111111111,
              "#46039f"
             ],
             [
              0.2222222222222222,
              "#7201a8"
             ],
             [
              0.3333333333333333,
              "#9c179e"
             ],
             [
              0.4444444444444444,
              "#bd3786"
             ],
             [
              0.5555555555555556,
              "#d8576b"
             ],
             [
              0.6666666666666666,
              "#ed7953"
             ],
             [
              0.7777777777777778,
              "#fb9f3a"
             ],
             [
              0.8888888888888888,
              "#fdca26"
             ],
             [
              1,
              "#f0f921"
             ]
            ],
            "type": "histogram2dcontour"
           }
          ],
          "mesh3d": [
           {
            "colorbar": {
             "outlinewidth": 0,
             "ticks": ""
            },
            "type": "mesh3d"
           }
          ],
          "parcoords": [
           {
            "line": {
             "colorbar": {
              "outlinewidth": 0,
              "ticks": ""
             }
            },
            "type": "parcoords"
           }
          ],
          "pie": [
           {
            "automargin": true,
            "type": "pie"
           }
          ],
          "scatter": [
           {
            "fillpattern": {
             "fillmode": "overlay",
             "size": 10,
             "solidity": 0.2
            },
            "type": "scatter"
           }
          ],
          "scatter3d": [
           {
            "line": {
             "colorbar": {
              "outlinewidth": 0,
              "ticks": ""
             }
            },
            "marker": {
             "colorbar": {
              "outlinewidth": 0,
              "ticks": ""
             }
            },
            "type": "scatter3d"
           }
          ],
          "scattercarpet": [
           {
            "marker": {
             "colorbar": {
              "outlinewidth": 0,
              "ticks": ""
             }
            },
            "type": "scattercarpet"
           }
          ],
          "scattergeo": [
           {
            "marker": {
             "colorbar": {
              "outlinewidth": 0,
              "ticks": ""
             }
            },
            "type": "scattergeo"
           }
          ],
          "scattergl": [
           {
            "marker": {
             "colorbar": {
              "outlinewidth": 0,
              "ticks": ""
             }
            },
            "type": "scattergl"
           }
          ],
          "scattermap": [
           {
            "marker": {
             "colorbar": {
              "outlinewidth": 0,
              "ticks": ""
             }
            },
            "type": "scattermap"
           }
          ],
          "scattermapbox": [
           {
            "marker": {
             "colorbar": {
              "outlinewidth": 0,
              "ticks": ""
             }
            },
            "type": "scattermapbox"
           }
          ],
          "scatterpolar": [
           {
            "marker": {
             "colorbar": {
              "outlinewidth": 0,
              "ticks": ""
             }
            },
            "type": "scatterpolar"
           }
          ],
          "scatterpolargl": [
           {
            "marker": {
             "colorbar": {
              "outlinewidth": 0,
              "ticks": ""
             }
            },
            "type": "scatterpolargl"
           }
          ],
          "scatterternary": [
           {
            "marker": {
             "colorbar": {
              "outlinewidth": 0,
              "ticks": ""
             }
            },
            "type": "scatterternary"
           }
          ],
          "surface": [
           {
            "colorbar": {
             "outlinewidth": 0,
             "ticks": ""
            },
            "colorscale": [
             [
              0,
              "#0d0887"
             ],
             [
              0.1111111111111111,
              "#46039f"
             ],
             [
              0.2222222222222222,
              "#7201a8"
             ],
             [
              0.3333333333333333,
              "#9c179e"
             ],
             [
              0.4444444444444444,
              "#bd3786"
             ],
             [
              0.5555555555555556,
              "#d8576b"
             ],
             [
              0.6666666666666666,
              "#ed7953"
             ],
             [
              0.7777777777777778,
              "#fb9f3a"
             ],
             [
              0.8888888888888888,
              "#fdca26"
             ],
             [
              1,
              "#f0f921"
             ]
            ],
            "type": "surface"
           }
          ],
          "table": [
           {
            "cells": {
             "fill": {
              "color": "#EBF0F8"
             },
             "line": {
              "color": "white"
             }
            },
            "header": {
             "fill": {
              "color": "#C8D4E3"
             },
             "line": {
              "color": "white"
             }
            },
            "type": "table"
           }
          ]
         },
         "layout": {
          "annotationdefaults": {
           "arrowcolor": "#2a3f5f",
           "arrowhead": 0,
           "arrowwidth": 1
          },
          "autotypenumbers": "strict",
          "coloraxis": {
           "colorbar": {
            "outlinewidth": 0,
            "ticks": ""
           }
          },
          "colorscale": {
           "diverging": [
            [
             0,
             "#8e0152"
            ],
            [
             0.1,
             "#c51b7d"
            ],
            [
             0.2,
             "#de77ae"
            ],
            [
             0.3,
             "#f1b6da"
            ],
            [
             0.4,
             "#fde0ef"
            ],
            [
             0.5,
             "#f7f7f7"
            ],
            [
             0.6,
             "#e6f5d0"
            ],
            [
             0.7,
             "#b8e186"
            ],
            [
             0.8,
             "#7fbc41"
            ],
            [
             0.9,
             "#4d9221"
            ],
            [
             1,
             "#276419"
            ]
           ],
           "sequential": [
            [
             0,
             "#0d0887"
            ],
            [
             0.1111111111111111,
             "#46039f"
            ],
            [
             0.2222222222222222,
             "#7201a8"
            ],
            [
             0.3333333333333333,
             "#9c179e"
            ],
            [
             0.4444444444444444,
             "#bd3786"
            ],
            [
             0.5555555555555556,
             "#d8576b"
            ],
            [
             0.6666666666666666,
             "#ed7953"
            ],
            [
             0.7777777777777778,
             "#fb9f3a"
            ],
            [
             0.8888888888888888,
             "#fdca26"
            ],
            [
             1,
             "#f0f921"
            ]
           ],
           "sequentialminus": [
            [
             0,
             "#0d0887"
            ],
            [
             0.1111111111111111,
             "#46039f"
            ],
            [
             0.2222222222222222,
             "#7201a8"
            ],
            [
             0.3333333333333333,
             "#9c179e"
            ],
            [
             0.4444444444444444,
             "#bd3786"
            ],
            [
             0.5555555555555556,
             "#d8576b"
            ],
            [
             0.6666666666666666,
             "#ed7953"
            ],
            [
             0.7777777777777778,
             "#fb9f3a"
            ],
            [
             0.8888888888888888,
             "#fdca26"
            ],
            [
             1,
             "#f0f921"
            ]
           ]
          },
          "colorway": [
           "#636efa",
           "#EF553B",
           "#00cc96",
           "#ab63fa",
           "#FFA15A",
           "#19d3f3",
           "#FF6692",
           "#B6E880",
           "#FF97FF",
           "#FECB52"
          ],
          "font": {
           "color": "#2a3f5f"
          },
          "geo": {
           "bgcolor": "white",
           "lakecolor": "white",
           "landcolor": "#E5ECF6",
           "showlakes": true,
           "showland": true,
           "subunitcolor": "white"
          },
          "hoverlabel": {
           "align": "left"
          },
          "hovermode": "closest",
          "mapbox": {
           "style": "light"
          },
          "paper_bgcolor": "white",
          "plot_bgcolor": "#E5ECF6",
          "polar": {
           "angularaxis": {
            "gridcolor": "white",
            "linecolor": "white",
            "ticks": ""
           },
           "bgcolor": "#E5ECF6",
           "radialaxis": {
            "gridcolor": "white",
            "linecolor": "white",
            "ticks": ""
           }
          },
          "scene": {
           "xaxis": {
            "backgroundcolor": "#E5ECF6",
            "gridcolor": "white",
            "gridwidth": 2,
            "linecolor": "white",
            "showbackground": true,
            "ticks": "",
            "zerolinecolor": "white"
           },
           "yaxis": {
            "backgroundcolor": "#E5ECF6",
            "gridcolor": "white",
            "gridwidth": 2,
            "linecolor": "white",
            "showbackground": true,
            "ticks": "",
            "zerolinecolor": "white"
           },
           "zaxis": {
            "backgroundcolor": "#E5ECF6",
            "gridcolor": "white",
            "gridwidth": 2,
            "linecolor": "white",
            "showbackground": true,
            "ticks": "",
            "zerolinecolor": "white"
           }
          },
          "shapedefaults": {
           "line": {
            "color": "#2a3f5f"
           }
          },
          "ternary": {
           "aaxis": {
            "gridcolor": "white",
            "linecolor": "white",
            "ticks": ""
           },
           "baxis": {
            "gridcolor": "white",
            "linecolor": "white",
            "ticks": ""
           },
           "bgcolor": "#E5ECF6",
           "caxis": {
            "gridcolor": "white",
            "linecolor": "white",
            "ticks": ""
           }
          },
          "title": {
           "x": 0.05
          },
          "xaxis": {
           "automargin": true,
           "gridcolor": "white",
           "linecolor": "white",
           "ticks": "",
           "title": {
            "standoff": 15
           },
           "zerolinecolor": "white",
           "zerolinewidth": 2
          },
          "yaxis": {
           "automargin": true,
           "gridcolor": "white",
           "linecolor": "white",
           "ticks": "",
           "title": {
            "standoff": 15
           },
           "zerolinecolor": "white",
           "zerolinewidth": 2
          }
         }
        },
        "title": {
         "text": "Optimization History Plot"
        },
        "xaxis": {
         "title": {
          "text": "Trial"
         }
        },
        "yaxis": {
         "title": {
          "text": "Objective Value"
         }
        }
       }
      }
     },
     "metadata": {},
     "output_type": "display_data"
    }
   ],
   "source": [
    "# 최적화 \n",
    "vis.plot_optimization_history(study).show()"
   ]
  },
  {
   "cell_type": "code",
   "execution_count": 64,
   "metadata": {},
   "outputs": [
    {
     "name": "stdout",
     "output_type": "stream",
     "text": [
      "Accuracy:  0.9095233232926601\n",
      "Classification Report:\n",
      "               precision    recall  f1-score   support\n",
      "\n",
      "           0       0.95      0.87      0.91     58600\n",
      "           1       0.88      0.95      0.91     58922\n",
      "\n",
      "    accuracy                           0.91    117522\n",
      "   macro avg       0.91      0.91      0.91    117522\n",
      "weighted avg       0.91      0.91      0.91    117522\n",
      "\n"
     ]
    }
   ],
   "source": [
    "# 최적의 하이퍼파라미터\n",
    "best_params = {'num_leaves': 300, \n",
    "               'max_depth': 12, \n",
    "               'learning_rate': 0.1963905074701354, \n",
    "               'n_estimators': 200, \n",
    "               'subsample': 0.877696784596948, \n",
    "               'colsample_bytree': 0.6441508167608584}\n",
    "\n",
    "# 최적의 하이퍼파라미터로 모델 정의\n",
    "model = lgb.LGBMClassifier(**best_params)\n",
    "\n",
    "# 모델 훈련\n",
    "model.fit(X_train, y_train)\n",
    "\n",
    "# 예측 및 정확도 평가\n",
    "y_pred = model.predict(X_test)\n",
    "accuracy = accuracy_score(y_test, y_pred)\n",
    "\n",
    "print(\"Accuracy: \", accuracy_score(y_test, y_pred))\n",
    "print(\"Classification Report:\\n\", classification_report(y_test, y_pred))"
   ]
  },
  {
   "cell_type": "code",
   "execution_count": 65,
   "metadata": {},
   "outputs": [
    {
     "data": {
      "image/png": "[encoded data removed]",
      "text/plain": [
       "<Figure size 1200x500 with 3 Axes>"
      ]
     },
     "metadata": {},
     "output_type": "display_data"
    }
   ],
   "source": [
    "\n",
    "# ROC Curve 및 AUC 계산\n",
    "y_prob = grid_search.best_estimator_.predict_proba(X_test)[:, 1]  # 클래스 1의 확률값\n",
    "fpr, tpr, _ = roc_curve(y_test, y_prob)\n",
    "roc_auc = auc(fpr, tpr)\n",
    "\n",
    "# Confusion Matrix 계산\n",
    "cm = confusion_matrix(y_test, y_pred)\n",
    "\n",
    "# 그래프 그리기\n",
    "fig, ax = plt.subplots(1, 2, figsize=(12, 5))\n",
    "\n",
    "# ROC Curve Plot\n",
    "ax[0].plot(fpr, tpr, color='blue', lw=2, label=f'ROC curve (AUC = {roc_auc:.2f})')\n",
    "ax[0].plot([0, 1], [0, 1], color='gray', linestyle='--')  # 대각선 기준선\n",
    "ax[0].set_xlim([0.0, 1.0])\n",
    "ax[0].set_ylim([0.0, 1.05])\n",
    "ax[0].set_xlabel('False Positive Rate')\n",
    "ax[0].set_ylabel('True Positive Rate')\n",
    "ax[0].set_title('Receiver Operating Characteristic (ROC) Curve')\n",
    "ax[0].legend(loc=\"lower right\")\n",
    "\n",
    "# Confusion Matrix Plot\n",
    "sns.heatmap(cm, annot=True, fmt=\"d\", cmap=\"Blues\", xticklabels=['Not Churn', 'Churn'], yticklabels=['Not Churn', 'Churn'], ax=ax[1])\n",
    "ax[1].set_xlabel('Predicted Label')\n",
    "ax[1].set_ylabel('True Label')\n",
    "ax[1].set_title('Confusion Matrix')\n",
    "\n",
    "plt.tight_layout()\n",
    "plt.show()"
   ]
  },
  {
   "cell_type": "code",
   "execution_count": 68,
   "metadata": {},
   "outputs": [
    {
     "data": {
      "image/png": "[encoded data removed]",
      "text/plain": [
       "<Figure size 800x600 with 1 Axes>"
      ]
     },
     "metadata": {},
     "output_type": "display_data"
    }
   ],
   "source": [
    "\n",
    "# 모델 정의\n",
    "model = lgb.LGBMClassifier(**best_params)\n",
    "\n",
    "# 학습 곡선 데이터 얻기\n",
    "train_sizes, train_scores, test_scores = learning_curve(\n",
    "    model, X_train, y_train, \n",
    "    train_sizes=np.linspace(0.1, 1.0, 10),  # 10%부터 100%까지 훈련 데이터를 이용\n",
    "    cv=5,  # 교차 검증\n",
    "    n_jobs=-1,  # 여러 프로세스를 사용하여 계산을 더 빠르게\n",
    "    scoring='accuracy'  # 정확도 기반 평가\n",
    ")\n",
    "\n",
    "# 평균 및 표준편차 계산\n",
    "train_mean = np.mean(train_scores, axis=1)\n",
    "train_std = np.std(train_scores, axis=1)\n",
    "test_mean = np.mean(test_scores, axis=1)\n",
    "test_std = np.std(test_scores, axis=1)\n",
    "\n",
    "# 시각화\n",
    "plt.figure(figsize=(8, 6))\n",
    "plt.plot(train_sizes, train_mean, label=\"Train score\", color='blue')\n",
    "plt.plot(train_sizes, test_mean, label=\"Test score\", color='red')\n",
    "\n",
    "# 신뢰구간 표시\n",
    "plt.fill_between(train_sizes, train_mean - train_std, train_mean + train_std, color='blue', alpha=0.2)\n",
    "plt.fill_between(train_sizes, test_mean - test_std, test_mean + test_std, color='red', alpha=0.2)\n",
    "\n",
    "plt.title('Learning Curve')\n",
    "plt.xlabel('Training Size')\n",
    "plt.ylabel('Accuracy')\n",
    "plt.legend(loc=\"best\")\n",
    "plt.grid(True)\n",
    "plt.show()"
   ]
  },
  {
   "cell_type": "markdown",
   "metadata": {},
   "source": [
    "### StratifiedKFold"
   ]
  },
  {
   "cell_type": "code",
   "execution_count": 78,
   "metadata": {},
   "outputs": [
    {
     "name": "stdout",
     "output_type": "stream",
     "text": [
      "LightGBM 정확도: 0.9098630558010925\n",
      "LightGBM 정밀도: 0.8746132533238699\n",
      "LightGBM 재현율: 0.9571345474309988\n"
     ]
    }
   ],
   "source": [
    "stratified_kfold = StratifiedKFold(n_splits=5)\n",
    "dt_clf = lgb.LGBMClassifier(\n",
    "    num_leaves=300, \n",
    "    max_depth=12, \n",
    "    learning_rate=0.1963905074701354, \n",
    "    n_estimators=200, \n",
    "    subsample=0.877696784596948, \n",
    "    colsample_bytree=0.6441508167608584,\n",
    "    random_state=42\n",
    ")\n",
    "\n",
    "dt_accuracy = []\n",
    "dt_precision = []\n",
    "dt_recall = []\n",
    "dt_matrix = []\n",
    "dt_curve = []\n",
    "\n",
    "for train_index, val_index in stratified_kfold.split(X, y):\n",
    "    X_train, y_train = X.iloc[train_index], y.iloc[train_index]\n",
    "    X_val, y_val = X.iloc[val_index], y.iloc[val_index]\n",
    "\n",
    "    dt_clf.fit(X_train, y_train)\n",
    "    y_pred_dt = dt_clf.predict(X_val)\n",
    "    y_prob_dt = dt_clf.predict_proba(X_val)[:, 1]\n",
    "\n",
    "    dt_accuracy.append(accuracy_score(y_val, y_pred_dt))\n",
    "    dt_precision.append(precision_score(y_val, y_pred_dt))\n",
    "    dt_recall.append(recall_score(y_val, y_pred_dt))\n",
    "    dt_matrix.append(confusion_matrix(y_val, y_pred_dt))\n",
    "    # ROC Curve 저장\n",
    "    fpr, tpr, _ = roc_curve(y_val, y_prob_dt)\n",
    "    dt_curve.append((fpr, tpr, auc(fpr, tpr)))\n",
    "\n",
    "print(\"LightGBM 정확도:\", np.mean(dt_accuracy))\n",
    "print(\"LightGBM 정밀도:\", np.mean(dt_precision))\n",
    "print(\"LightGBM 재현율:\", np.mean(dt_recall))"
   ]
  },
  {
   "cell_type": "code",
   "execution_count": 79,
   "metadata": {},
   "outputs": [
    {
     "data": {
      "text/plain": [
       "[array([[51998,  6763],\n",
       "        [ 2745, 56016]], dtype=int64),\n",
       " array([[51218,  7543],\n",
       "        [ 2466, 56294]], dtype=int64),\n",
       " array([[50119,  8642],\n",
       "        [ 2487, 56273]], dtype=int64),\n",
       " array([[50317,  8443],\n",
       "        [ 2419, 56342]], dtype=int64),\n",
       " array([[49780,  8980],\n",
       "        [ 2477, 56284]], dtype=int64)]"
      ]
     },
     "execution_count": 79,
     "metadata": {},
     "output_type": "execute_result"
    }
   ],
   "source": [
    "dt_matrix"
   ]
  },
  {
   "cell_type": "code",
   "execution_count": null,
   "metadata": {},
   "outputs": [
    {
     "data": {
      "image/png": "[encoded data removed]",
      "text/plain": [
       "<Figure size 1200x500 with 3 Axes>"
      ]
     },
     "metadata": {},
     "output_type": "display_data"
    }
   ],
   "source": [
    "\n",
    "# 그래프 그리기\n",
    "fig, ax = plt.subplots(1, 2, figsize=(12, 5))\n",
    "\n",
    "# ROC Curve Plot\n",
    "for fpr, tpr, roc_auc in dt_curve:\n",
    "    ax[0].plot(fpr, tpr, lw=1.5, alpha=0.7, label=f'AUC = {roc_auc:.2f}')\n",
    "ax[0].plot([0, 1], [0, 1], color='gray', linestyle='--')  # 대각선 기준선\n",
    "ax[0].set_xlim([0.0, 1.0])\n",
    "ax[0].set_ylim([0.0, 1.05])\n",
    "ax[0].set_xlabel('False Positive Rate')\n",
    "ax[0].set_ylabel('True Positive Rate')\n",
    "ax[0].set_title('Receiver Operating Characteristic (ROC) Curve')\n",
    "ax[0].legend(loc=\"lower right\")\n",
    "\n",
    "# Confusion Matrix Plot (평균)\n",
    "cm_avg = np.mean(dt_matrix, axis=0).astype(int)\n",
    "sns.heatmap(cm_avg, annot=True, fmt=\"d\", cmap=\"Blues\", xticklabels=['Not Churn', 'Churn'], yticklabels=['Not Churn', 'Churn'], ax=ax[1])\n",
    "ax[1].set_xlabel('Predicted Label')\n",
    "ax[1].set_ylabel('True Label')\n",
    "ax[1].set_title('Confusion Matrix (Average)')\n",
    "\n",
    "plt.tight_layout()\n",
    "plt.show()"
   ]
  },
  {
   "cell_type": "code",
   "execution_count": null,
   "metadata": {},
   "outputs": [],
   "source": []
  }
 ],
 "metadata": {
  "kernelspec": {
   "display_name": "new",
   "language": "python",
   "name": "python3"
  },
  "language_info": {
   "codemirror_mode": {
    "name": "ipython",
    "version": 3
   },
   "file_extension": ".py",
   "mimetype": "text/x-python",
   "name": "python",
   "nbconvert_exporter": "python",
   "pygments_lexer": "ipython3",
   "version": "3.12.8"
  }
 },
 "nbformat": 4,
 "nbformat_minor": 2
}
