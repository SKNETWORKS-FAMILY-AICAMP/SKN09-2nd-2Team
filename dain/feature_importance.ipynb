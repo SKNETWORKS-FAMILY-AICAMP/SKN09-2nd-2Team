{
 "cells": [
  {
   "cell_type": "code",
   "execution_count": 8,
   "metadata": {},
   "outputs": [],
   "source": [
    "import numpy as np\n",
    "import pandas as pd\n",
    "import seaborn as sns\n",
    "import matplotlib.pyplot as plt\n",
    "import warnings\n",
    "import math\n",
    "import seaborn as sns\n",
    "from sklearn.ensemble import RandomForestClassifier\n",
    "from sklearn.preprocessing import OneHotEncoder\n",
    "# 경고 메시지 숨기기\n",
    "warnings.filterwarnings(\"ignore\")"
   ]
  },
  {
   "cell_type": "code",
   "execution_count": 37,
   "metadata": {},
   "outputs": [
    {
     "name": "stdout",
     "output_type": "stream",
     "text": [
      "<class 'pandas.core.frame.DataFrame'>\n",
      "RangeIndex: 856566 entries, 0 to 856565\n",
      "Data columns (total 35 columns):\n",
      " #   Column                        Non-Null Count   Dtype  \n",
      "---  ------                        --------------   -----  \n",
      " 0   Unnamed: 0.1                  856566 non-null  int64  \n",
      " 1   Unnamed: 0                    856566 non-null  int64  \n",
      " 2   msno                          856566 non-null  int64  \n",
      " 3   city                          856566 non-null  int64  \n",
      " 4   bd                            856566 non-null  int64  \n",
      " 5   registered_via                856566 non-null  int64  \n",
      " 6   is_churn                      856566 non-null  int64  \n",
      " 7   is_back                       856566 non-null  int64  \n",
      " 8   payment_plan_sum              856566 non-null  int64  \n",
      " 9   plan_list_price               856566 non-null  int64  \n",
      " 10  actual_amount_paid            856566 non-null  int64  \n",
      " 11  discount_rate                 856566 non-null  float64\n",
      " 12  is_auto_renew                 856566 non-null  float64\n",
      " 13  is_cancel                     856566 non-null  float64\n",
      " 14  transaction_count             856566 non-null  int64  \n",
      " 15  num_25                        856566 non-null  int64  \n",
      " 16  num_50                        856566 non-null  int64  \n",
      " 17  num_75                        856566 non-null  int64  \n",
      " 18  num_985                       856566 non-null  int64  \n",
      " 19  num_100                       856566 non-null  int64  \n",
      " 20  num_unq                       856566 non-null  int64  \n",
      " 21  total_secs                    856566 non-null  float64\n",
      " 22  registration_init_time_year   856566 non-null  int64  \n",
      " 23  registration_init_time_month  856566 non-null  int64  \n",
      " 24  registration_init_time_day    856566 non-null  int64  \n",
      " 25  membership_expire_date_year   856566 non-null  int64  \n",
      " 26  membership_expire_date_month  856566 non-null  int64  \n",
      " 27  membership_expire_date_day    856566 non-null  int64  \n",
      " 28  log_end_year                  856566 non-null  int64  \n",
      " 29  log_end_month                 856566 non-null  int64  \n",
      " 30  log_end_day                   856566 non-null  int64  \n",
      " 31  log_start_year                856566 non-null  int64  \n",
      " 32  log_start_month               856566 non-null  int64  \n",
      " 33  log_start_day                 856566 non-null  int64  \n",
      " 34  gender_encoded                856566 non-null  float64\n",
      "dtypes: float64(5), int64(30)\n",
      "memory usage: 228.7 MB\n"
     ]
    }
   ],
   "source": [
    "df = pd.read_csv(\"./data/data_total_split_datetime\")\n",
    "df.info()"
   ]
  },
  {
   "cell_type": "code",
   "execution_count": null,
   "metadata": {},
   "outputs": [],
   "source": [
    "# X와 y 정의 (예시)\n",
    "X = df.drop(columns='is_churn')  # 'target'은 예시로 넣은 이름입니다\n",
    "y = df['is_churn']\n",
    "\n",
    "# 컬럼 이름을 문자열로 변환\n",
    "X.columns = X.columns.astype(str)\n",
    "\n",
    "# 모델 학습\n",
    "model = RandomForestClassifier()\n",
    "model.fit(X, y)\n",
    "\n",
    "# 특성 중요도 추출\n",
    "importances = model.feature_importances_\n",
    "\n",
    "# 결과 출력\n",
    "print(importances)"
   ]
  },
  {
   "cell_type": "code",
   "execution_count": null,
   "metadata": {},
   "outputs": [],
   "source": []
  }
 ],
 "metadata": {
  "kernelspec": {
   "display_name": "new",
   "language": "python",
   "name": "python3"
  },
  "language_info": {
   "codemirror_mode": {
    "name": "ipython",
    "version": 3
   },
   "file_extension": ".py",
   "mimetype": "text/x-python",
   "name": "python",
   "nbconvert_exporter": "python",
   "pygments_lexer": "ipython3",
   "version": "3.12.8"
  }
 },
 "nbformat": 4,
 "nbformat_minor": 2
}
