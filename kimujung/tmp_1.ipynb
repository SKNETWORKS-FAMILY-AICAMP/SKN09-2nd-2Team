{
 "cells": [
  {
   "cell_type": "markdown",
   "metadata": {},
   "source": [
    "### 리드미 용 그래프"
   ]
  },
  {
   "cell_type": "code",
   "execution_count": null,
   "metadata": {},
   "outputs": [],
   "source": [
    "import numpy as np\n",
    "import pandas as pd\n",
    "import math\n",
    "import matplotlib.pyplot as plt\n",
    "import seaborn as sns"
   ]
  },
  {
   "cell_type": "markdown",
   "metadata": {},
   "source": [
    "이상치 탐색"
   ]
  },
  {
   "cell_type": "code",
   "execution_count": null,
   "metadata": {},
   "outputs": [],
   "source": [
    "data_dir = 'C:\\\\KIMUJUNG\\\\team_project\\\\data\\\\'\n",
    "df = pd.read_csv(data_dir + \"kkbox_data_total.csv\")\n",
    "df.head(3)"
   ]
  },
  {
   "cell_type": "code",
   "execution_count": null,
   "metadata": {},
   "outputs": [],
   "source": [
    "data_dir = 'D:\\\\study\\\\sknetworks\\\\team_project\\\\sk_2nd\\\\data\\\\'\n",
    "df = pd.read_csv(data_dir + \"kkbox_data_total.csv\")\n",
    "df.head(3)"
   ]
  },
  {
   "cell_type": "code",
   "execution_count": null,
   "metadata": {},
   "outputs": [],
   "source": [
    "# 연속형 변수 목록\n",
    "continuous_cols = ['is_back', 'payment_plan_sum', 'plan_list_price', 'actual_amount_paid', 'num_25', 'num_50', 'num_75', 'num_985', 'num_100',\n",
    "       'num_unq', 'total_secs', 'log_start', 'log_end']\n",
    "\n",
    "num_vars = len(continuous_cols)\n",
    "cols = 5  # 서브플롯의 열 개수\n",
    "rows = math.ceil(num_vars / cols)  # 필요한 행 개수\n",
    "\n",
    "fig, axes = plt.subplots(rows, cols, figsize=(25, 5 * rows))\n",
    "fig.suptitle(\"Relationship between Continuous Variables and is_churn (Box Plot)\", fontsize=16)\n",
    "\n",
    "for i, col in enumerate(continuous_cols):\n",
    "    row, col_idx = divmod(i, cols)  # 현재 변수의 행, 열 인덱스 계산\n",
    "    ax = axes[row, col_idx] if rows > 1 else axes[col_idx]  # 행이 1개일 경우 처리\n",
    "    \n",
    "    sns.boxplot(x='is_churn', y=col, data=df, ax=ax)\n",
    "    ax.set_title(f'{col} vs is_churn')\n",
    "    ax.set_xlabel('is_churn')\n",
    "    ax.set_ylabel(col)\n",
    "\n",
    "# 남은 빈 서브플롯 제거\n",
    "for j in range(i + 1, rows * cols):\n",
    "    row, col_idx = divmod(j, cols)\n",
    "    fig.delaxes(axes[row, col_idx])\n",
    "\n",
    "plt.tight_layout(rect=[0, 0, 1, 0.96])\n",
    "plt.show()"
   ]
  },
  {
   "cell_type": "markdown",
   "metadata": {},
   "source": [
    "결측치 처리"
   ]
  },
  {
   "cell_type": "code",
   "execution_count": null,
   "metadata": {},
   "outputs": [],
   "source": [
    "import pandas as pd\n",
    "import numpy as np\n",
    "from sklearn.impute import KNNImputer\n",
    "from sklearn.preprocessing import StandardScaler\n",
    "from sklearn.model_selection import train_test_split\n",
    "from sklearn.metrics import accuracy_score\n",
    "from sklearn.neighbors import KNeighborsClassifier"
   ]
  },
  {
   "cell_type": "code",
   "execution_count": null,
   "metadata": {},
   "outputs": [],
   "source": [
    "train_data = df[~df['gender'].isna()]\n",
    "X_train, X_test, y_train, y_test = train_test_split(train_data.drop('gender',axis=1), train_data['gender'], test_size=0.3, random_state=42)\n",
    "\n",
    "std_scaler = StandardScaler()\n",
    "train_scaled = std_scaler.fit_transform(X_train)\n",
    "test_scaled = std_scaler.transform(X_test)\n",
    "# KNN 분류 모델 훈련\n",
    "knn = KNeighborsClassifier(n_neighbors=1)\n",
    "knn.fit(X_train, y_train)\n",
    "\n",
    "# df_fill = df.copy()\n",
    "\n",
    "# 성별이 결측이었던 데이터 예측\n",
    "# missing_data = df_fill[df_fill['gender'].isnull()]\n",
    "# if not missing_data.empty:\n",
    "#     predicted_genders = knn.predict(missing_data.drop('gender',axis=1))\n",
    "#     print(\"\\nKNN 모델이 예측한 성별 (결측치 부분):\", predicted_genders)\n",
    "    \n",
    "#     # 예측된 성별을 데이터에 반영\n",
    "#     df_fill.loc[df_fill['gender'].isnull(), 'gender'] = predicted_genders\n",
    "\n",
    "# 모델 성능 평가\n",
    "y_pred = knn.predict(X_test)\n",
    "accuracy = accuracy_score(y_test, y_pred)\n",
    "print(\"\\nKNN 모델 정확도:\", accuracy)"
   ]
  },
  {
   "cell_type": "code",
   "execution_count": null,
   "metadata": {},
   "outputs": [],
   "source": [
    "import numpy as np\n",
    "from sklearn.ensemble import RandomForestClassifier\n",
    "from sklearn.model_selection import train_test_split\n",
    "from sklearn.preprocessing import LabelEncoder\n",
    "\n",
    "\n",
    "gender_known = df[df['gender'].notna()]\n",
    "gender_unknown = df[df['gender'].isna()].copy()  # 경고 방지를 위해 복사본 사용\n",
    "\n",
    "\n",
    "features = ['city', 'bd', 'registered_via', 'is_churn', 'is_back', 'payment_plan_sum', 'plan_list_price', \n",
    "            'actual_amount_paid', 'discount_rate', 'is_auto_renew', 'is_cancel', 'transaction_count',\n",
    "            'num_25', 'num_50', 'num_75', 'num_985', 'num_100', 'num_unq', 'total_secs',\n",
    "            'registration_init_time_year', 'registration_init_time_month', 'registration_init_time_day',\n",
    "            'membership_expire_date_year', 'membership_expire_date_month', 'membership_expire_date_day',\n",
    "            'log_end_year', 'log_end_month', 'log_end_day', 'log_start_year', 'log_start_month', 'log_start_day']\n",
    "\n",
    "X = gender_known[features]\n",
    "y = gender_known['gender']\n",
    "\n",
    "\n",
    "le = LabelEncoder()\n",
    "y_encoded = le.fit_transform(y)\n",
    "\n",
    "\n",
    "X_train, X_test, y_train, y_test = train_test_split(X, y_encoded, test_size=0.2, random_state=42)\n",
    "rf_cl = RandomForestClassifier(n_estimators=100, random_state=42)\n",
    "rf_cl.fit(X_train, y_train)"
   ]
  }
 ],
 "metadata": {
  "kernelspec": {
   "display_name": "pystudy_env",
   "language": "python",
   "name": "python3"
  },
  "language_info": {
   "codemirror_mode": {
    "name": "ipython",
    "version": 3
   },
   "file_extension": ".py",
   "mimetype": "text/x-python",
   "name": "python",
   "nbconvert_exporter": "python",
   "pygments_lexer": "ipython3",
   "version": "3.12.8"
  }
 },
 "nbformat": 4,
 "nbformat_minor": 2
}
