{
 "cells": [
  {
   "cell_type": "markdown",
   "metadata": {},
   "source": [
    "데이터 다운로드\n",
    "\n",
    "https://www.kaggle.com/c/kkbox-churn-prediction-challenge/data\n",
    "\n",
    "분석예시\n",
    "\n",
    "https://github.com/TAEJIN-AHN/Churn-Prediction/blob/main/eda.ipynb"
   ]
  },
  {
   "cell_type": "code",
   "execution_count": 1,
   "metadata": {},
   "outputs": [],
   "source": [
    "import numpy as np\n",
    "import pandas as pd\n",
    "import matplotlib.pyplot as plt"
   ]
  },
  {
   "cell_type": "markdown",
   "metadata": {},
   "source": [
    "### train 데이터 병합 전 처리"
   ]
  },
  {
   "cell_type": "code",
   "execution_count": 2,
   "metadata": {},
   "outputs": [],
   "source": [
    "data_dir = 'D:\\\\study\\\\sknetworks\\\\team_project\\\\sk_2nd\\\\data\\\\'\n",
    "df_members = pd.read_csv(data_dir + 'members_v3.csv')\n",
    "train_v1 = pd.read_csv(data_dir + 'train.csv')\n",
    "train_v2 = pd.read_csv(data_dir + 'train_v2.csv')\n",
    "transactions_v1 = pd.read_csv(data_dir + 'transactions.csv')\n",
    "transactions_v2 = pd.read_csv(data_dir + 'transactions_v2.csv')"
   ]
  },
  {
   "cell_type": "code",
   "execution_count": 3,
   "metadata": {},
   "outputs": [
    {
     "data": {
      "text/html": [
       "<div>\n",
       "<style scoped>\n",
       "    .dataframe tbody tr th:only-of-type {\n",
       "        vertical-align: middle;\n",
       "    }\n",
       "\n",
       "    .dataframe tbody tr th {\n",
       "        vertical-align: top;\n",
       "    }\n",
       "\n",
       "    .dataframe thead th {\n",
       "        text-align: right;\n",
       "    }\n",
       "</style>\n",
       "<table border=\"1\" class=\"dataframe\">\n",
       "  <thead>\n",
       "    <tr style=\"text-align: right;\">\n",
       "      <th></th>\n",
       "      <th>msno</th>\n",
       "      <th>is_churn</th>\n",
       "      <th>version</th>\n",
       "    </tr>\n",
       "  </thead>\n",
       "  <tbody>\n",
       "    <tr>\n",
       "      <th>0</th>\n",
       "      <td>+++hVY1rZox/33YtvDgmKA2Frg/2qhkz12B9ylCvh8o=</td>\n",
       "      <td>0</td>\n",
       "      <td>v2</td>\n",
       "    </tr>\n",
       "    <tr>\n",
       "      <th>1</th>\n",
       "      <td>+++hVY1rZox/33YtvDgmKA2Frg/2qhkz12B9ylCvh8o=</td>\n",
       "      <td>0</td>\n",
       "      <td>v1</td>\n",
       "    </tr>\n",
       "    <tr>\n",
       "      <th>2</th>\n",
       "      <td>+++l/EXNMLTijfLBa8p2TUVVVp2aFGSuUI/h7mLmthw=</td>\n",
       "      <td>0</td>\n",
       "      <td>v2</td>\n",
       "    </tr>\n",
       "    <tr>\n",
       "      <th>3</th>\n",
       "      <td>+++l/EXNMLTijfLBa8p2TUVVVp2aFGSuUI/h7mLmthw=</td>\n",
       "      <td>0</td>\n",
       "      <td>v1</td>\n",
       "    </tr>\n",
       "    <tr>\n",
       "      <th>4</th>\n",
       "      <td>+++snpr7pmobhLKUgSHTv/mpkqgBT0tQJ0zQj6qKrqc=</td>\n",
       "      <td>0</td>\n",
       "      <td>v2</td>\n",
       "    </tr>\n",
       "  </tbody>\n",
       "</table>\n",
       "</div>"
      ],
      "text/plain": [
       "                                           msno  is_churn version\n",
       "0  +++hVY1rZox/33YtvDgmKA2Frg/2qhkz12B9ylCvh8o=         0      v2\n",
       "1  +++hVY1rZox/33YtvDgmKA2Frg/2qhkz12B9ylCvh8o=         0      v1\n",
       "2  +++l/EXNMLTijfLBa8p2TUVVVp2aFGSuUI/h7mLmthw=         0      v2\n",
       "3  +++l/EXNMLTijfLBa8p2TUVVVp2aFGSuUI/h7mLmthw=         0      v1\n",
       "4  +++snpr7pmobhLKUgSHTv/mpkqgBT0tQJ0zQj6qKrqc=         0      v2"
      ]
     },
     "execution_count": 3,
     "metadata": {},
     "output_type": "execute_result"
    }
   ],
   "source": [
    "train_v1['version'] = 'v1'\n",
    "train_v2['version'] = 'v2'\n",
    "train = pd.concat([train_v1, train_v2])\n",
    "train = train.sort_values(['msno', 'version'], ascending = [True, False]).reset_index(drop=True)\n",
    "train.head()"
   ]
  },
  {
   "cell_type": "code",
   "execution_count": 4,
   "metadata": {},
   "outputs": [],
   "source": [
    "aa = train['msno'][(train['is_churn'] == 0) & (train['version'] == 'v2')]\n",
    "bb = train['msno'][(train['is_churn'] == 1) & (train['version'] == 'v1')]\n",
    "cc = list(set(aa) & set(bb))\n",
    "train['is_back'] = train['msno'].isin(cc).astype(int)"
   ]
  },
  {
   "cell_type": "code",
   "execution_count": 5,
   "metadata": {},
   "outputs": [],
   "source": [
    "# 중복값을 제거하되, 중복 Row 중 첫번째 Row를 남기는 옵션을 선택함\n",
    "train.drop_duplicates(subset='msno', keep='first', inplace=True)\n",
    "train.query('msno in \"+++hVY1rZox/33YtvDgmKA2Frg/2qhkz12B9ylCvh8o=\"')\n",
    "# version 컬럼 제거\n",
    "train = train.drop('version', axis=1)"
   ]
  },
  {
   "cell_type": "code",
   "execution_count": 6,
   "metadata": {},
   "outputs": [],
   "source": [
    "# 구매 기록 데이터 합치기\n",
    "transactions = pd.concat([transactions_v1, transactions_v2], ignore_index=True)\n",
    "transactions = transactions.sort_values(['msno', 'transaction_date']).reset_index(drop=True)"
   ]
  },
  {
   "cell_type": "markdown",
   "metadata": {},
   "source": [
    "### transaction 데이터 처리"
   ]
  },
  {
   "cell_type": "code",
   "execution_count": 7,
   "metadata": {},
   "outputs": [],
   "source": [
    "# 0으로 나누는 오류 방지: plan_list_price가 0인 경우는 NaN 처리\n",
    "transactions[\"discount_rate\"] = np.where(\n",
    "    transactions[\"plan_list_price\"] != 0, \n",
    "    1 - (transactions[\"actual_amount_paid\"] / transactions[\"plan_list_price\"]),\n",
    "    np.nan  # 원래 가격이 0이면 NaN (이후 평균 계산 시 자동 제외됨)\n",
    ")\n",
    "\n",
    "# 사용자 ID(msno) 기준으로 그룹화하여 새로운 데이터프레임 생성\n",
    "df_transaction = transactions.groupby(\"msno\").agg(\n",
    "    payment_plan_sum=(\"payment_plan_days\", \"sum\"),\n",
    "    plan_list_price=(\"plan_list_price\", \"sum\"),\n",
    "    actual_amount_paid=(\"actual_amount_paid\", \"sum\"),\n",
    "    discount_rate=(\"discount_rate\", \"mean\"),  # 개별 거래별 할인율 평균\n",
    "    is_auto_renew=(\"is_auto_renew\", \"mean\"),\n",
    "    membership_expire_date=(\"membership_expire_date\", \"max\"),\n",
    "    is_cancel=(\"is_cancel\", \"mean\"),\n",
    "    transaction_count=(\"msno\", \"count\")\n",
    ").reset_index()"
   ]
  },
  {
   "cell_type": "code",
   "execution_count": 8,
   "metadata": {},
   "outputs": [
    {
     "data": {
      "text/plain": [
       "Index(['msno', 'payment_plan_sum', 'plan_list_price', 'actual_amount_paid',\n",
       "       'discount_rate', 'is_auto_renew', 'membership_expire_date', 'is_cancel',\n",
       "       'transaction_count'],\n",
       "      dtype='object')"
      ]
     },
     "execution_count": 8,
     "metadata": {},
     "output_type": "execute_result"
    }
   ],
   "source": [
    "df_transaction.columns"
   ]
  },
  {
   "cell_type": "code",
   "execution_count": 9,
   "metadata": {},
   "outputs": [
    {
     "name": "stdout",
     "output_type": "stream",
     "text": [
      "   msno_num  is_churn  is_back\n",
      "0   1243772         0        0\n",
      "1   5813287         0        0\n",
      "2   3574275         0        0\n",
      "3   3176456         0        0\n",
      "4    397420         0        0\n",
      "   msno_num  city  bd  gender  registered_via  registration_init_time\n",
      "0         1     1   0     NaN              11                20110911\n",
      "1         2     1   0     NaN               7                20110914\n",
      "2         3     1   0     NaN              11                20110915\n",
      "3         4     1   0     NaN              11                20110915\n",
      "4         5     6  32  female               9                20110915\n",
      "   msno_num  payment_plan_sum  plan_list_price  actual_amount_paid  \\\n",
      "0    681048                 7                0                   0   \n",
      "1   3323218               805             3387                3387   \n",
      "2   1243772               150              495                 495   \n",
      "3   5813287               603             2980                3129   \n",
      "4   3574275               780             3874                4023   \n",
      "\n",
      "   discount_rate  is_auto_renew  membership_expire_date  is_cancel  \\\n",
      "0            NaN            0.0                20160914        0.0   \n",
      "1            0.0            0.0                20180206        0.0   \n",
      "2            0.0            1.0                20170415        0.0   \n",
      "3            0.0            1.0                20170519        0.0   \n",
      "4            0.0            1.0                20170426        0.0   \n",
      "\n",
      "   transaction_count  \n",
      "0                  1  \n",
      "1                  2  \n",
      "2                  5  \n",
      "3                 21  \n",
      "4                 27  \n"
     ]
    }
   ],
   "source": [
    "# msno 고유값 추출\n",
    "unique_msno = pd.concat([\n",
    "    df_members[['msno']],\n",
    "    train[['msno']],\n",
    "    df_transaction[['msno']]\n",
    "]).drop_duplicates().reset_index(drop=True)\n",
    "\n",
    "# msno에 대한 고유 번호 할당\n",
    "unique_msno['msno_num'] = range(1, len(unique_msno) + 1)\n",
    "\n",
    "# 기존 데이터프레임에 msno_num 추가\n",
    "train = train.merge(unique_msno, on='msno', how='left').drop(columns=['msno'])\n",
    "members = df_members.merge(unique_msno, on='msno', how='left').drop(columns=['msno'])\n",
    "df_transaction = df_transaction.merge(unique_msno, on='msno', how='left').drop(columns=['msno'])\n",
    "\n",
    "# 필요한 컬럼만 선택\n",
    "train = train[['msno_num', 'is_churn', 'is_back']]\n",
    "members = members[['msno_num', 'city', 'bd', 'gender', 'registered_via', 'registration_init_time']]\n",
    "df_transaction = df_transaction[['msno_num', 'payment_plan_sum', 'plan_list_price', 'actual_amount_paid',\n",
    "       'discount_rate', 'is_auto_renew', 'membership_expire_date', 'is_cancel',\n",
    "       'transaction_count']]\n",
    "\n",
    "# 변환된 데이터 확인\n",
    "print(train.head())\n",
    "print(members.head())\n",
    "print(df_transaction.head())\n",
    "# print(user_logs.head())\n"
   ]
  },
  {
   "cell_type": "code",
   "execution_count": 10,
   "metadata": {},
   "outputs": [],
   "source": [
    "kkbox_transaction_merge = pd.merge(train, df_transaction, on='msno_num', how='inner',)\n",
    "kkbox_merge = pd.merge(members, kkbox_transaction_merge, on='msno_num', how='inner')\n",
    "kkbox_merge.to_csv(data_dir + \"kkbox_data_not_log.csv\", index=False)"
   ]
  }
 ],
 "metadata": {
  "kernelspec": {
   "display_name": "base",
   "language": "python",
   "name": "python3"
  },
  "language_info": {
   "codemirror_mode": {
    "name": "ipython",
    "version": 3
   },
   "file_extension": ".py",
   "mimetype": "text/x-python",
   "name": "python",
   "nbconvert_exporter": "python",
   "pygments_lexer": "ipython3",
   "version": "3.11.11"
  }
 },
 "nbformat": 4,
 "nbformat_minor": 2
}
