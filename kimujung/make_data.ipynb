{
 "cells": [
  {
   "cell_type": "markdown",
   "metadata": {},
   "source": [
    "데이터 다운로드\n",
    "\n",
    "https://www.kaggle.com/c/kkbox-churn-prediction-challenge/data\n",
    "\n",
    "분석예시\n",
    "\n",
    "https://github.com/TAEJIN-AHN/Churn-Prediction/blob/main/eda.ipynb"
   ]
  },
  {
   "cell_type": "code",
   "execution_count": 1,
   "metadata": {},
   "outputs": [],
   "source": [
    "import numpy as np\n",
    "import pandas as pd\n",
    "import matplotlib.pyplot as plt"
   ]
  },
  {
   "cell_type": "markdown",
   "metadata": {},
   "source": [
    "### train 데이터 병합 전 처리"
   ]
  },
  {
   "cell_type": "code",
   "execution_count": 32,
   "metadata": {},
   "outputs": [],
   "source": [
    "data_dir = 'C:\\\\KIMUJUNG\\\\team_project\\\\data\\\\'\n",
    "df_members = pd.read_csv(data_dir + 'members_v3.csv')\n",
    "train_v1 = pd.read_csv(data_dir + 'train.csv')\n",
    "train_v2 = pd.read_csv(data_dir + 'train_v2.csv')\n",
    "transactions_v1 = pd.read_csv(data_dir + 'transactions.csv')\n",
    "transactions_v2 = pd.read_csv(data_dir + 'transactions_v2.csv')\n",
    "unique_label = pd.read_csv(data_dir + 'members_encoded.csv')\n",
    "log_data = pd.read_csv(data_dir + 'user_logs_summary.csv')"
   ]
  },
  {
   "cell_type": "code",
   "execution_count": 15,
   "metadata": {},
   "outputs": [
    {
     "data": {
      "text/html": [
       "<div>\n",
       "<style scoped>\n",
       "    .dataframe tbody tr th:only-of-type {\n",
       "        vertical-align: middle;\n",
       "    }\n",
       "\n",
       "    .dataframe tbody tr th {\n",
       "        vertical-align: top;\n",
       "    }\n",
       "\n",
       "    .dataframe thead th {\n",
       "        text-align: right;\n",
       "    }\n",
       "</style>\n",
       "<table border=\"1\" class=\"dataframe\">\n",
       "  <thead>\n",
       "    <tr style=\"text-align: right;\">\n",
       "      <th></th>\n",
       "      <th>msno</th>\n",
       "      <th>is_churn</th>\n",
       "      <th>version</th>\n",
       "    </tr>\n",
       "  </thead>\n",
       "  <tbody>\n",
       "    <tr>\n",
       "      <th>0</th>\n",
       "      <td>+++hVY1rZox/33YtvDgmKA2Frg/2qhkz12B9ylCvh8o=</td>\n",
       "      <td>0</td>\n",
       "      <td>v2</td>\n",
       "    </tr>\n",
       "    <tr>\n",
       "      <th>1</th>\n",
       "      <td>+++hVY1rZox/33YtvDgmKA2Frg/2qhkz12B9ylCvh8o=</td>\n",
       "      <td>0</td>\n",
       "      <td>v1</td>\n",
       "    </tr>\n",
       "    <tr>\n",
       "      <th>2</th>\n",
       "      <td>+++l/EXNMLTijfLBa8p2TUVVVp2aFGSuUI/h7mLmthw=</td>\n",
       "      <td>0</td>\n",
       "      <td>v2</td>\n",
       "    </tr>\n",
       "    <tr>\n",
       "      <th>3</th>\n",
       "      <td>+++l/EXNMLTijfLBa8p2TUVVVp2aFGSuUI/h7mLmthw=</td>\n",
       "      <td>0</td>\n",
       "      <td>v1</td>\n",
       "    </tr>\n",
       "    <tr>\n",
       "      <th>4</th>\n",
       "      <td>+++snpr7pmobhLKUgSHTv/mpkqgBT0tQJ0zQj6qKrqc=</td>\n",
       "      <td>0</td>\n",
       "      <td>v2</td>\n",
       "    </tr>\n",
       "  </tbody>\n",
       "</table>\n",
       "</div>"
      ],
      "text/plain": [
       "                                           msno  is_churn version\n",
       "0  +++hVY1rZox/33YtvDgmKA2Frg/2qhkz12B9ylCvh8o=         0      v2\n",
       "1  +++hVY1rZox/33YtvDgmKA2Frg/2qhkz12B9ylCvh8o=         0      v1\n",
       "2  +++l/EXNMLTijfLBa8p2TUVVVp2aFGSuUI/h7mLmthw=         0      v2\n",
       "3  +++l/EXNMLTijfLBa8p2TUVVVp2aFGSuUI/h7mLmthw=         0      v1\n",
       "4  +++snpr7pmobhLKUgSHTv/mpkqgBT0tQJ0zQj6qKrqc=         0      v2"
      ]
     },
     "execution_count": 15,
     "metadata": {},
     "output_type": "execute_result"
    }
   ],
   "source": [
    "train_v1['version'] = 'v1'\n",
    "train_v2['version'] = 'v2'\n",
    "train = pd.concat([train_v1, train_v2])\n",
    "train = train.sort_values(['msno', 'version'], ascending = [True, False]).reset_index(drop=True)\n",
    "train.head()"
   ]
  },
  {
   "cell_type": "code",
   "execution_count": 16,
   "metadata": {},
   "outputs": [],
   "source": [
    "aa = train['msno'][(train['is_churn'] == 0) & (train['version'] == 'v2')]\n",
    "bb = train['msno'][(train['is_churn'] == 1) & (train['version'] == 'v1')]\n",
    "cc = list(set(aa) & set(bb))\n",
    "train['is_back'] = train['msno'].isin(cc).astype(int)"
   ]
  },
  {
   "cell_type": "code",
   "execution_count": 17,
   "metadata": {},
   "outputs": [],
   "source": [
    "# 중복값을 제거하되, 중복 Row 중 첫번째 Row를 남기는 옵션을 선택함\n",
    "train.drop_duplicates(subset='msno', keep='first', inplace=True)\n",
    "train.query('msno in \"+++hVY1rZox/33YtvDgmKA2Frg/2qhkz12B9ylCvh8o=\"')\n",
    "# version 컬럼 제거\n",
    "train = train.drop('version', axis=1)"
   ]
  },
  {
   "cell_type": "code",
   "execution_count": 18,
   "metadata": {},
   "outputs": [],
   "source": [
    "# 구매 기록 데이터 합치기\n",
    "transactions = pd.concat([transactions_v1, transactions_v2], ignore_index=True)\n",
    "transactions = transactions.sort_values(['msno', 'transaction_date']).reset_index(drop=True)"
   ]
  },
  {
   "cell_type": "markdown",
   "metadata": {},
   "source": [
    "### transaction 데이터 처리"
   ]
  },
  {
   "cell_type": "code",
   "execution_count": 19,
   "metadata": {},
   "outputs": [],
   "source": [
    "# 0으로 나누는 오류 방지: plan_list_price가 0인 경우는 NaN 처리\n",
    "transactions[\"discount_rate\"] = np.where(\n",
    "    transactions[\"plan_list_price\"] != 0, \n",
    "    1 - (transactions[\"actual_amount_paid\"] / transactions[\"plan_list_price\"]),\n",
    "    np.nan  # 원래 가격이 0이면 NaN (이후 평균 계산 시 자동 제외됨)\n",
    ")\n",
    "\n",
    "# 사용자 ID(msno) 기준으로 그룹화하여 새로운 데이터프레임 생성\n",
    "df_transaction = transactions.groupby(\"msno\").agg(\n",
    "    payment_plan_sum=(\"payment_plan_days\", \"sum\"),\n",
    "    plan_list_price=(\"plan_list_price\", \"sum\"),\n",
    "    actual_amount_paid=(\"actual_amount_paid\", \"sum\"),\n",
    "    discount_rate=(\"discount_rate\", \"mean\"),  # 개별 거래별 할인율 평균\n",
    "    is_auto_renew=(\"is_auto_renew\", \"mean\"),\n",
    "    membership_expire_date=(\"membership_expire_date\", \"max\"),\n",
    "    is_cancel=(\"is_cancel\", \"mean\"),\n",
    "    transaction_count=(\"msno\", \"count\")\n",
    ").reset_index()"
   ]
  },
  {
   "cell_type": "code",
   "execution_count": 20,
   "metadata": {},
   "outputs": [
    {
     "data": {
      "text/plain": [
       "Index(['msno', 'payment_plan_sum', 'plan_list_price', 'actual_amount_paid',\n",
       "       'discount_rate', 'is_auto_renew', 'membership_expire_date', 'is_cancel',\n",
       "       'transaction_count'],\n",
       "      dtype='object')"
      ]
     },
     "execution_count": 20,
     "metadata": {},
     "output_type": "execute_result"
    }
   ],
   "source": [
    "df_transaction.columns"
   ]
  },
  {
   "cell_type": "code",
   "execution_count": 21,
   "metadata": {},
   "outputs": [
    {
     "data": {
      "text/html": [
       "<div>\n",
       "<style scoped>\n",
       "    .dataframe tbody tr th:only-of-type {\n",
       "        vertical-align: middle;\n",
       "    }\n",
       "\n",
       "    .dataframe tbody tr th {\n",
       "        vertical-align: top;\n",
       "    }\n",
       "\n",
       "    .dataframe thead th {\n",
       "        text-align: right;\n",
       "    }\n",
       "</style>\n",
       "<table border=\"1\" class=\"dataframe\">\n",
       "  <thead>\n",
       "    <tr style=\"text-align: right;\">\n",
       "      <th></th>\n",
       "      <th>msno</th>\n",
       "      <th>msno_encoded</th>\n",
       "    </tr>\n",
       "  </thead>\n",
       "  <tbody>\n",
       "    <tr>\n",
       "      <th>0</th>\n",
       "      <td>Rb9UwLQTrxzBVwCB6+bCcSQWZ9JiNLC9dXtM1oEsZA8=</td>\n",
       "      <td>3132477</td>\n",
       "    </tr>\n",
       "    <tr>\n",
       "      <th>1</th>\n",
       "      <td>+tJonkh+O1CA796Fm5X60UMOtB6POHAwPjbTRVl/EuU=</td>\n",
       "      <td>94959</td>\n",
       "    </tr>\n",
       "  </tbody>\n",
       "</table>\n",
       "</div>"
      ],
      "text/plain": [
       "                                           msno  msno_encoded\n",
       "0  Rb9UwLQTrxzBVwCB6+bCcSQWZ9JiNLC9dXtM1oEsZA8=       3132477\n",
       "1  +tJonkh+O1CA796Fm5X60UMOtB6POHAwPjbTRVl/EuU=         94959"
      ]
     },
     "execution_count": 21,
     "metadata": {},
     "output_type": "execute_result"
    }
   ],
   "source": [
    "unique_label.head(2)"
   ]
  },
  {
   "cell_type": "code",
   "execution_count": 24,
   "metadata": {},
   "outputs": [],
   "source": [
    "# 기존 데이터프레임에 msno_num 추가\n",
    "train_en = train.merge(unique_label, on='msno', how='inner').drop(columns=['msno'])\n",
    "members_en = df_members.merge(unique_label, on='msno', how='inner').drop(columns=['msno'])\n",
    "df_transaction_en = df_transaction.merge(unique_label, on='msno', how='inner').drop(columns=['msno'])"
   ]
  },
  {
   "cell_type": "code",
   "execution_count": 27,
   "metadata": {},
   "outputs": [
    {
     "data": {
      "text/html": [
       "<div>\n",
       "<style scoped>\n",
       "    .dataframe tbody tr th:only-of-type {\n",
       "        vertical-align: middle;\n",
       "    }\n",
       "\n",
       "    .dataframe tbody tr th {\n",
       "        vertical-align: top;\n",
       "    }\n",
       "\n",
       "    .dataframe thead th {\n",
       "        text-align: right;\n",
       "    }\n",
       "</style>\n",
       "<table border=\"1\" class=\"dataframe\">\n",
       "  <thead>\n",
       "    <tr style=\"text-align: right;\">\n",
       "      <th></th>\n",
       "      <th>is_churn</th>\n",
       "      <th>is_back</th>\n",
       "      <th>msno_encoded</th>\n",
       "    </tr>\n",
       "  </thead>\n",
       "  <tbody>\n",
       "    <tr>\n",
       "      <th>0</th>\n",
       "      <td>0</td>\n",
       "      <td>0</td>\n",
       "      <td>12</td>\n",
       "    </tr>\n",
       "    <tr>\n",
       "      <th>1</th>\n",
       "      <td>0</td>\n",
       "      <td>0</td>\n",
       "      <td>13</td>\n",
       "    </tr>\n",
       "  </tbody>\n",
       "</table>\n",
       "</div>"
      ],
      "text/plain": [
       "   is_churn  is_back  msno_encoded\n",
       "0         0        0            12\n",
       "1         0        0            13"
      ]
     },
     "execution_count": 27,
     "metadata": {},
     "output_type": "execute_result"
    }
   ],
   "source": [
    "train_en.head(2)"
   ]
  },
  {
   "cell_type": "code",
   "execution_count": 25,
   "metadata": {},
   "outputs": [
    {
     "data": {
      "text/plain": [
       "((961431, 3), (6769473, 6))"
      ]
     },
     "execution_count": 25,
     "metadata": {},
     "output_type": "execute_result"
    }
   ],
   "source": [
    "train_en.shape, members_en.shape"
   ]
  },
  {
   "cell_type": "code",
   "execution_count": 42,
   "metadata": {},
   "outputs": [],
   "source": [
    "kkbox_transaction_merge = pd.merge(train_en, df_transaction_en, on='msno_encoded', how='inner',)\n",
    "kkbox_merge = pd.merge(members_en, kkbox_transaction_merge, on='msno_encoded', how='inner')\n",
    "kkbox_merge['msno'] = kkbox_merge['msno_encoded']\n",
    "kkbox_merge = kkbox_merge[['msno', 'city', 'bd', 'gender', 'registered_via', 'registration_init_time',\n",
    "        'is_churn', 'is_back', 'payment_plan_sum',\n",
    "        'plan_list_price', 'actual_amount_paid', 'discount_rate',\n",
    "        'is_auto_renew', 'membership_expire_date', 'is_cancel', 'transaction_count']]\n",
    "kkbox_merge.to_csv(data_dir + \"kkbox_data_not_log.csv\", index=False)"
   ]
  },
  {
   "cell_type": "code",
   "execution_count": 43,
   "metadata": {},
   "outputs": [
    {
     "data": {
      "text/plain": [
       "((961431, 16),\n",
       " Index(['msno', 'city', 'bd', 'gender', 'registered_via',\n",
       "        'registration_init_time', 'is_churn', 'is_back', 'payment_plan_sum',\n",
       "        'plan_list_price', 'actual_amount_paid', 'discount_rate',\n",
       "        'is_auto_renew', 'membership_expire_date', 'is_cancel',\n",
       "        'transaction_count'],\n",
       "       dtype='object'))"
      ]
     },
     "execution_count": 43,
     "metadata": {},
     "output_type": "execute_result"
    }
   ],
   "source": [
    "kkbox_merge.shape, kkbox_merge.columns"
   ]
  },
  {
   "cell_type": "code",
   "execution_count": 46,
   "metadata": {},
   "outputs": [
    {
     "data": {
      "text/html": [
       "<div>\n",
       "<style scoped>\n",
       "    .dataframe tbody tr th:only-of-type {\n",
       "        vertical-align: middle;\n",
       "    }\n",
       "\n",
       "    .dataframe tbody tr th {\n",
       "        vertical-align: top;\n",
       "    }\n",
       "\n",
       "    .dataframe thead th {\n",
       "        text-align: right;\n",
       "    }\n",
       "</style>\n",
       "<table border=\"1\" class=\"dataframe\">\n",
       "  <thead>\n",
       "    <tr style=\"text-align: right;\">\n",
       "      <th></th>\n",
       "      <th>msno</th>\n",
       "      <th>city</th>\n",
       "      <th>bd</th>\n",
       "      <th>gender</th>\n",
       "      <th>registered_via</th>\n",
       "      <th>registration_init_time</th>\n",
       "      <th>is_churn</th>\n",
       "      <th>is_back</th>\n",
       "      <th>payment_plan_sum</th>\n",
       "      <th>plan_list_price</th>\n",
       "      <th>actual_amount_paid</th>\n",
       "      <th>discount_rate</th>\n",
       "      <th>is_auto_renew</th>\n",
       "      <th>membership_expire_date</th>\n",
       "      <th>is_cancel</th>\n",
       "      <th>transaction_count</th>\n",
       "    </tr>\n",
       "  </thead>\n",
       "  <tbody>\n",
       "    <tr>\n",
       "      <th>0</th>\n",
       "      <td>94959</td>\n",
       "      <td>1</td>\n",
       "      <td>0</td>\n",
       "      <td>NaN</td>\n",
       "      <td>7</td>\n",
       "      <td>20110914</td>\n",
       "      <td>0</td>\n",
       "      <td>0</td>\n",
       "      <td>870</td>\n",
       "      <td>3981</td>\n",
       "      <td>4130</td>\n",
       "      <td>0.0</td>\n",
       "      <td>1.0</td>\n",
       "      <td>20170428</td>\n",
       "      <td>0.033333</td>\n",
       "      <td>30</td>\n",
       "    </tr>\n",
       "    <tr>\n",
       "      <th>1</th>\n",
       "      <td>6597367</td>\n",
       "      <td>4</td>\n",
       "      <td>30</td>\n",
       "      <td>male</td>\n",
       "      <td>9</td>\n",
       "      <td>20110916</td>\n",
       "      <td>0</td>\n",
       "      <td>0</td>\n",
       "      <td>603</td>\n",
       "      <td>2980</td>\n",
       "      <td>3129</td>\n",
       "      <td>0.0</td>\n",
       "      <td>1.0</td>\n",
       "      <td>20170517</td>\n",
       "      <td>0.000000</td>\n",
       "      <td>21</td>\n",
       "    </tr>\n",
       "  </tbody>\n",
       "</table>\n",
       "</div>"
      ],
      "text/plain": [
       "      msno  city  bd gender  registered_via  registration_init_time  is_churn  \\\n",
       "0    94959     1   0    NaN               7                20110914         0   \n",
       "1  6597367     4  30   male               9                20110916         0   \n",
       "\n",
       "   is_back  payment_plan_sum  plan_list_price  actual_amount_paid  \\\n",
       "0        0               870             3981                4130   \n",
       "1        0               603             2980                3129   \n",
       "\n",
       "   discount_rate  is_auto_renew  membership_expire_date  is_cancel  \\\n",
       "0            0.0            1.0                20170428   0.033333   \n",
       "1            0.0            1.0                20170517   0.000000   \n",
       "\n",
       "   transaction_count  \n",
       "0                 30  \n",
       "1                 21  "
      ]
     },
     "execution_count": 46,
     "metadata": {},
     "output_type": "execute_result"
    }
   ],
   "source": [
    "kkbox_merge.head(2)"
   ]
  },
  {
   "cell_type": "code",
   "execution_count": 36,
   "metadata": {},
   "outputs": [
    {
     "data": {
      "text/html": [
       "<div>\n",
       "<style scoped>\n",
       "    .dataframe tbody tr th:only-of-type {\n",
       "        vertical-align: middle;\n",
       "    }\n",
       "\n",
       "    .dataframe tbody tr th {\n",
       "        vertical-align: top;\n",
       "    }\n",
       "\n",
       "    .dataframe thead th {\n",
       "        text-align: right;\n",
       "    }\n",
       "</style>\n",
       "<table border=\"1\" class=\"dataframe\">\n",
       "  <thead>\n",
       "    <tr style=\"text-align: right;\">\n",
       "      <th></th>\n",
       "      <th>msno</th>\n",
       "      <th>num_25</th>\n",
       "      <th>num_50</th>\n",
       "      <th>num_75</th>\n",
       "      <th>num_985</th>\n",
       "      <th>num_100</th>\n",
       "      <th>num_unq</th>\n",
       "      <th>total_secs</th>\n",
       "      <th>log_start</th>\n",
       "      <th>log_end</th>\n",
       "    </tr>\n",
       "  </thead>\n",
       "  <tbody>\n",
       "    <tr>\n",
       "      <th>0</th>\n",
       "      <td>6.0</td>\n",
       "      <td>903</td>\n",
       "      <td>260</td>\n",
       "      <td>237</td>\n",
       "      <td>200</td>\n",
       "      <td>59826</td>\n",
       "      <td>54134</td>\n",
       "      <td>1.478275e+07</td>\n",
       "      <td>20150101</td>\n",
       "      <td>20170331</td>\n",
       "    </tr>\n",
       "    <tr>\n",
       "      <th>1</th>\n",
       "      <td>12.0</td>\n",
       "      <td>763</td>\n",
       "      <td>379</td>\n",
       "      <td>359</td>\n",
       "      <td>648</td>\n",
       "      <td>2820</td>\n",
       "      <td>3690</td>\n",
       "      <td>9.124106e+05</td>\n",
       "      <td>20161116</td>\n",
       "      <td>20170331</td>\n",
       "    </tr>\n",
       "  </tbody>\n",
       "</table>\n",
       "</div>"
      ],
      "text/plain": [
       "   msno  num_25  num_50  num_75  num_985  num_100  num_unq    total_secs  \\\n",
       "0   6.0     903     260     237      200    59826    54134  1.478275e+07   \n",
       "1  12.0     763     379     359      648     2820     3690  9.124106e+05   \n",
       "\n",
       "   log_start   log_end  \n",
       "0   20150101  20170331  \n",
       "1   20161116  20170331  "
      ]
     },
     "execution_count": 36,
     "metadata": {},
     "output_type": "execute_result"
    }
   ],
   "source": [
    "log_data.head(2)"
   ]
  },
  {
   "cell_type": "code",
   "execution_count": 48,
   "metadata": {},
   "outputs": [],
   "source": [
    "log_data['msno'] = log_data['msno'].astype('int')"
   ]
  },
  {
   "cell_type": "code",
   "execution_count": null,
   "metadata": {},
   "outputs": [],
   "source": [
    "kkbox_merge_final = pd.merge(kkbox_merge, log_data, on='msno', how='inner')\n",
    "kkbox_merge_final.to_csv(data_dir + \"kkbox_data_total.csv\", index=False)"
   ]
  },
  {
   "cell_type": "code",
   "execution_count": null,
   "metadata": {},
   "outputs": [
    {
     "name": "stdout",
     "output_type": "stream",
     "text": [
      "   msno_num  is_churn  is_back\n",
      "0   1243772         0        0\n",
      "1   5813287         0        0\n",
      "2   3574275         0        0\n",
      "3   3176456         0        0\n",
      "4    397420         0        0\n",
      "   msno_num  city  bd  gender  registered_via  registration_init_time\n",
      "0         1     1   0     NaN              11                20110911\n",
      "1         2     1   0     NaN               7                20110914\n",
      "2         3     1   0     NaN              11                20110915\n",
      "3         4     1   0     NaN              11                20110915\n",
      "4         5     6  32  female               9                20110915\n",
      "   msno_num  payment_plan_sum  plan_list_price  actual_amount_paid  \\\n",
      "0    681048                 7                0                   0   \n",
      "1   3323218               805             3387                3387   \n",
      "2   1243772               150              495                 495   \n",
      "3   5813287               603             2980                3129   \n",
      "4   3574275               780             3874                4023   \n",
      "\n",
      "   discount_rate  is_auto_renew  membership_expire_date  is_cancel  \\\n",
      "0            NaN            0.0                20160914        0.0   \n",
      "1            0.0            0.0                20180206        0.0   \n",
      "2            0.0            1.0                20170415        0.0   \n",
      "3            0.0            1.0                20170519        0.0   \n",
      "4            0.0            1.0                20170426        0.0   \n",
      "\n",
      "   transaction_count  \n",
      "0                  1  \n",
      "1                  2  \n",
      "2                  5  \n",
      "3                 21  \n",
      "4                 27  \n"
     ]
    }
   ],
   "source": [
    "# # msno 고유값 추출\n",
    "# unique_msno = pd.concat([\n",
    "#     df_members[['msno']],\n",
    "#     train[['msno']],\n",
    "#     df_transaction[['msno']]\n",
    "# ]).drop_duplicates().reset_index(drop=True)\n",
    "\n",
    "# # msno에 대한 고유 번호 할당\n",
    "# unique_msno['msno_num'] = range(1, len(unique_msno) + 1)\n",
    "\n",
    "# # 기존 데이터프레임에 msno_num 추가\n",
    "# train = train.merge(unique_msno, on='msno', how='left').drop(columns=['msno'])\n",
    "# members = df_members.merge(unique_msno, on='msno', how='left').drop(columns=['msno'])\n",
    "# df_transaction = df_transaction.merge(unique_msno, on='msno', how='left').drop(columns=['msno'])\n",
    "\n",
    "# # 필요한 컬럼만 선택\n",
    "# train = train[['msno_num', 'is_churn', 'is_back']]\n",
    "# members = members[['msno_num', 'city', 'bd', 'gender', 'registered_via', 'registration_init_time']]\n",
    "# df_transaction = df_transaction[['msno_num', 'payment_plan_sum', 'plan_list_price', 'actual_amount_paid',\n",
    "#        'discount_rate', 'is_auto_renew', 'membership_expire_date', 'is_cancel',\n",
    "#        'transaction_count']]\n",
    "\n",
    "# # 변환된 데이터 확인\n",
    "# print(train.head())\n",
    "# print(members.head())\n",
    "# print(df_transaction.head())\n",
    "# # print(user_logs.head())"
   ]
  },
  {
   "cell_type": "code",
   "execution_count": null,
   "metadata": {},
   "outputs": [],
   "source": [
    "# kkbox_transaction_merge = pd.merge(train, df_transaction, on='msno_num', how='inner',)\n",
    "# kkbox_merge = pd.merge(members, kkbox_transaction_merge, on='msno_num', how='inner')\n",
    "# kkbox_merge.to_csv(data_dir + \"kkbox_data_not_log.csv\", index=False)"
   ]
  }
 ],
 "metadata": {
  "kernelspec": {
   "display_name": "pystudy_env",
   "language": "python",
   "name": "python3"
  },
  "language_info": {
   "codemirror_mode": {
    "name": "ipython",
    "version": 3
   },
   "file_extension": ".py",
   "mimetype": "text/x-python",
   "name": "python",
   "nbconvert_exporter": "python",
   "pygments_lexer": "ipython3",
   "version": "3.12.8"
  }
 },
 "nbformat": 4,
 "nbformat_minor": 2
}
