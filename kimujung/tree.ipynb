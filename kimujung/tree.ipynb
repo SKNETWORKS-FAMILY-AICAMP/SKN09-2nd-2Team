{
 "cells": [
  {
   "cell_type": "code",
   "execution_count": 4,
   "metadata": {},
   "outputs": [],
   "source": [
    "import numpy as np\n",
    "import pandas as pd\n",
    "from sklearn.model_selection import train_test_split, StratifiedKFold, GridSearchCV\n",
    "from sklearn.preprocessing import StandardScaler\n",
    "from sklearn.metrics import confusion_matrix, accuracy_score, classification_report, precision_score, recall_score\n",
    "from sklearn.tree import DecisionTreeClassifier\n",
    "from imblearn.over_sampling import RandomOverSampler\n",
    "from collections import Counter   "
   ]
  },
  {
   "cell_type": "code",
   "execution_count": 3,
   "metadata": {},
   "outputs": [
    {
     "data": {
      "text/html": [
       "<div>\n",
       "<style scoped>\n",
       "    .dataframe tbody tr th:only-of-type {\n",
       "        vertical-align: middle;\n",
       "    }\n",
       "\n",
       "    .dataframe tbody tr th {\n",
       "        vertical-align: top;\n",
       "    }\n",
       "\n",
       "    .dataframe thead th {\n",
       "        text-align: right;\n",
       "    }\n",
       "</style>\n",
       "<table border=\"1\" class=\"dataframe\">\n",
       "  <thead>\n",
       "    <tr style=\"text-align: right;\">\n",
       "      <th></th>\n",
       "      <th>msno</th>\n",
       "      <th>city</th>\n",
       "      <th>bd</th>\n",
       "      <th>registered_via</th>\n",
       "      <th>is_churn</th>\n",
       "      <th>is_back</th>\n",
       "      <th>payment_plan_sum</th>\n",
       "      <th>plan_list_price</th>\n",
       "      <th>actual_amount_paid</th>\n",
       "      <th>discount_rate</th>\n",
       "      <th>is_auto_renew</th>\n",
       "      <th>is_cancel</th>\n",
       "      <th>transaction_count</th>\n",
       "      <th>num_25</th>\n",
       "      <th>num_50</th>\n",
       "      <th>num_75</th>\n",
       "      <th>num_985</th>\n",
       "      <th>num_100</th>\n",
       "      <th>num_unq</th>\n",
       "      <th>total_secs</th>\n",
       "      <th>registration_init_time_year</th>\n",
       "      <th>registration_init_time_month</th>\n",
       "      <th>registration_init_time_day</th>\n",
       "      <th>membership_expire_date_year</th>\n",
       "      <th>membership_expire_date_month</th>\n",
       "      <th>membership_expire_date_day</th>\n",
       "      <th>log_end_year</th>\n",
       "      <th>log_end_month</th>\n",
       "      <th>log_end_day</th>\n",
       "      <th>log_start_year</th>\n",
       "      <th>log_start_month</th>\n",
       "      <th>log_start_day</th>\n",
       "      <th>gender_encoded</th>\n",
       "    </tr>\n",
       "  </thead>\n",
       "  <tbody>\n",
       "    <tr>\n",
       "      <th>0</th>\n",
       "      <td>6597367</td>\n",
       "      <td>4</td>\n",
       "      <td>30.0</td>\n",
       "      <td>9</td>\n",
       "      <td>0</td>\n",
       "      <td>0</td>\n",
       "      <td>603</td>\n",
       "      <td>2980</td>\n",
       "      <td>3129</td>\n",
       "      <td>0.0</td>\n",
       "      <td>1.0</td>\n",
       "      <td>0.0</td>\n",
       "      <td>21</td>\n",
       "      <td>77</td>\n",
       "      <td>22</td>\n",
       "      <td>16</td>\n",
       "      <td>44</td>\n",
       "      <td>658</td>\n",
       "      <td>287</td>\n",
       "      <td>171508.646</td>\n",
       "      <td>2011</td>\n",
       "      <td>9</td>\n",
       "      <td>16</td>\n",
       "      <td>2017</td>\n",
       "      <td>5</td>\n",
       "      <td>17</td>\n",
       "      <td>2017</td>\n",
       "      <td>3</td>\n",
       "      <td>31</td>\n",
       "      <td>2015</td>\n",
       "      <td>2</td>\n",
       "      <td>9</td>\n",
       "      <td>1</td>\n",
       "    </tr>\n",
       "    <tr>\n",
       "      <th>1</th>\n",
       "      <td>3629318</td>\n",
       "      <td>5</td>\n",
       "      <td>34.0</td>\n",
       "      <td>9</td>\n",
       "      <td>1</td>\n",
       "      <td>0</td>\n",
       "      <td>360</td>\n",
       "      <td>1072</td>\n",
       "      <td>1072</td>\n",
       "      <td>0.0</td>\n",
       "      <td>0.0</td>\n",
       "      <td>0.0</td>\n",
       "      <td>2</td>\n",
       "      <td>145</td>\n",
       "      <td>84</td>\n",
       "      <td>58</td>\n",
       "      <td>42</td>\n",
       "      <td>1678</td>\n",
       "      <td>1158</td>\n",
       "      <td>448313.054</td>\n",
       "      <td>2011</td>\n",
       "      <td>9</td>\n",
       "      <td>16</td>\n",
       "      <td>2017</td>\n",
       "      <td>8</td>\n",
       "      <td>23</td>\n",
       "      <td>2017</td>\n",
       "      <td>3</td>\n",
       "      <td>30</td>\n",
       "      <td>2016</td>\n",
       "      <td>8</td>\n",
       "      <td>22</td>\n",
       "      <td>1</td>\n",
       "    </tr>\n",
       "  </tbody>\n",
       "</table>\n",
       "</div>"
      ],
      "text/plain": [
       "      msno  city    bd  ...  log_start_month  log_start_day  gender_encoded\n",
       "0  6597367     4  30.0  ...                2              9               1\n",
       "1  3629318     5  34.0  ...                8             22               1\n",
       "\n",
       "[2 rows x 33 columns]"
      ]
     },
     "execution_count": 3,
     "metadata": {},
     "output_type": "execute_result"
    }
   ],
   "source": [
    "data_dir = \"D:\\\\study\\\\sknetworks\\\\team_project\\\\sk_2nd\\\\git\\\\\"\n",
    "df = pd.read_csv(data_dir + 'data_totla_split_non_index.csv')\n",
    "df.head(2)"
   ]
  },
  {
   "cell_type": "code",
   "execution_count": 12,
   "metadata": {},
   "outputs": [],
   "source": [
    "X = df.drop(['msno','is_churn'],axis=1)\n",
    "y = df['is_churn']\n",
    "\n",
    "X_train, X_test, y_train, y_test = train_test_split(X, y, random_state=0)\n",
    "\n",
    "scaler = StandardScaler()\n",
    "X_train_scaled = scaler.fit_transform(X_train)\n",
    "X_test_scaled = scaler.transform(X_test)"
   ]
  },
  {
   "cell_type": "code",
   "execution_count": 13,
   "metadata": {},
   "outputs": [
    {
     "name": "stdout",
     "output_type": "stream",
     "text": [
      "DecisionTreeClassifier(max_depth=9, random_state=42)\n"
     ]
    }
   ],
   "source": [
    "skf = StratifiedKFold(n_splits=5)\n",
    "dt_clf = DecisionTreeClassifier(random_state=42)\n",
    "params = {\n",
    "    # \"max_depth\": [12,13,14,15,16,17,18,19,20,21,22,23,24,25,26]\n",
    "    \"max_depth\": [1,2,3,4,5,6,7,8,9,10,11,12]\n",
    "}\n",
    "gscv_tree = GridSearchCV (dt_clf, params, scoring ='accuracy', cv = skf)\n",
    "gscv_tree.fit(X_train_scaled, y_train)\n",
    "print(gscv_tree.best_estimator_)"
   ]
  },
  {
   "cell_type": "code",
   "execution_count": 14,
   "metadata": {},
   "outputs": [
    {
     "name": "stdout",
     "output_type": "stream",
     "text": [
      "의사결정나무 정확도: 0.9396757285244833\n",
      "의사결정나무 정밀도: 0.8807587359060222\n",
      "의사결정나무 재현율: 0.7589527947456112\n"
     ]
    }
   ],
   "source": [
    "stratified_kfold = StratifiedKFold(n_splits=5)\n",
    "dt_clf = DecisionTreeClassifier(max_depth=9, random_state=42)\n",
    "\n",
    "dt_accuracy = []\n",
    "dt_precision = []\n",
    "dt_recall = []\n",
    "\n",
    "for train_index, val_index in stratified_kfold.split(X, y):\n",
    "    X_train, y_train = X.iloc[train_index], y.iloc[train_index]\n",
    "    X_val, y_val = X.iloc[val_index], y.iloc[val_index]\n",
    "\n",
    "    dt_clf.fit(X_train, y_train)\n",
    "    y_pred_dt = dt_clf.predict(X_val)   # 검증 데이터로 예측\n",
    "\n",
    "    dt_accuracy.append(accuracy_score(y_val, y_pred_dt)) \n",
    "    \n",
    "    dt_precision.append(precision_score(y_val, y_pred_dt)) \n",
    "    \n",
    "    dt_recall.append(recall_score(y_val, y_pred_dt)) \n",
    "\n",
    "print(\"의사결정나무 정확도:\", np.mean(dt_accuracy))\n",
    "print(\"의사결정나무 정밀도:\", np.mean(dt_precision))\n",
    "print(\"의사결정나무 재현율:\", np.mean(dt_recall))"
   ]
  },
  {
   "cell_type": "code",
   "execution_count": 16,
   "metadata": {},
   "outputs": [
    {
     "name": "stdout",
     "output_type": "stream",
     "text": [
      "Counter({0: 303621, 1: 64589})\n"
     ]
    },
    {
     "name": "stderr",
     "output_type": "stream",
     "text": [
      "c:\\Users\\kwj\\anaconda3\\Lib\\site-packages\\sklearn\\base.py:484: FutureWarning: `BaseEstimator._check_n_features` is deprecated in 1.6 and will be removed in 1.7. Use `sklearn.utils.validation._check_n_features` instead.\n",
      "  warnings.warn(\n",
      "c:\\Users\\kwj\\anaconda3\\Lib\\site-packages\\sklearn\\base.py:493: FutureWarning: `BaseEstimator._check_feature_names` is deprecated in 1.6 and will be removed in 1.7. Use `sklearn.utils.validation._check_feature_names` instead.\n",
      "  warnings.warn(\n"
     ]
    },
    {
     "name": "stdout",
     "output_type": "stream",
     "text": [
      "Counter({0: 303621, 1: 303621})\n"
     ]
    }
   ],
   "source": [
    "counter = Counter(y)\n",
    "print(counter)\n",
    "\n",
    "ros = RandomOverSampler(random_state=42)\n",
    "X_res, y_res = ros.fit_resample(X, y)\n",
    "\n",
    "counter = Counter(y_res)\n",
    "print(counter)\n",
    "\n",
    "X_train, X_test, y_train, y_test = train_test_split(X_res, y_res, random_state=42)\n",
    "scaler = StandardScaler()\n",
    "X_train_scaled = scaler.fit_transform(X_train)\n",
    "X_test_scaled = scaler.transform(X_test)"
   ]
  },
  {
   "cell_type": "code",
   "execution_count": 21,
   "metadata": {},
   "outputs": [
    {
     "name": "stdout",
     "output_type": "stream",
     "text": [
      "DecisionTreeClassifier(max_depth=48, random_state=42)\n"
     ]
    }
   ],
   "source": [
    "skf = StratifiedKFold(n_splits=5)\n",
    "dt_clf = DecisionTreeClassifier(random_state=42)\n",
    "params = {\n",
    "    # \"max_depth\": [50,55,60,65,70,75,80,85,90,95,100]\n",
    "    \"max_depth\": [46,47,48,49,50,51,52,53,54]\n",
    "    # \"max_depth\": [26,27,28,29,30,35,40,45,50]\n",
    "    # \"max_depth\": [12,13,14,15,16,17,18,19,20,21,22,23,24,25,26]\n",
    "    # \"max_depth\": [1,2,3,4,5,6,7,8,9,10,11,12]\n",
    "}\n",
    "gscv_tree = GridSearchCV (dt_clf, params, scoring ='accuracy', cv = skf)\n",
    "gscv_tree.fit(X_train_scaled, y_train)\n",
    "print(gscv_tree.best_estimator_)"
   ]
  },
  {
   "cell_type": "code",
   "execution_count": 23,
   "metadata": {},
   "outputs": [
    {
     "name": "stdout",
     "output_type": "stream",
     "text": [
      "의사결정나무 정확도: 0.9672041753545024\n",
      "의사결정나무 정밀도: 0.9398506157794057\n",
      "의사결정나무 재현율: 0.9983235675545007\n"
     ]
    }
   ],
   "source": [
    "stratified_kfold = StratifiedKFold(n_splits=5)\n",
    "dt_clf = DecisionTreeClassifier(max_depth=48, random_state=42)\n",
    "\n",
    "dt_accuracy = []\n",
    "dt_precision = []\n",
    "dt_recall = []\n",
    "\n",
    "for train_index, val_index in stratified_kfold.split(X_res, y_res):\n",
    "    X_train, y_train = X_res.iloc[train_index], y_res.iloc[train_index]\n",
    "    X_val, y_val = X_res.iloc[val_index], y_res.iloc[val_index]\n",
    "\n",
    "    dt_clf.fit(X_train, y_train)\n",
    "    y_pred_dt = dt_clf.predict(X_val)   # 검증 데이터로 예측\n",
    "\n",
    "    dt_accuracy.append(accuracy_score(y_val, y_pred_dt)) \n",
    "    \n",
    "    dt_precision.append(precision_score(y_val, y_pred_dt)) \n",
    "    \n",
    "    dt_recall.append(recall_score(y_val, y_pred_dt)) \n",
    "\n",
    "print(\"의사결정나무 정확도:\", np.mean(dt_accuracy))\n",
    "print(\"의사결정나무 정밀도:\", np.mean(dt_precision))\n",
    "print(\"의사결정나무 재현율:\", np.mean(dt_recall))"
   ]
  }
 ],
 "metadata": {
  "kernelspec": {
   "display_name": "base",
   "language": "python",
   "name": "python3"
  },
  "language_info": {
   "codemirror_mode": {
    "name": "ipython",
    "version": 3
   },
   "file_extension": ".py",
   "mimetype": "text/x-python",
   "name": "python",
   "nbconvert_exporter": "python",
   "pygments_lexer": "ipython3",
   "version": "3.11.11"
  }
 },
 "nbformat": 4,
 "nbformat_minor": 2
}
