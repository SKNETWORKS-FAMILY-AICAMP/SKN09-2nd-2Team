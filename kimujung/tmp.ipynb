{
 "cells": [
  {
   "cell_type": "markdown",
   "metadata": {},
   "source": [
    "데이터 다운로드\n",
    "\n",
    "https://www.kaggle.com/c/kkbox-churn-prediction-challenge/data\n",
    "\n",
    "분석예시\n",
    "\n",
    "https://github.com/TAEJIN-AHN/Churn-Prediction/blob/main/eda.ipynb"
   ]
  },
  {
   "cell_type": "code",
   "execution_count": 2,
   "metadata": {},
   "outputs": [],
   "source": [
    "import numpy as np\n",
    "import pandas as pd\n",
    "# import venn\n",
    "import matplotlib.pyplot as plt\n",
    "# from pyspark.sql import *\n",
    "# from pyspark.sql.functions import *"
   ]
  },
  {
   "cell_type": "code",
   "execution_count": 53,
   "metadata": {},
   "outputs": [],
   "source": [
    "data_dir = 'C:\\\\Users\\\\USER\\\\Downloads\\\\data\\\\'\n",
    "members = pd.read_csv(data_dir + 'members_v3.csv')\n",
    "train_v1 = pd.read_csv(data_dir + 'train.csv')\n",
    "train_v2 = pd.read_csv(data_dir + 'train_v2.csv')\n",
    "transactions_v1 = pd.read_csv(data_dir + 'transactions.csv')\n",
    "transactions_v2 = pd.read_csv(data_dir + 'transactions_v2.csv')"
   ]
  },
  {
   "cell_type": "code",
   "execution_count": 54,
   "metadata": {},
   "outputs": [
    {
     "data": {
      "text/html": [
       "<div>\n",
       "<style scoped>\n",
       "    .dataframe tbody tr th:only-of-type {\n",
       "        vertical-align: middle;\n",
       "    }\n",
       "\n",
       "    .dataframe tbody tr th {\n",
       "        vertical-align: top;\n",
       "    }\n",
       "\n",
       "    .dataframe thead th {\n",
       "        text-align: right;\n",
       "    }\n",
       "</style>\n",
       "<table border=\"1\" class=\"dataframe\">\n",
       "  <thead>\n",
       "    <tr style=\"text-align: right;\">\n",
       "      <th></th>\n",
       "      <th>msno</th>\n",
       "      <th>is_churn</th>\n",
       "      <th>version</th>\n",
       "    </tr>\n",
       "  </thead>\n",
       "  <tbody>\n",
       "    <tr>\n",
       "      <th>0</th>\n",
       "      <td>+++hVY1rZox/33YtvDgmKA2Frg/2qhkz12B9ylCvh8o=</td>\n",
       "      <td>0</td>\n",
       "      <td>v2</td>\n",
       "    </tr>\n",
       "    <tr>\n",
       "      <th>1</th>\n",
       "      <td>+++hVY1rZox/33YtvDgmKA2Frg/2qhkz12B9ylCvh8o=</td>\n",
       "      <td>0</td>\n",
       "      <td>v1</td>\n",
       "    </tr>\n",
       "    <tr>\n",
       "      <th>2</th>\n",
       "      <td>+++l/EXNMLTijfLBa8p2TUVVVp2aFGSuUI/h7mLmthw=</td>\n",
       "      <td>0</td>\n",
       "      <td>v2</td>\n",
       "    </tr>\n",
       "    <tr>\n",
       "      <th>3</th>\n",
       "      <td>+++l/EXNMLTijfLBa8p2TUVVVp2aFGSuUI/h7mLmthw=</td>\n",
       "      <td>0</td>\n",
       "      <td>v1</td>\n",
       "    </tr>\n",
       "    <tr>\n",
       "      <th>4</th>\n",
       "      <td>+++snpr7pmobhLKUgSHTv/mpkqgBT0tQJ0zQj6qKrqc=</td>\n",
       "      <td>0</td>\n",
       "      <td>v2</td>\n",
       "    </tr>\n",
       "  </tbody>\n",
       "</table>\n",
       "</div>"
      ],
      "text/plain": [
       "                                           msno  is_churn version\n",
       "0  +++hVY1rZox/33YtvDgmKA2Frg/2qhkz12B9ylCvh8o=         0      v2\n",
       "1  +++hVY1rZox/33YtvDgmKA2Frg/2qhkz12B9ylCvh8o=         0      v1\n",
       "2  +++l/EXNMLTijfLBa8p2TUVVVp2aFGSuUI/h7mLmthw=         0      v2\n",
       "3  +++l/EXNMLTijfLBa8p2TUVVVp2aFGSuUI/h7mLmthw=         0      v1\n",
       "4  +++snpr7pmobhLKUgSHTv/mpkqgBT0tQJ0zQj6qKrqc=         0      v2"
      ]
     },
     "execution_count": 54,
     "metadata": {},
     "output_type": "execute_result"
    }
   ],
   "source": [
    "train_v1['version'] = 'v1'\n",
    "train_v2['version'] = 'v2'\n",
    "train = pd.concat([train_v1, train_v2])\n",
    "train = train.sort_values(['msno', 'version'], ascending = [True, False]).reset_index(drop=True)\n",
    "train.head()"
   ]
  },
  {
   "cell_type": "code",
   "execution_count": 55,
   "metadata": {},
   "outputs": [],
   "source": [
    "aa = train['msno'][(train['is_churn'] == 0) & (train['version'] == 'v2')]\n",
    "bb = train['msno'][(train['is_churn'] == 1) & (train['version'] == 'v1')]\n",
    "cc = list(set(aa) & set(bb))\n",
    "train['is_back'] = train['msno'].isin(cc).astype(int)"
   ]
  },
  {
   "cell_type": "code",
   "execution_count": 56,
   "metadata": {},
   "outputs": [],
   "source": [
    "# 중복값을 제거하되, 중복 Row 중 첫번째 Row를 남기는 옵션을 선택함\n",
    "train.drop_duplicates(subset='msno', keep='first', inplace=True)\n",
    "train.query('msno in \"+++hVY1rZox/33YtvDgmKA2Frg/2qhkz12B9ylCvh8o=\"')\n",
    "# version 컬럼 제거\n",
    "train = train.drop('version', axis=1)"
   ]
  },
  {
   "cell_type": "code",
   "execution_count": 52,
   "metadata": {},
   "outputs": [
    {
     "name": "stdout",
     "output_type": "stream",
     "text": [
      "msno\n",
      "Rb9UwLQTrxzBVwCB6+bCcSQWZ9JiNLC9dXtM1oEsZA8=    1\n",
      "PGMUlQdko0uXXoCQPExJlol12c10nQfLOetUAY6B3lY=    1\n",
      "Xc7Z1KCy0h1hlnDSNQTRDoJFWSf2Ory93q97YtRNnQo=    1\n",
      "Xr9r7F/tUtVoxu9MCJXK/27YBVy/nnj1ekVFyEH3YDY=    1\n",
      "aoHHsM5ESvp0tjzxVJrDEkuHeWl+PD/6/Kx24B/T6FY=    1\n",
      "                                               ..\n",
      "XB9rxThgZ9W5xF1po2gwphrgyRN0pa/J/aGJg7WEWV4=    1\n",
      "e6lD1fgl57K4fCCSz4pqs7xSrTvnVuxF0uKNCCctN+U=    1\n",
      "q8DP/lKrwjULVMd/fSk0uO26ndzqG26/TTNpYm8ZGtc=    1\n",
      "W/gRBgE8E7G4RQHsInX208phSSm5L+L1HZax7BrgIHY=    1\n",
      "isBt+JlgvZRNy6lxVr5vvuJ4lD00ofTaKyJ+uRnGcPg=    1\n",
      "Name: count, Length: 6769473, dtype: int64\n"
     ]
    }
   ],
   "source": [
    "print(members['msno'].value_counts())"
   ]
  },
  {
   "cell_type": "code",
   "execution_count": 5,
   "metadata": {},
   "outputs": [
    {
     "data": {
      "text/plain": [
       "(                                           msno  is_churn version\n",
       " 0  waLDQMmcOu2jLDaV1ddDkgCrB/jl6sD66Xzs0Vqax1Y=         1      v1\n",
       " 1  QA7uiXy8vIbUSPOkCf9RwQ3FsT8jVq2OxDr8zqa7bRQ=         1      v1,\n",
       "                                            msno  is_churn version\n",
       " 0  ugx0CjOMzazClkFzU2xasmDZaoIqOUAZPsH1q0teWCg=         1      v2\n",
       " 1  f/NmvEzHfhINFEYZTR05prUdr+E+3+oewvweYz9cCQE=         1      v2)"
      ]
     },
     "execution_count": 5,
     "metadata": {},
     "output_type": "execute_result"
    }
   ],
   "source": [
    "# train_v1과 train_v2에 각각 'version'이라는 Column을 만들고 'v1', 'v2'라는 값을 채워넣음\n",
    "# train_v1 = train_v1.withColumn('version', lit('v1'))\n",
    "train_v1['version'] = 'v1'\n",
    "# train_v2 = train_v2.withColumn('version', lit('v2'))\n",
    "train_v2['version'] = 'v2'\n",
    "train_v1.head(2), train_v2.head(2)"
   ]
  },
  {
   "cell_type": "code",
   "execution_count": 45,
   "metadata": {},
   "outputs": [
    {
     "data": {
      "text/html": [
       "<div>\n",
       "<style scoped>\n",
       "    .dataframe tbody tr th:only-of-type {\n",
       "        vertical-align: middle;\n",
       "    }\n",
       "\n",
       "    .dataframe tbody tr th {\n",
       "        vertical-align: top;\n",
       "    }\n",
       "\n",
       "    .dataframe thead th {\n",
       "        text-align: right;\n",
       "    }\n",
       "</style>\n",
       "<table border=\"1\" class=\"dataframe\">\n",
       "  <thead>\n",
       "    <tr style=\"text-align: right;\">\n",
       "      <th></th>\n",
       "      <th>msno</th>\n",
       "      <th>is_churn</th>\n",
       "      <th>version</th>\n",
       "    </tr>\n",
       "  </thead>\n",
       "  <tbody>\n",
       "    <tr>\n",
       "      <th>0</th>\n",
       "      <td>+++hVY1rZox/33YtvDgmKA2Frg/2qhkz12B9ylCvh8o=</td>\n",
       "      <td>0</td>\n",
       "      <td>v2</td>\n",
       "    </tr>\n",
       "    <tr>\n",
       "      <th>1</th>\n",
       "      <td>+++hVY1rZox/33YtvDgmKA2Frg/2qhkz12B9ylCvh8o=</td>\n",
       "      <td>0</td>\n",
       "      <td>v1</td>\n",
       "    </tr>\n",
       "    <tr>\n",
       "      <th>2</th>\n",
       "      <td>+++l/EXNMLTijfLBa8p2TUVVVp2aFGSuUI/h7mLmthw=</td>\n",
       "      <td>0</td>\n",
       "      <td>v2</td>\n",
       "    </tr>\n",
       "    <tr>\n",
       "      <th>3</th>\n",
       "      <td>+++l/EXNMLTijfLBa8p2TUVVVp2aFGSuUI/h7mLmthw=</td>\n",
       "      <td>0</td>\n",
       "      <td>v1</td>\n",
       "    </tr>\n",
       "    <tr>\n",
       "      <th>4</th>\n",
       "      <td>+++snpr7pmobhLKUgSHTv/mpkqgBT0tQJ0zQj6qKrqc=</td>\n",
       "      <td>0</td>\n",
       "      <td>v2</td>\n",
       "    </tr>\n",
       "  </tbody>\n",
       "</table>\n",
       "</div>"
      ],
      "text/plain": [
       "                                           msno  is_churn version\n",
       "0  +++hVY1rZox/33YtvDgmKA2Frg/2qhkz12B9ylCvh8o=         0      v2\n",
       "1  +++hVY1rZox/33YtvDgmKA2Frg/2qhkz12B9ylCvh8o=         0      v1\n",
       "2  +++l/EXNMLTijfLBa8p2TUVVVp2aFGSuUI/h7mLmthw=         0      v2\n",
       "3  +++l/EXNMLTijfLBa8p2TUVVVp2aFGSuUI/h7mLmthw=         0      v1\n",
       "4  +++snpr7pmobhLKUgSHTv/mpkqgBT0tQJ0zQj6qKrqc=         0      v2"
      ]
     },
     "execution_count": 45,
     "metadata": {},
     "output_type": "execute_result"
    }
   ],
   "source": [
    "# train_v1과 train_v2를 Union 연산으로 합친 후 'msno', 'version'의 값에 따라 정렬\n",
    "# train이라는 변수에 다시 할당하며, 'version'은 내림차순으로 정렬\n",
    "# train = train_v1.union(train_v2).sort(['msno', 'version'], ascending = [1, 0])\n",
    "train = pd.concat([train_v1, train_v2])\n",
    "train = train.sort_values(['msno', 'version'], ascending = [True, False]).reset_index(drop=True)\n",
    "# train[train['msno'] in \"++9JUsaZioofS6Fb2%\"]\n",
    "train.head()"
   ]
  },
  {
   "cell_type": "code",
   "execution_count": 51,
   "metadata": {},
   "outputs": [
    {
     "data": {
      "text/html": [
       "<div>\n",
       "<style scoped>\n",
       "    .dataframe tbody tr th:only-of-type {\n",
       "        vertical-align: middle;\n",
       "    }\n",
       "\n",
       "    .dataframe tbody tr th {\n",
       "        vertical-align: top;\n",
       "    }\n",
       "\n",
       "    .dataframe thead th {\n",
       "        text-align: right;\n",
       "    }\n",
       "</style>\n",
       "<table border=\"1\" class=\"dataframe\">\n",
       "  <thead>\n",
       "    <tr style=\"text-align: right;\">\n",
       "      <th></th>\n",
       "      <th>msno</th>\n",
       "      <th>is_churn</th>\n",
       "      <th>version</th>\n",
       "      <th>is_back</th>\n",
       "    </tr>\n",
       "  </thead>\n",
       "  <tbody>\n",
       "    <tr>\n",
       "      <th>217</th>\n",
       "      <td>++ViQ2i7L4hzLdBQ233Z8p4AxK9Vr38lSqZS09d2M84=</td>\n",
       "      <td>0</td>\n",
       "      <td>v2</td>\n",
       "      <td>1</td>\n",
       "    </tr>\n",
       "    <tr>\n",
       "      <th>218</th>\n",
       "      <td>++ViQ2i7L4hzLdBQ233Z8p4AxK9Vr38lSqZS09d2M84=</td>\n",
       "      <td>1</td>\n",
       "      <td>v1</td>\n",
       "      <td>1</td>\n",
       "    </tr>\n",
       "    <tr>\n",
       "      <th>1086</th>\n",
       "      <td>+0IB7MWTM4NvIKKwyMxj3eZNx1qScVFMVfJyOXN17ns=</td>\n",
       "      <td>0</td>\n",
       "      <td>v2</td>\n",
       "      <td>1</td>\n",
       "    </tr>\n",
       "    <tr>\n",
       "      <th>1087</th>\n",
       "      <td>+0IB7MWTM4NvIKKwyMxj3eZNx1qScVFMVfJyOXN17ns=</td>\n",
       "      <td>1</td>\n",
       "      <td>v1</td>\n",
       "      <td>1</td>\n",
       "    </tr>\n",
       "    <tr>\n",
       "      <th>1223</th>\n",
       "      <td>+0YmUYR0D0TlksmWTnLZYbpnE6XIER+beos5d5y69Xs=</td>\n",
       "      <td>0</td>\n",
       "      <td>v2</td>\n",
       "      <td>1</td>\n",
       "    </tr>\n",
       "    <tr>\n",
       "      <th>...</th>\n",
       "      <td>...</td>\n",
       "      <td>...</td>\n",
       "      <td>...</td>\n",
       "      <td>...</td>\n",
       "    </tr>\n",
       "    <tr>\n",
       "      <th>1962429</th>\n",
       "      <td>zwnDcSlUD75+UbGgzM9JAlGsFQZvuKTd8EQRWO1RTm4=</td>\n",
       "      <td>1</td>\n",
       "      <td>v1</td>\n",
       "      <td>1</td>\n",
       "    </tr>\n",
       "    <tr>\n",
       "      <th>1962625</th>\n",
       "      <td>zxDfZ61ZgAWmJIREucBs+oDprVEBbvtZAm6reUcPsqY=</td>\n",
       "      <td>0</td>\n",
       "      <td>v2</td>\n",
       "      <td>1</td>\n",
       "    </tr>\n",
       "    <tr>\n",
       "      <th>1962626</th>\n",
       "      <td>zxDfZ61ZgAWmJIREucBs+oDprVEBbvtZAm6reUcPsqY=</td>\n",
       "      <td>1</td>\n",
       "      <td>v1</td>\n",
       "      <td>1</td>\n",
       "    </tr>\n",
       "    <tr>\n",
       "      <th>1963267</th>\n",
       "      <td>zyZuDPFIkg0VDa7tAr0zQVAhLtwhZR3qXuhvTrtNV8E=</td>\n",
       "      <td>0</td>\n",
       "      <td>v2</td>\n",
       "      <td>1</td>\n",
       "    </tr>\n",
       "    <tr>\n",
       "      <th>1963268</th>\n",
       "      <td>zyZuDPFIkg0VDa7tAr0zQVAhLtwhZR3qXuhvTrtNV8E=</td>\n",
       "      <td>1</td>\n",
       "      <td>v1</td>\n",
       "      <td>1</td>\n",
       "    </tr>\n",
       "  </tbody>\n",
       "</table>\n",
       "<p>10538 rows × 4 columns</p>\n",
       "</div>"
      ],
      "text/plain": [
       "                                                 msno  is_churn version  \\\n",
       "217      ++ViQ2i7L4hzLdBQ233Z8p4AxK9Vr38lSqZS09d2M84=         0      v2   \n",
       "218      ++ViQ2i7L4hzLdBQ233Z8p4AxK9Vr38lSqZS09d2M84=         1      v1   \n",
       "1086     +0IB7MWTM4NvIKKwyMxj3eZNx1qScVFMVfJyOXN17ns=         0      v2   \n",
       "1087     +0IB7MWTM4NvIKKwyMxj3eZNx1qScVFMVfJyOXN17ns=         1      v1   \n",
       "1223     +0YmUYR0D0TlksmWTnLZYbpnE6XIER+beos5d5y69Xs=         0      v2   \n",
       "...                                               ...       ...     ...   \n",
       "1962429  zwnDcSlUD75+UbGgzM9JAlGsFQZvuKTd8EQRWO1RTm4=         1      v1   \n",
       "1962625  zxDfZ61ZgAWmJIREucBs+oDprVEBbvtZAm6reUcPsqY=         0      v2   \n",
       "1962626  zxDfZ61ZgAWmJIREucBs+oDprVEBbvtZAm6reUcPsqY=         1      v1   \n",
       "1963267  zyZuDPFIkg0VDa7tAr0zQVAhLtwhZR3qXuhvTrtNV8E=         0      v2   \n",
       "1963268  zyZuDPFIkg0VDa7tAr0zQVAhLtwhZR3qXuhvTrtNV8E=         1      v1   \n",
       "\n",
       "         is_back  \n",
       "217            1  \n",
       "218            1  \n",
       "1086           1  \n",
       "1087           1  \n",
       "1223           1  \n",
       "...          ...  \n",
       "1962429        1  \n",
       "1962625        1  \n",
       "1962626        1  \n",
       "1963267        1  \n",
       "1963268        1  \n",
       "\n",
       "[10538 rows x 4 columns]"
      ]
     },
     "execution_count": 51,
     "metadata": {},
     "output_type": "execute_result"
    }
   ],
   "source": [
    "aa = train['msno'][(train['is_churn'] == 0) & (train['version'] == 'v2')]\n",
    "bb = train['msno'][(train['is_churn'] == 1) & (train['version'] == 'v1')]\n",
    "cc = list(set(aa) & set(bb))\n",
    "dd = train[train['msno'].isin(cc)]\n",
    "# ee = dd[(dd['is_churn'] == 0) & (dd['version'] == 'v2')]\n",
    "train[train['msno'].isin(dd['msno'])]"
   ]
  },
  {
   "cell_type": "code",
   "execution_count": 48,
   "metadata": {},
   "outputs": [
    {
     "data": {
      "text/html": [
       "<div>\n",
       "<style scoped>\n",
       "    .dataframe tbody tr th:only-of-type {\n",
       "        vertical-align: middle;\n",
       "    }\n",
       "\n",
       "    .dataframe tbody tr th {\n",
       "        vertical-align: top;\n",
       "    }\n",
       "\n",
       "    .dataframe thead th {\n",
       "        text-align: right;\n",
       "    }\n",
       "</style>\n",
       "<table border=\"1\" class=\"dataframe\">\n",
       "  <thead>\n",
       "    <tr style=\"text-align: right;\">\n",
       "      <th></th>\n",
       "      <th>msno</th>\n",
       "      <th>is_churn</th>\n",
       "      <th>version</th>\n",
       "      <th>is_back</th>\n",
       "    </tr>\n",
       "  </thead>\n",
       "  <tbody>\n",
       "    <tr>\n",
       "      <th>217</th>\n",
       "      <td>++ViQ2i7L4hzLdBQ233Z8p4AxK9Vr38lSqZS09d2M84=</td>\n",
       "      <td>0</td>\n",
       "      <td>v2</td>\n",
       "      <td>1</td>\n",
       "    </tr>\n",
       "    <tr>\n",
       "      <th>218</th>\n",
       "      <td>++ViQ2i7L4hzLdBQ233Z8p4AxK9Vr38lSqZS09d2M84=</td>\n",
       "      <td>1</td>\n",
       "      <td>v1</td>\n",
       "      <td>1</td>\n",
       "    </tr>\n",
       "    <tr>\n",
       "      <th>1086</th>\n",
       "      <td>+0IB7MWTM4NvIKKwyMxj3eZNx1qScVFMVfJyOXN17ns=</td>\n",
       "      <td>0</td>\n",
       "      <td>v2</td>\n",
       "      <td>1</td>\n",
       "    </tr>\n",
       "    <tr>\n",
       "      <th>1087</th>\n",
       "      <td>+0IB7MWTM4NvIKKwyMxj3eZNx1qScVFMVfJyOXN17ns=</td>\n",
       "      <td>1</td>\n",
       "      <td>v1</td>\n",
       "      <td>1</td>\n",
       "    </tr>\n",
       "    <tr>\n",
       "      <th>1223</th>\n",
       "      <td>+0YmUYR0D0TlksmWTnLZYbpnE6XIER+beos5d5y69Xs=</td>\n",
       "      <td>0</td>\n",
       "      <td>v2</td>\n",
       "      <td>1</td>\n",
       "    </tr>\n",
       "    <tr>\n",
       "      <th>...</th>\n",
       "      <td>...</td>\n",
       "      <td>...</td>\n",
       "      <td>...</td>\n",
       "      <td>...</td>\n",
       "    </tr>\n",
       "    <tr>\n",
       "      <th>1962429</th>\n",
       "      <td>zwnDcSlUD75+UbGgzM9JAlGsFQZvuKTd8EQRWO1RTm4=</td>\n",
       "      <td>1</td>\n",
       "      <td>v1</td>\n",
       "      <td>1</td>\n",
       "    </tr>\n",
       "    <tr>\n",
       "      <th>1962625</th>\n",
       "      <td>zxDfZ61ZgAWmJIREucBs+oDprVEBbvtZAm6reUcPsqY=</td>\n",
       "      <td>0</td>\n",
       "      <td>v2</td>\n",
       "      <td>1</td>\n",
       "    </tr>\n",
       "    <tr>\n",
       "      <th>1962626</th>\n",
       "      <td>zxDfZ61ZgAWmJIREucBs+oDprVEBbvtZAm6reUcPsqY=</td>\n",
       "      <td>1</td>\n",
       "      <td>v1</td>\n",
       "      <td>1</td>\n",
       "    </tr>\n",
       "    <tr>\n",
       "      <th>1963267</th>\n",
       "      <td>zyZuDPFIkg0VDa7tAr0zQVAhLtwhZR3qXuhvTrtNV8E=</td>\n",
       "      <td>0</td>\n",
       "      <td>v2</td>\n",
       "      <td>1</td>\n",
       "    </tr>\n",
       "    <tr>\n",
       "      <th>1963268</th>\n",
       "      <td>zyZuDPFIkg0VDa7tAr0zQVAhLtwhZR3qXuhvTrtNV8E=</td>\n",
       "      <td>1</td>\n",
       "      <td>v1</td>\n",
       "      <td>1</td>\n",
       "    </tr>\n",
       "  </tbody>\n",
       "</table>\n",
       "<p>10538 rows × 4 columns</p>\n",
       "</div>"
      ],
      "text/plain": [
       "                                                 msno  is_churn version  \\\n",
       "217      ++ViQ2i7L4hzLdBQ233Z8p4AxK9Vr38lSqZS09d2M84=         0      v2   \n",
       "218      ++ViQ2i7L4hzLdBQ233Z8p4AxK9Vr38lSqZS09d2M84=         1      v1   \n",
       "1086     +0IB7MWTM4NvIKKwyMxj3eZNx1qScVFMVfJyOXN17ns=         0      v2   \n",
       "1087     +0IB7MWTM4NvIKKwyMxj3eZNx1qScVFMVfJyOXN17ns=         1      v1   \n",
       "1223     +0YmUYR0D0TlksmWTnLZYbpnE6XIER+beos5d5y69Xs=         0      v2   \n",
       "...                                               ...       ...     ...   \n",
       "1962429  zwnDcSlUD75+UbGgzM9JAlGsFQZvuKTd8EQRWO1RTm4=         1      v1   \n",
       "1962625  zxDfZ61ZgAWmJIREucBs+oDprVEBbvtZAm6reUcPsqY=         0      v2   \n",
       "1962626  zxDfZ61ZgAWmJIREucBs+oDprVEBbvtZAm6reUcPsqY=         1      v1   \n",
       "1963267  zyZuDPFIkg0VDa7tAr0zQVAhLtwhZR3qXuhvTrtNV8E=         0      v2   \n",
       "1963268  zyZuDPFIkg0VDa7tAr0zQVAhLtwhZR3qXuhvTrtNV8E=         1      v1   \n",
       "\n",
       "         is_back  \n",
       "217            1  \n",
       "218            1  \n",
       "1086           1  \n",
       "1087           1  \n",
       "1223           1  \n",
       "...          ...  \n",
       "1962429        1  \n",
       "1962625        1  \n",
       "1962626        1  \n",
       "1963267        1  \n",
       "1963268        1  \n",
       "\n",
       "[10538 rows x 4 columns]"
      ]
     },
     "execution_count": 48,
     "metadata": {},
     "output_type": "execute_result"
    }
   ],
   "source": [
    "train['is_back'] = train['msno'].isin(cc).astype(int)\n",
    "train[train['is_back'] == 1]"
   ]
  },
  {
   "cell_type": "code",
   "execution_count": 49,
   "metadata": {},
   "outputs": [
    {
     "data": {
      "text/plain": [
       "(1963891, 4)"
      ]
     },
     "execution_count": 49,
     "metadata": {},
     "output_type": "execute_result"
    }
   ],
   "source": [
    "train.shape"
   ]
  },
  {
   "cell_type": "code",
   "execution_count": 8,
   "metadata": {},
   "outputs": [
    {
     "data": {
      "text/plain": [
       "False"
      ]
     },
     "execution_count": 8,
     "metadata": {},
     "output_type": "execute_result"
    }
   ],
   "source": [
    "train['msno'][-2:-1].values[0] == train['msno'][-1:].values[0]"
   ]
  },
  {
   "cell_type": "code",
   "execution_count": 9,
   "metadata": {},
   "outputs": [
    {
     "data": {
      "text/html": [
       "<div>\n",
       "<style scoped>\n",
       "    .dataframe tbody tr th:only-of-type {\n",
       "        vertical-align: middle;\n",
       "    }\n",
       "\n",
       "    .dataframe tbody tr th {\n",
       "        vertical-align: top;\n",
       "    }\n",
       "\n",
       "    .dataframe thead th {\n",
       "        text-align: right;\n",
       "    }\n",
       "</style>\n",
       "<table border=\"1\" class=\"dataframe\">\n",
       "  <thead>\n",
       "    <tr style=\"text-align: right;\">\n",
       "      <th></th>\n",
       "      <th>msno</th>\n",
       "      <th>is_churn</th>\n",
       "      <th>version</th>\n",
       "    </tr>\n",
       "  </thead>\n",
       "  <tbody>\n",
       "    <tr>\n",
       "      <th>0</th>\n",
       "      <td>+++hVY1rZox/33YtvDgmKA2Frg/2qhkz12B9ylCvh8o=</td>\n",
       "      <td>0</td>\n",
       "      <td>v2</td>\n",
       "    </tr>\n",
       "    <tr>\n",
       "      <th>1</th>\n",
       "      <td>+++hVY1rZox/33YtvDgmKA2Frg/2qhkz12B9ylCvh8o=</td>\n",
       "      <td>0</td>\n",
       "      <td>v1</td>\n",
       "    </tr>\n",
       "  </tbody>\n",
       "</table>\n",
       "</div>"
      ],
      "text/plain": [
       "                                           msno  is_churn version\n",
       "0  +++hVY1rZox/33YtvDgmKA2Frg/2qhkz12B9ylCvh8o=         0      v2\n",
       "1  +++hVY1rZox/33YtvDgmKA2Frg/2qhkz12B9ylCvh8o=         0      v1"
      ]
     },
     "execution_count": 9,
     "metadata": {},
     "output_type": "execute_result"
    }
   ],
   "source": [
    "# train[train['msno'].str.contains(\"++9JUsaZioofS6Fb2%\")]\n",
    "# train.query('msno.str.contains(\"++9JUsaZioofS6Fb2%\")')\n",
    "train.query('msno in \"+++hVY1rZox/33YtvDgmKA2Frg/2qhkz12B9ylCvh8o=\"')"
   ]
  },
  {
   "cell_type": "code",
   "execution_count": 10,
   "metadata": {},
   "outputs": [
    {
     "data": {
      "text/html": [
       "<div>\n",
       "<style scoped>\n",
       "    .dataframe tbody tr th:only-of-type {\n",
       "        vertical-align: middle;\n",
       "    }\n",
       "\n",
       "    .dataframe tbody tr th {\n",
       "        vertical-align: top;\n",
       "    }\n",
       "\n",
       "    .dataframe thead th {\n",
       "        text-align: right;\n",
       "    }\n",
       "</style>\n",
       "<table border=\"1\" class=\"dataframe\">\n",
       "  <thead>\n",
       "    <tr style=\"text-align: right;\">\n",
       "      <th></th>\n",
       "      <th>msno</th>\n",
       "      <th>is_churn</th>\n",
       "      <th>version</th>\n",
       "    </tr>\n",
       "  </thead>\n",
       "  <tbody>\n",
       "    <tr>\n",
       "      <th>0</th>\n",
       "      <td>+++hVY1rZox/33YtvDgmKA2Frg/2qhkz12B9ylCvh8o=</td>\n",
       "      <td>0</td>\n",
       "      <td>v2</td>\n",
       "    </tr>\n",
       "  </tbody>\n",
       "</table>\n",
       "</div>"
      ],
      "text/plain": [
       "                                           msno  is_churn version\n",
       "0  +++hVY1rZox/33YtvDgmKA2Frg/2qhkz12B9ylCvh8o=         0      v2"
      ]
     },
     "execution_count": 10,
     "metadata": {},
     "output_type": "execute_result"
    }
   ],
   "source": [
    "# 중복값을 제거하되, 중복 Row 중 첫번째 Row를 남기는 옵션을 선택함\n",
    "# w = Window().partitionBy('msno').orderBy(col('version').desc())\n",
    "# train = train.withColumn('rn', row_number().over(w)).filter(col('rn')==1).drop('rn')\n",
    "# train.filter(train.msno.like(\"++9JUsaZioofS6Fb2%\")).show()\n",
    "\n",
    "train.drop_duplicates(subset='msno', keep='first', inplace=True)\n",
    "train.query('msno in \"+++hVY1rZox/33YtvDgmKA2Frg/2qhkz12B9ylCvh8o=\"')"
   ]
  },
  {
   "cell_type": "code",
   "execution_count": 11,
   "metadata": {},
   "outputs": [
    {
     "data": {
      "text/html": [
       "<div>\n",
       "<style scoped>\n",
       "    .dataframe tbody tr th:only-of-type {\n",
       "        vertical-align: middle;\n",
       "    }\n",
       "\n",
       "    .dataframe tbody tr th {\n",
       "        vertical-align: top;\n",
       "    }\n",
       "\n",
       "    .dataframe thead th {\n",
       "        text-align: right;\n",
       "    }\n",
       "</style>\n",
       "<table border=\"1\" class=\"dataframe\">\n",
       "  <thead>\n",
       "    <tr style=\"text-align: right;\">\n",
       "      <th></th>\n",
       "      <th>msno</th>\n",
       "      <th>is_churn</th>\n",
       "    </tr>\n",
       "  </thead>\n",
       "  <tbody>\n",
       "    <tr>\n",
       "      <th>0</th>\n",
       "      <td>+++hVY1rZox/33YtvDgmKA2Frg/2qhkz12B9ylCvh8o=</td>\n",
       "      <td>0</td>\n",
       "    </tr>\n",
       "  </tbody>\n",
       "</table>\n",
       "</div>"
      ],
      "text/plain": [
       "                                           msno  is_churn\n",
       "0  +++hVY1rZox/33YtvDgmKA2Frg/2qhkz12B9ylCvh8o=         0"
      ]
     },
     "execution_count": 11,
     "metadata": {},
     "output_type": "execute_result"
    }
   ],
   "source": [
    "# version 컬럼 제거\n",
    "train = train.drop('version', axis=1)\n",
    "# train.filter(train.msno.like(\"++9JUsaZioofS6Fb2%\")).show()\n",
    "train.query('msno in \"+++hVY1rZox/33YtvDgmKA2Frg/2qhkz12B9ylCvh8o=\"')"
   ]
  },
  {
   "cell_type": "code",
   "execution_count": 57,
   "metadata": {},
   "outputs": [],
   "source": [
    "# 서비스 사용 기록과 구매 기록 데이터 합치기\n",
    "# transactions = transactions_v1.union(transactions_v2).sort(['msno', 'transaction_date'])\n",
    "transactions = pd.concat([transactions_v1, transactions_v2])\n",
    "transactions = transactions.sort_values(['msno', 'transaction_date']).reset_index(drop=True)\n",
    "# user_logs = user_logs_v1.union(user_logs_v2).sort(['msno', 'date'])\n",
    "# user_logs = pd.concat([user_logs_v1, user_logs_v2])\n",
    "# user_logs = user_logs.sort_values(['msno', 'transaction_date']).reset_index(drop=True)"
   ]
  },
  {
   "cell_type": "markdown",
   "metadata": {},
   "source": [
    "### 고객 구분 ID를 일련 번호로 대체하기\n",
    "- 본 데이터셋에서는 고객을 구분하기 위해 18글자 길이의 해쉬값(예: ++9JUsaZioofS6Fb2%)을 사용하는데, 너무 긴 탓에 한 눈에 고객을 구분하기가 쉽지 않음\n",
    "- 위와 같은 이유로 이후 프로젝트 진행에서는 해쉬값을 일련 번호로 대체하고자 함"
   ]
  },
  {
   "cell_type": "code",
   "execution_count": 13,
   "metadata": {},
   "outputs": [
    {
     "data": {
      "text/plain": [
       "array(['+++4vcS9aMH7KWdfh5git6nA5fC5jjisd5H/NcM++WM=',\n",
       "       '+++5EL4GxAvkaQctwqinyuJhkHEofaKoP2EMm0EoRAo=',\n",
       "       '+++A5IxXtG7Qtf8jDzxPT3J2urTd5HyB316rrLG6PtU=', ...,\n",
       "       'zzzueVTwIa5TjXnG2c77bohCVkuksqLkd5mQTP0wTwQ=',\n",
       "       'zzzyOgMk9MljCerbCCYrVtvu85aSCiy7yCMjAEgNYMs=',\n",
       "       'zzzyOgMk9MljCerbCCYrVtvu85aSCiy7yCMjAEgNYMs='], dtype=object)"
      ]
     },
     "execution_count": 13,
     "metadata": {},
     "output_type": "execute_result"
    }
   ],
   "source": [
    "unique_msno = np.append(members['msno'].unique(), train['msno'].unique())\n",
    "unique_msno = np.append(unique_msno, transactions['msno'].unique())\n",
    "unique_msno.sort()\n",
    "unique_msno"
   ]
  },
  {
   "cell_type": "code",
   "execution_count": 58,
   "metadata": {},
   "outputs": [],
   "source": [
    "# msno 고유값 추출\n",
    "unique_msno = pd.concat([\n",
    "    members[['msno']],\n",
    "    train[['msno']],\n",
    "    transactions[['msno']]\n",
    "]).drop_duplicates().reset_index(drop=True)\n",
    "\n",
    "# msno에 대한 고유 번호 할당\n",
    "unique_msno['msno_num'] = range(1, len(unique_msno) + 1)"
   ]
  },
  {
   "cell_type": "code",
   "execution_count": 60,
   "metadata": {},
   "outputs": [
    {
     "data": {
      "text/plain": [
       "7207283"
      ]
     },
     "execution_count": 60,
     "metadata": {},
     "output_type": "execute_result"
    }
   ],
   "source": [
    "len(unique_msno)"
   ]
  },
  {
   "cell_type": "code",
   "execution_count": 62,
   "metadata": {},
   "outputs": [
    {
     "data": {
      "text/plain": [
       "7207283"
      ]
     },
     "execution_count": 62,
     "metadata": {},
     "output_type": "execute_result"
    }
   ],
   "source": [
    "len(unique_msno['msno'].unique())"
   ]
  },
  {
   "cell_type": "code",
   "execution_count": 63,
   "metadata": {},
   "outputs": [],
   "source": [
    "unique_msno.to_csv('./unique_msno.csv', index=False)"
   ]
  },
  {
   "cell_type": "code",
   "execution_count": 109,
   "metadata": {},
   "outputs": [
    {
     "name": "stdout",
     "output_type": "stream",
     "text": [
      "   msno_num  is_churn\n",
      "0   1243772         0\n",
      "1   5813287         0\n",
      "2   3574275         0\n",
      "3   3176456         0\n",
      "4    397420         0\n",
      "   msno_num  city  bd  gender  registered_via  registration_init_time\n",
      "0         1     1   0     NaN              11                20110911\n",
      "1         2     1   0     NaN               7                20110914\n",
      "2         3     1   0     NaN              11                20110915\n",
      "3         4     1   0     NaN              11                20110915\n",
      "4         5     6  32  female               9                20110915\n",
      "   msno_num  payment_method_id  payment_plan_days  plan_list_price  \\\n",
      "0    681048                 35                  7                0   \n",
      "1   3323218                 38                410             1788   \n",
      "2   3323218                 22                395             1599   \n",
      "3   1243772                 41                 30               99   \n",
      "4   1243772                 41                 30               99   \n",
      "\n",
      "   actual_amount_paid  is_auto_renew  transaction_date  \\\n",
      "0                   0              0          20160909   \n",
      "1                1788              0          20151121   \n",
      "2                1599              0          20161023   \n",
      "3                  99              1          20161116   \n",
      "4                  99              1          20161215   \n",
      "\n",
      "   membership_expire_date  is_cancel  \n",
      "0                20160914          0  \n",
      "1                20170104          0  \n",
      "2                20180206          0  \n",
      "3                20161215          0  \n",
      "4                20170115          0  \n"
     ]
    }
   ],
   "source": [
    "# msno 고유값 추출\n",
    "unique_msno = pd.concat([\n",
    "    members[['msno']],\n",
    "    train[['msno']],\n",
    "    transactions[['msno']]\n",
    "]).drop_duplicates().reset_index(drop=True)\n",
    "\n",
    "# msno에 대한 고유 번호 할당\n",
    "unique_msno['msno_num'] = range(1, len(unique_msno) + 1)\n",
    "\n",
    "# 기존 데이터프레임에 msno_num 추가\n",
    "train = train.merge(unique_msno, on='msno', how='left').drop(columns=['msno'])\n",
    "members = members.merge(unique_msno, on='msno', how='left').drop(columns=['msno'])\n",
    "transactions = transactions.merge(unique_msno, on='msno', how='left').drop(columns=['msno'])\n",
    "# user_logs = user_logs.merge(unique_msno, on='msno', how='left').drop(columns=['msno'])\n",
    "\n",
    "# 필요한 컬럼만 선택\n",
    "train = train[['msno_num', 'is_churn']]\n",
    "members = members[['msno_num', 'city', 'bd', 'gender', 'registered_via', 'registration_init_time']]\n",
    "# user_logs = user_logs[['msno_num', 'date', 'num_25', 'num_50','num_75','num_985', 'num_100','num_unq','total_secs']]\n",
    "transactions = transactions[['msno_num', 'payment_method_id', 'payment_plan_days', 'plan_list_price', 'actual_amount_paid', 'is_auto_renew', 'transaction_date', 'membership_expire_date', 'is_cancel']]\n",
    "\n",
    "# 변환된 데이터 확인\n",
    "print(train.head())\n",
    "print(members.head())\n",
    "print(transactions.head())\n",
    "# print(user_logs.head())\n"
   ]
  },
  {
   "cell_type": "markdown",
   "metadata": {},
   "source": [
    "### 날짜 데이터의 형식을 Integer에서 Date로 변경하기"
   ]
  },
  {
   "cell_type": "code",
   "execution_count": 110,
   "metadata": {},
   "outputs": [
    {
     "ename": "TypeError",
     "evalue": "unhashable type: 'DataFrame'",
     "output_type": "error",
     "traceback": [
      "\u001b[1;31m---------------------------------------------------------------------------\u001b[0m",
      "\u001b[1;31mTypeError\u001b[0m                                 Traceback (most recent call last)",
      "Cell \u001b[1;32mIn[110], line 1\u001b[0m\n\u001b[1;32m----> 1\u001b[0m date_dict \u001b[38;5;241m=\u001b[39m {members : [\u001b[38;5;124m'\u001b[39m\u001b[38;5;124mnew_members\u001b[39m\u001b[38;5;124m'\u001b[39m, [\u001b[38;5;124m'\u001b[39m\u001b[38;5;124mregistration_init_time\u001b[39m\u001b[38;5;124m'\u001b[39m]],\n\u001b[0;32m      2\u001b[0m              transactions : [\u001b[38;5;124m'\u001b[39m\u001b[38;5;124mnew_transactions\u001b[39m\u001b[38;5;124m'\u001b[39m, [\u001b[38;5;124m'\u001b[39m\u001b[38;5;124mtransaction_date\u001b[39m\u001b[38;5;124m'\u001b[39m, \u001b[38;5;124m'\u001b[39m\u001b[38;5;124mmembership_expire_date\u001b[39m\u001b[38;5;124m'\u001b[39m]]\n\u001b[0;32m      3\u001b[0m             \u001b[38;5;66;03m#  , user_logs : ['new_user_logs', ['date']]\u001b[39;00m\n\u001b[0;32m      4\u001b[0m              }\n\u001b[0;32m      6\u001b[0m \u001b[38;5;28;01mfor\u001b[39;00m key, value \u001b[38;5;129;01min\u001b[39;00m date_dict\u001b[38;5;241m.\u001b[39mitems():\n\u001b[0;32m      7\u001b[0m   \u001b[38;5;28;01mfor\u001b[39;00m d_col \u001b[38;5;129;01min\u001b[39;00m value[\u001b[38;5;241m1\u001b[39m]:\n",
      "\u001b[1;31mTypeError\u001b[0m: unhashable type: 'DataFrame'"
     ]
    }
   ],
   "source": [
    "date_dict = {members : ['new_members', ['registration_init_time']],\n",
    "             transactions : ['new_transactions', ['transaction_date', 'membership_expire_date']]\n",
    "            #  , user_logs : ['new_user_logs', ['date']]\n",
    "             }\n",
    "\n",
    "for key, value in date_dict.items():\n",
    "  for d_col in value[1]:\n",
    "    key = key.withColumn(d_col, col(d_col).cast('string')).select('*')\n",
    "    key = key.withColumn(d_col, to_date(concat(col(d_col).substr(1, 4),\n",
    "                                               lit('-'),\n",
    "                                               col(d_col).substr(5, 2),\n",
    "                                               lit('-'),\n",
    "                                               col(d_col).substr(7, 2)))).select('*')\n",
    "  value[0] = key\n",
    "  \n",
    "members = date_dict[members][0]\n",
    "transactions = date_dict[transactions][0]\n",
    "# user_logs = date_dict[user_logs][0]"
   ]
  },
  {
   "cell_type": "markdown",
   "metadata": {},
   "source": [
    "### 이탈 여부를 확인할 수 있는 고객 확인"
   ]
  },
  {
   "cell_type": "code",
   "execution_count": null,
   "metadata": {},
   "outputs": [],
   "source": [
    "# 각 데이터의 고객 집합 변수로 저장하기\n",
    "user_logs_msno = set(user_logs.select(col('msno_num')).distinct().toPandas()['msno_num'])\n",
    "train_msno = set(train.select(col('msno_num')).distinct().toPandas()['msno_num'])\n",
    "transactions_msno = set(transactions.select(col('msno_num')).distinct().toPandas()['msno_num'])\n",
    "members_msno = set(members.select(col('msno_num')).distinct().toPandas()['msno_num'])\n",
    "\n",
    "# 고객 집합 벤다이어그램으로 나타내기\n",
    "labels = venn.get_labels([user_logs_msno, train_msno, transactions_msno, members_msno], fill = ['number'])\n",
    "venn.venn5(labels, names = ['user_logs', 'train', 'transactions', 'members'], figsize = (12, 12))\n",
    "plt.show()"
   ]
  },
  {
   "cell_type": "code",
   "execution_count": null,
   "metadata": {},
   "outputs": [],
   "source": [
    "# sampling 가능한 msno 리스트 확보하기\n",
    "A = members.groupBy('msno_num').count()\n",
    "B = train.groupBy('msno_num').count()\n",
    "C = transactions.groupBy('msno_num').count()\n",
    "D = user_logs.groupBy('msno_num').count()\n",
    "\n",
    "sample_target_msno_all = A.join(B, on = 'msno_num', how = 'inner')\\\n",
    "                          .join(C, on = 'msno_num', how = 'inner')\\\n",
    "                          .join(D, on = 'msno_num', how = 'inner').distinct().drop('count')\n",
    "\n",
    "total_pool = sample_target_msno_all.count()\n",
    "print('샘플링이 가능한(4개 데이터셋에서 모두 존재하는) 이용자는 총 {}명입니다.'.format(total_pool))\n",
    "\n",
    "# sample 비율 정하기\n",
    "sample_ratio = 0.65\n",
    "sample_target_msno = sample_target_msno_all.sample(sample_ratio).toPandas()\n",
    "print('{}명 중 {}%를 샘플링하여 총 {}명을 train 및 test 데이터로 확정합니다.'.format(total_pool, sample_ratio * 100, len(sample_target_msno['msno_num'])))\n",
    "     "
   ]
  },
  {
   "cell_type": "code",
   "execution_count": null,
   "metadata": {},
   "outputs": [],
   "source": [
    "table_dict = {train : 'sample_train.parquet', members : 'sample_members.parquet', \n",
    "              transactions : 'sample_transactions.parquet', user_logs : 'sample_user_logs.parquet'}\n",
    "for key, value in table_dict.items():\n",
    "    key.filter(col('msno_num').isin(list(sample_target_msno['msno_num'])))\\\n",
    "       .coalesce(1).write.mode(\"overwrite\").option(\"header\", \"true\").parquet('./data/sample (ratio = 0.65)/' + value)"
   ]
  }
 ],
 "metadata": {
  "kernelspec": {
   "display_name": "pystudy_env",
   "language": "python",
   "name": "python3"
  },
  "language_info": {
   "codemirror_mode": {
    "name": "ipython",
    "version": 3
   },
   "file_extension": ".py",
   "mimetype": "text/x-python",
   "name": "python",
   "nbconvert_exporter": "python",
   "pygments_lexer": "ipython3",
   "version": "3.12.8"
  }
 },
 "nbformat": 4,
 "nbformat_minor": 2
}
